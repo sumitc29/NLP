{
  "nbformat": 4,
  "nbformat_minor": 0,
  "metadata": {
    "colab": {
      "name": "Verloop.ipynb",
      "provenance": [],
      "authorship_tag": "ABX9TyP7XR9yYZ6nE52vD2TrV2Je",
      "include_colab_link": true
    },
    "kernelspec": {
      "name": "python3",
      "display_name": "Python 3"
    },
    "language_info": {
      "name": "python"
    },
    "accelerator": "GPU",
    "widgets": {
      "application/vnd.jupyter.widget-state+json": {
        "ecbf2465325848298f47b713297cfdb8": {
          "model_module": "@jupyter-widgets/controls",
          "model_name": "HBoxModel",
          "model_module_version": "1.5.0",
          "state": {
            "_view_name": "HBoxView",
            "_dom_classes": [],
            "_model_name": "HBoxModel",
            "_view_module": "@jupyter-widgets/controls",
            "_model_module_version": "1.5.0",
            "_view_count": null,
            "_view_module_version": "1.5.0",
            "box_style": "",
            "layout": "IPY_MODEL_8cae62076f0245928e817598a1cebfb2",
            "_model_module": "@jupyter-widgets/controls",
            "children": [
              "IPY_MODEL_7ba05659422e4fffb740c266688c7652",
              "IPY_MODEL_590d3aa8653a409badc42fd2d3be8eb8",
              "IPY_MODEL_f6d78fa6c0994dc698e0c64e0b448cf0"
            ]
          }
        },
        "8cae62076f0245928e817598a1cebfb2": {
          "model_module": "@jupyter-widgets/base",
          "model_name": "LayoutModel",
          "model_module_version": "1.2.0",
          "state": {
            "_view_name": "LayoutView",
            "grid_template_rows": null,
            "right": null,
            "justify_content": null,
            "_view_module": "@jupyter-widgets/base",
            "overflow": null,
            "_model_module_version": "1.2.0",
            "_view_count": null,
            "flex_flow": null,
            "width": null,
            "min_width": null,
            "border": null,
            "align_items": null,
            "bottom": null,
            "_model_module": "@jupyter-widgets/base",
            "top": null,
            "grid_column": null,
            "overflow_y": null,
            "overflow_x": null,
            "grid_auto_flow": null,
            "grid_area": null,
            "grid_template_columns": null,
            "flex": null,
            "_model_name": "LayoutModel",
            "justify_items": null,
            "grid_row": null,
            "max_height": null,
            "align_content": null,
            "visibility": null,
            "align_self": null,
            "height": null,
            "min_height": null,
            "padding": null,
            "grid_auto_rows": null,
            "grid_gap": null,
            "max_width": null,
            "order": null,
            "_view_module_version": "1.2.0",
            "grid_template_areas": null,
            "object_position": null,
            "object_fit": null,
            "grid_auto_columns": null,
            "margin": null,
            "display": null,
            "left": null
          }
        },
        "7ba05659422e4fffb740c266688c7652": {
          "model_module": "@jupyter-widgets/controls",
          "model_name": "HTMLModel",
          "model_module_version": "1.5.0",
          "state": {
            "_view_name": "HTMLView",
            "style": "IPY_MODEL_dd42061d7ab04c04a106f4826d11c1d4",
            "_dom_classes": [],
            "description": "",
            "_model_name": "HTMLModel",
            "placeholder": "​",
            "_view_module": "@jupyter-widgets/controls",
            "_model_module_version": "1.5.0",
            "value": "100%",
            "_view_count": null,
            "_view_module_version": "1.5.0",
            "description_tooltip": null,
            "_model_module": "@jupyter-widgets/controls",
            "layout": "IPY_MODEL_289aea97614c47c49ee2e9b4dadb3dba"
          }
        },
        "590d3aa8653a409badc42fd2d3be8eb8": {
          "model_module": "@jupyter-widgets/controls",
          "model_name": "FloatProgressModel",
          "model_module_version": "1.5.0",
          "state": {
            "_view_name": "ProgressView",
            "style": "IPY_MODEL_bebded8f24434e969552766dc2d83561",
            "_dom_classes": [],
            "description": "",
            "_model_name": "FloatProgressModel",
            "bar_style": "success",
            "max": 1,
            "_view_module": "@jupyter-widgets/controls",
            "_model_module_version": "1.5.0",
            "value": 1,
            "_view_count": null,
            "_view_module_version": "1.5.0",
            "orientation": "horizontal",
            "min": 0,
            "description_tooltip": null,
            "_model_module": "@jupyter-widgets/controls",
            "layout": "IPY_MODEL_43cba26f2ee544549ea6e0a87e87b1f2"
          }
        },
        "f6d78fa6c0994dc698e0c64e0b448cf0": {
          "model_module": "@jupyter-widgets/controls",
          "model_name": "HTMLModel",
          "model_module_version": "1.5.0",
          "state": {
            "_view_name": "HTMLView",
            "style": "IPY_MODEL_222943f46f424cb7bbe50dacc4fa6bb9",
            "_dom_classes": [],
            "description": "",
            "_model_name": "HTMLModel",
            "placeholder": "​",
            "_view_module": "@jupyter-widgets/controls",
            "_model_module_version": "1.5.0",
            "value": " 1/1 [00:00&lt;00:00,  5.95it/s]",
            "_view_count": null,
            "_view_module_version": "1.5.0",
            "description_tooltip": null,
            "_model_module": "@jupyter-widgets/controls",
            "layout": "IPY_MODEL_468446abce86439db35c2a5ae1c2fcdd"
          }
        },
        "dd42061d7ab04c04a106f4826d11c1d4": {
          "model_module": "@jupyter-widgets/controls",
          "model_name": "DescriptionStyleModel",
          "model_module_version": "1.5.0",
          "state": {
            "_view_name": "StyleView",
            "_model_name": "DescriptionStyleModel",
            "description_width": "",
            "_view_module": "@jupyter-widgets/base",
            "_model_module_version": "1.5.0",
            "_view_count": null,
            "_view_module_version": "1.2.0",
            "_model_module": "@jupyter-widgets/controls"
          }
        },
        "289aea97614c47c49ee2e9b4dadb3dba": {
          "model_module": "@jupyter-widgets/base",
          "model_name": "LayoutModel",
          "model_module_version": "1.2.0",
          "state": {
            "_view_name": "LayoutView",
            "grid_template_rows": null,
            "right": null,
            "justify_content": null,
            "_view_module": "@jupyter-widgets/base",
            "overflow": null,
            "_model_module_version": "1.2.0",
            "_view_count": null,
            "flex_flow": null,
            "width": null,
            "min_width": null,
            "border": null,
            "align_items": null,
            "bottom": null,
            "_model_module": "@jupyter-widgets/base",
            "top": null,
            "grid_column": null,
            "overflow_y": null,
            "overflow_x": null,
            "grid_auto_flow": null,
            "grid_area": null,
            "grid_template_columns": null,
            "flex": null,
            "_model_name": "LayoutModel",
            "justify_items": null,
            "grid_row": null,
            "max_height": null,
            "align_content": null,
            "visibility": null,
            "align_self": null,
            "height": null,
            "min_height": null,
            "padding": null,
            "grid_auto_rows": null,
            "grid_gap": null,
            "max_width": null,
            "order": null,
            "_view_module_version": "1.2.0",
            "grid_template_areas": null,
            "object_position": null,
            "object_fit": null,
            "grid_auto_columns": null,
            "margin": null,
            "display": null,
            "left": null
          }
        },
        "bebded8f24434e969552766dc2d83561": {
          "model_module": "@jupyter-widgets/controls",
          "model_name": "ProgressStyleModel",
          "model_module_version": "1.5.0",
          "state": {
            "_view_name": "StyleView",
            "_model_name": "ProgressStyleModel",
            "description_width": "",
            "_view_module": "@jupyter-widgets/base",
            "_model_module_version": "1.5.0",
            "_view_count": null,
            "_view_module_version": "1.2.0",
            "bar_color": null,
            "_model_module": "@jupyter-widgets/controls"
          }
        },
        "43cba26f2ee544549ea6e0a87e87b1f2": {
          "model_module": "@jupyter-widgets/base",
          "model_name": "LayoutModel",
          "model_module_version": "1.2.0",
          "state": {
            "_view_name": "LayoutView",
            "grid_template_rows": null,
            "right": null,
            "justify_content": null,
            "_view_module": "@jupyter-widgets/base",
            "overflow": null,
            "_model_module_version": "1.2.0",
            "_view_count": null,
            "flex_flow": null,
            "width": null,
            "min_width": null,
            "border": null,
            "align_items": null,
            "bottom": null,
            "_model_module": "@jupyter-widgets/base",
            "top": null,
            "grid_column": null,
            "overflow_y": null,
            "overflow_x": null,
            "grid_auto_flow": null,
            "grid_area": null,
            "grid_template_columns": null,
            "flex": null,
            "_model_name": "LayoutModel",
            "justify_items": null,
            "grid_row": null,
            "max_height": null,
            "align_content": null,
            "visibility": null,
            "align_self": null,
            "height": null,
            "min_height": null,
            "padding": null,
            "grid_auto_rows": null,
            "grid_gap": null,
            "max_width": null,
            "order": null,
            "_view_module_version": "1.2.0",
            "grid_template_areas": null,
            "object_position": null,
            "object_fit": null,
            "grid_auto_columns": null,
            "margin": null,
            "display": null,
            "left": null
          }
        },
        "222943f46f424cb7bbe50dacc4fa6bb9": {
          "model_module": "@jupyter-widgets/controls",
          "model_name": "DescriptionStyleModel",
          "model_module_version": "1.5.0",
          "state": {
            "_view_name": "StyleView",
            "_model_name": "DescriptionStyleModel",
            "description_width": "",
            "_view_module": "@jupyter-widgets/base",
            "_model_module_version": "1.5.0",
            "_view_count": null,
            "_view_module_version": "1.2.0",
            "_model_module": "@jupyter-widgets/controls"
          }
        },
        "468446abce86439db35c2a5ae1c2fcdd": {
          "model_module": "@jupyter-widgets/base",
          "model_name": "LayoutModel",
          "model_module_version": "1.2.0",
          "state": {
            "_view_name": "LayoutView",
            "grid_template_rows": null,
            "right": null,
            "justify_content": null,
            "_view_module": "@jupyter-widgets/base",
            "overflow": null,
            "_model_module_version": "1.2.0",
            "_view_count": null,
            "flex_flow": null,
            "width": null,
            "min_width": null,
            "border": null,
            "align_items": null,
            "bottom": null,
            "_model_module": "@jupyter-widgets/base",
            "top": null,
            "grid_column": null,
            "overflow_y": null,
            "overflow_x": null,
            "grid_auto_flow": null,
            "grid_area": null,
            "grid_template_columns": null,
            "flex": null,
            "_model_name": "LayoutModel",
            "justify_items": null,
            "grid_row": null,
            "max_height": null,
            "align_content": null,
            "visibility": null,
            "align_self": null,
            "height": null,
            "min_height": null,
            "padding": null,
            "grid_auto_rows": null,
            "grid_gap": null,
            "max_width": null,
            "order": null,
            "_view_module_version": "1.2.0",
            "grid_template_areas": null,
            "object_position": null,
            "object_fit": null,
            "grid_auto_columns": null,
            "margin": null,
            "display": null,
            "left": null
          }
        },
        "85abc18a89484e23b831886478c1853d": {
          "model_module": "@jupyter-widgets/controls",
          "model_name": "HBoxModel",
          "model_module_version": "1.5.0",
          "state": {
            "_view_name": "HBoxView",
            "_dom_classes": [],
            "_model_name": "HBoxModel",
            "_view_module": "@jupyter-widgets/controls",
            "_model_module_version": "1.5.0",
            "_view_count": null,
            "_view_module_version": "1.5.0",
            "box_style": "",
            "layout": "IPY_MODEL_c191d752614f4ab7bea4d2d47ba37d96",
            "_model_module": "@jupyter-widgets/controls",
            "children": [
              "IPY_MODEL_e61439d710304153ba1eb39a6a1e54b2",
              "IPY_MODEL_cb17945be4834fda8c0bf563793d2821",
              "IPY_MODEL_81d09b57f86e40b5a7ba300fc963de06"
            ]
          }
        },
        "c191d752614f4ab7bea4d2d47ba37d96": {
          "model_module": "@jupyter-widgets/base",
          "model_name": "LayoutModel",
          "model_module_version": "1.2.0",
          "state": {
            "_view_name": "LayoutView",
            "grid_template_rows": null,
            "right": null,
            "justify_content": null,
            "_view_module": "@jupyter-widgets/base",
            "overflow": null,
            "_model_module_version": "1.2.0",
            "_view_count": null,
            "flex_flow": null,
            "width": null,
            "min_width": null,
            "border": null,
            "align_items": null,
            "bottom": null,
            "_model_module": "@jupyter-widgets/base",
            "top": null,
            "grid_column": null,
            "overflow_y": null,
            "overflow_x": null,
            "grid_auto_flow": null,
            "grid_area": null,
            "grid_template_columns": null,
            "flex": null,
            "_model_name": "LayoutModel",
            "justify_items": null,
            "grid_row": null,
            "max_height": null,
            "align_content": null,
            "visibility": null,
            "align_self": null,
            "height": null,
            "min_height": null,
            "padding": null,
            "grid_auto_rows": null,
            "grid_gap": null,
            "max_width": null,
            "order": null,
            "_view_module_version": "1.2.0",
            "grid_template_areas": null,
            "object_position": null,
            "object_fit": null,
            "grid_auto_columns": null,
            "margin": null,
            "display": null,
            "left": null
          }
        },
        "e61439d710304153ba1eb39a6a1e54b2": {
          "model_module": "@jupyter-widgets/controls",
          "model_name": "HTMLModel",
          "model_module_version": "1.5.0",
          "state": {
            "_view_name": "HTMLView",
            "style": "IPY_MODEL_5e0fb29b097740dc9db0fed496e3f18c",
            "_dom_classes": [],
            "description": "",
            "_model_name": "HTMLModel",
            "placeholder": "​",
            "_view_module": "@jupyter-widgets/controls",
            "_model_module_version": "1.5.0",
            "value": "Epoch 1 of 1: 100%",
            "_view_count": null,
            "_view_module_version": "1.5.0",
            "description_tooltip": null,
            "_model_module": "@jupyter-widgets/controls",
            "layout": "IPY_MODEL_72bebf45c627441586a817968ef11d0b"
          }
        },
        "cb17945be4834fda8c0bf563793d2821": {
          "model_module": "@jupyter-widgets/controls",
          "model_name": "FloatProgressModel",
          "model_module_version": "1.5.0",
          "state": {
            "_view_name": "ProgressView",
            "style": "IPY_MODEL_72a6f2df638a4f7a85cab1134907664b",
            "_dom_classes": [],
            "description": "",
            "_model_name": "FloatProgressModel",
            "bar_style": "success",
            "max": 1,
            "_view_module": "@jupyter-widgets/controls",
            "_model_module_version": "1.5.0",
            "value": 1,
            "_view_count": null,
            "_view_module_version": "1.5.0",
            "orientation": "horizontal",
            "min": 0,
            "description_tooltip": null,
            "_model_module": "@jupyter-widgets/controls",
            "layout": "IPY_MODEL_7b7989bea0704c378f323b75b9447fac"
          }
        },
        "81d09b57f86e40b5a7ba300fc963de06": {
          "model_module": "@jupyter-widgets/controls",
          "model_name": "HTMLModel",
          "model_module_version": "1.5.0",
          "state": {
            "_view_name": "HTMLView",
            "style": "IPY_MODEL_990886f3b2b64701a21c8c2b718be762",
            "_dom_classes": [],
            "description": "",
            "_model_name": "HTMLModel",
            "placeholder": "​",
            "_view_module": "@jupyter-widgets/controls",
            "_model_module_version": "1.5.0",
            "value": " 1/1 [00:13&lt;00:00, 13.21s/it]",
            "_view_count": null,
            "_view_module_version": "1.5.0",
            "description_tooltip": null,
            "_model_module": "@jupyter-widgets/controls",
            "layout": "IPY_MODEL_ffb6df9b389e46b98e52857c49ab0ee1"
          }
        },
        "5e0fb29b097740dc9db0fed496e3f18c": {
          "model_module": "@jupyter-widgets/controls",
          "model_name": "DescriptionStyleModel",
          "model_module_version": "1.5.0",
          "state": {
            "_view_name": "StyleView",
            "_model_name": "DescriptionStyleModel",
            "description_width": "",
            "_view_module": "@jupyter-widgets/base",
            "_model_module_version": "1.5.0",
            "_view_count": null,
            "_view_module_version": "1.2.0",
            "_model_module": "@jupyter-widgets/controls"
          }
        },
        "72bebf45c627441586a817968ef11d0b": {
          "model_module": "@jupyter-widgets/base",
          "model_name": "LayoutModel",
          "model_module_version": "1.2.0",
          "state": {
            "_view_name": "LayoutView",
            "grid_template_rows": null,
            "right": null,
            "justify_content": null,
            "_view_module": "@jupyter-widgets/base",
            "overflow": null,
            "_model_module_version": "1.2.0",
            "_view_count": null,
            "flex_flow": null,
            "width": null,
            "min_width": null,
            "border": null,
            "align_items": null,
            "bottom": null,
            "_model_module": "@jupyter-widgets/base",
            "top": null,
            "grid_column": null,
            "overflow_y": null,
            "overflow_x": null,
            "grid_auto_flow": null,
            "grid_area": null,
            "grid_template_columns": null,
            "flex": null,
            "_model_name": "LayoutModel",
            "justify_items": null,
            "grid_row": null,
            "max_height": null,
            "align_content": null,
            "visibility": null,
            "align_self": null,
            "height": null,
            "min_height": null,
            "padding": null,
            "grid_auto_rows": null,
            "grid_gap": null,
            "max_width": null,
            "order": null,
            "_view_module_version": "1.2.0",
            "grid_template_areas": null,
            "object_position": null,
            "object_fit": null,
            "grid_auto_columns": null,
            "margin": null,
            "display": null,
            "left": null
          }
        },
        "72a6f2df638a4f7a85cab1134907664b": {
          "model_module": "@jupyter-widgets/controls",
          "model_name": "ProgressStyleModel",
          "model_module_version": "1.5.0",
          "state": {
            "_view_name": "StyleView",
            "_model_name": "ProgressStyleModel",
            "description_width": "",
            "_view_module": "@jupyter-widgets/base",
            "_model_module_version": "1.5.0",
            "_view_count": null,
            "_view_module_version": "1.2.0",
            "bar_color": null,
            "_model_module": "@jupyter-widgets/controls"
          }
        },
        "7b7989bea0704c378f323b75b9447fac": {
          "model_module": "@jupyter-widgets/base",
          "model_name": "LayoutModel",
          "model_module_version": "1.2.0",
          "state": {
            "_view_name": "LayoutView",
            "grid_template_rows": null,
            "right": null,
            "justify_content": null,
            "_view_module": "@jupyter-widgets/base",
            "overflow": null,
            "_model_module_version": "1.2.0",
            "_view_count": null,
            "flex_flow": null,
            "width": null,
            "min_width": null,
            "border": null,
            "align_items": null,
            "bottom": null,
            "_model_module": "@jupyter-widgets/base",
            "top": null,
            "grid_column": null,
            "overflow_y": null,
            "overflow_x": null,
            "grid_auto_flow": null,
            "grid_area": null,
            "grid_template_columns": null,
            "flex": null,
            "_model_name": "LayoutModel",
            "justify_items": null,
            "grid_row": null,
            "max_height": null,
            "align_content": null,
            "visibility": null,
            "align_self": null,
            "height": null,
            "min_height": null,
            "padding": null,
            "grid_auto_rows": null,
            "grid_gap": null,
            "max_width": null,
            "order": null,
            "_view_module_version": "1.2.0",
            "grid_template_areas": null,
            "object_position": null,
            "object_fit": null,
            "grid_auto_columns": null,
            "margin": null,
            "display": null,
            "left": null
          }
        },
        "990886f3b2b64701a21c8c2b718be762": {
          "model_module": "@jupyter-widgets/controls",
          "model_name": "DescriptionStyleModel",
          "model_module_version": "1.5.0",
          "state": {
            "_view_name": "StyleView",
            "_model_name": "DescriptionStyleModel",
            "description_width": "",
            "_view_module": "@jupyter-widgets/base",
            "_model_module_version": "1.5.0",
            "_view_count": null,
            "_view_module_version": "1.2.0",
            "_model_module": "@jupyter-widgets/controls"
          }
        },
        "ffb6df9b389e46b98e52857c49ab0ee1": {
          "model_module": "@jupyter-widgets/base",
          "model_name": "LayoutModel",
          "model_module_version": "1.2.0",
          "state": {
            "_view_name": "LayoutView",
            "grid_template_rows": null,
            "right": null,
            "justify_content": null,
            "_view_module": "@jupyter-widgets/base",
            "overflow": null,
            "_model_module_version": "1.2.0",
            "_view_count": null,
            "flex_flow": null,
            "width": null,
            "min_width": null,
            "border": null,
            "align_items": null,
            "bottom": null,
            "_model_module": "@jupyter-widgets/base",
            "top": null,
            "grid_column": null,
            "overflow_y": null,
            "overflow_x": null,
            "grid_auto_flow": null,
            "grid_area": null,
            "grid_template_columns": null,
            "flex": null,
            "_model_name": "LayoutModel",
            "justify_items": null,
            "grid_row": null,
            "max_height": null,
            "align_content": null,
            "visibility": null,
            "align_self": null,
            "height": null,
            "min_height": null,
            "padding": null,
            "grid_auto_rows": null,
            "grid_gap": null,
            "max_width": null,
            "order": null,
            "_view_module_version": "1.2.0",
            "grid_template_areas": null,
            "object_position": null,
            "object_fit": null,
            "grid_auto_columns": null,
            "margin": null,
            "display": null,
            "left": null
          }
        },
        "3fdf2c7d1e8e439c918eac4450c4dd11": {
          "model_module": "@jupyter-widgets/controls",
          "model_name": "HBoxModel",
          "model_module_version": "1.5.0",
          "state": {
            "_view_name": "HBoxView",
            "_dom_classes": [],
            "_model_name": "HBoxModel",
            "_view_module": "@jupyter-widgets/controls",
            "_model_module_version": "1.5.0",
            "_view_count": null,
            "_view_module_version": "1.5.0",
            "box_style": "",
            "layout": "IPY_MODEL_0ab74b9d6c114953be9756cb61136560",
            "_model_module": "@jupyter-widgets/controls",
            "children": [
              "IPY_MODEL_57d7bd4d70494edcbd821c2e42d5eddd",
              "IPY_MODEL_fb697aaac0ed452ba0d7c1e934f5635d",
              "IPY_MODEL_b7bb689023e34208a2a01ddb22cba302"
            ]
          }
        },
        "0ab74b9d6c114953be9756cb61136560": {
          "model_module": "@jupyter-widgets/base",
          "model_name": "LayoutModel",
          "model_module_version": "1.2.0",
          "state": {
            "_view_name": "LayoutView",
            "grid_template_rows": null,
            "right": null,
            "justify_content": null,
            "_view_module": "@jupyter-widgets/base",
            "overflow": null,
            "_model_module_version": "1.2.0",
            "_view_count": null,
            "flex_flow": null,
            "width": null,
            "min_width": null,
            "border": null,
            "align_items": null,
            "bottom": null,
            "_model_module": "@jupyter-widgets/base",
            "top": null,
            "grid_column": null,
            "overflow_y": null,
            "overflow_x": null,
            "grid_auto_flow": null,
            "grid_area": null,
            "grid_template_columns": null,
            "flex": null,
            "_model_name": "LayoutModel",
            "justify_items": null,
            "grid_row": null,
            "max_height": null,
            "align_content": null,
            "visibility": null,
            "align_self": null,
            "height": null,
            "min_height": null,
            "padding": null,
            "grid_auto_rows": null,
            "grid_gap": null,
            "max_width": null,
            "order": null,
            "_view_module_version": "1.2.0",
            "grid_template_areas": null,
            "object_position": null,
            "object_fit": null,
            "grid_auto_columns": null,
            "margin": null,
            "display": null,
            "left": null
          }
        },
        "57d7bd4d70494edcbd821c2e42d5eddd": {
          "model_module": "@jupyter-widgets/controls",
          "model_name": "HTMLModel",
          "model_module_version": "1.5.0",
          "state": {
            "_view_name": "HTMLView",
            "style": "IPY_MODEL_3b859ba86299406f98988d6645f12b5c",
            "_dom_classes": [],
            "description": "",
            "_model_name": "HTMLModel",
            "placeholder": "​",
            "_view_module": "@jupyter-widgets/controls",
            "_model_module_version": "1.5.0",
            "value": "Epochs 0/1. Running Loss:    0.4859: 100%",
            "_view_count": null,
            "_view_module_version": "1.5.0",
            "description_tooltip": null,
            "_model_module": "@jupyter-widgets/controls",
            "layout": "IPY_MODEL_dd7a774e4a8d408aadfcdcf80006a26a"
          }
        },
        "fb697aaac0ed452ba0d7c1e934f5635d": {
          "model_module": "@jupyter-widgets/controls",
          "model_name": "FloatProgressModel",
          "model_module_version": "1.5.0",
          "state": {
            "_view_name": "ProgressView",
            "style": "IPY_MODEL_2b6be3d12e1748b29640c9c62b848c31",
            "_dom_classes": [],
            "description": "",
            "_model_name": "FloatProgressModel",
            "bar_style": "success",
            "max": 26,
            "_view_module": "@jupyter-widgets/controls",
            "_model_module_version": "1.5.0",
            "value": 26,
            "_view_count": null,
            "_view_module_version": "1.5.0",
            "orientation": "horizontal",
            "min": 0,
            "description_tooltip": null,
            "_model_module": "@jupyter-widgets/controls",
            "layout": "IPY_MODEL_791db18ea4854a8281dbe47f49648637"
          }
        },
        "b7bb689023e34208a2a01ddb22cba302": {
          "model_module": "@jupyter-widgets/controls",
          "model_name": "HTMLModel",
          "model_module_version": "1.5.0",
          "state": {
            "_view_name": "HTMLView",
            "style": "IPY_MODEL_95ffd6292bbd4aac8d8793c25bd325dd",
            "_dom_classes": [],
            "description": "",
            "_model_name": "HTMLModel",
            "placeholder": "​",
            "_view_module": "@jupyter-widgets/controls",
            "_model_module_version": "1.5.0",
            "value": " 26/26 [00:08&lt;00:00,  3.24it/s]",
            "_view_count": null,
            "_view_module_version": "1.5.0",
            "description_tooltip": null,
            "_model_module": "@jupyter-widgets/controls",
            "layout": "IPY_MODEL_7195821fce3d45f4bc79f0417bc38f9d"
          }
        },
        "3b859ba86299406f98988d6645f12b5c": {
          "model_module": "@jupyter-widgets/controls",
          "model_name": "DescriptionStyleModel",
          "model_module_version": "1.5.0",
          "state": {
            "_view_name": "StyleView",
            "_model_name": "DescriptionStyleModel",
            "description_width": "",
            "_view_module": "@jupyter-widgets/base",
            "_model_module_version": "1.5.0",
            "_view_count": null,
            "_view_module_version": "1.2.0",
            "_model_module": "@jupyter-widgets/controls"
          }
        },
        "dd7a774e4a8d408aadfcdcf80006a26a": {
          "model_module": "@jupyter-widgets/base",
          "model_name": "LayoutModel",
          "model_module_version": "1.2.0",
          "state": {
            "_view_name": "LayoutView",
            "grid_template_rows": null,
            "right": null,
            "justify_content": null,
            "_view_module": "@jupyter-widgets/base",
            "overflow": null,
            "_model_module_version": "1.2.0",
            "_view_count": null,
            "flex_flow": null,
            "width": null,
            "min_width": null,
            "border": null,
            "align_items": null,
            "bottom": null,
            "_model_module": "@jupyter-widgets/base",
            "top": null,
            "grid_column": null,
            "overflow_y": null,
            "overflow_x": null,
            "grid_auto_flow": null,
            "grid_area": null,
            "grid_template_columns": null,
            "flex": null,
            "_model_name": "LayoutModel",
            "justify_items": null,
            "grid_row": null,
            "max_height": null,
            "align_content": null,
            "visibility": null,
            "align_self": null,
            "height": null,
            "min_height": null,
            "padding": null,
            "grid_auto_rows": null,
            "grid_gap": null,
            "max_width": null,
            "order": null,
            "_view_module_version": "1.2.0",
            "grid_template_areas": null,
            "object_position": null,
            "object_fit": null,
            "grid_auto_columns": null,
            "margin": null,
            "display": null,
            "left": null
          }
        },
        "2b6be3d12e1748b29640c9c62b848c31": {
          "model_module": "@jupyter-widgets/controls",
          "model_name": "ProgressStyleModel",
          "model_module_version": "1.5.0",
          "state": {
            "_view_name": "StyleView",
            "_model_name": "ProgressStyleModel",
            "description_width": "",
            "_view_module": "@jupyter-widgets/base",
            "_model_module_version": "1.5.0",
            "_view_count": null,
            "_view_module_version": "1.2.0",
            "bar_color": null,
            "_model_module": "@jupyter-widgets/controls"
          }
        },
        "791db18ea4854a8281dbe47f49648637": {
          "model_module": "@jupyter-widgets/base",
          "model_name": "LayoutModel",
          "model_module_version": "1.2.0",
          "state": {
            "_view_name": "LayoutView",
            "grid_template_rows": null,
            "right": null,
            "justify_content": null,
            "_view_module": "@jupyter-widgets/base",
            "overflow": null,
            "_model_module_version": "1.2.0",
            "_view_count": null,
            "flex_flow": null,
            "width": null,
            "min_width": null,
            "border": null,
            "align_items": null,
            "bottom": null,
            "_model_module": "@jupyter-widgets/base",
            "top": null,
            "grid_column": null,
            "overflow_y": null,
            "overflow_x": null,
            "grid_auto_flow": null,
            "grid_area": null,
            "grid_template_columns": null,
            "flex": null,
            "_model_name": "LayoutModel",
            "justify_items": null,
            "grid_row": null,
            "max_height": null,
            "align_content": null,
            "visibility": null,
            "align_self": null,
            "height": null,
            "min_height": null,
            "padding": null,
            "grid_auto_rows": null,
            "grid_gap": null,
            "max_width": null,
            "order": null,
            "_view_module_version": "1.2.0",
            "grid_template_areas": null,
            "object_position": null,
            "object_fit": null,
            "grid_auto_columns": null,
            "margin": null,
            "display": null,
            "left": null
          }
        },
        "95ffd6292bbd4aac8d8793c25bd325dd": {
          "model_module": "@jupyter-widgets/controls",
          "model_name": "DescriptionStyleModel",
          "model_module_version": "1.5.0",
          "state": {
            "_view_name": "StyleView",
            "_model_name": "DescriptionStyleModel",
            "description_width": "",
            "_view_module": "@jupyter-widgets/base",
            "_model_module_version": "1.5.0",
            "_view_count": null,
            "_view_module_version": "1.2.0",
            "_model_module": "@jupyter-widgets/controls"
          }
        },
        "7195821fce3d45f4bc79f0417bc38f9d": {
          "model_module": "@jupyter-widgets/base",
          "model_name": "LayoutModel",
          "model_module_version": "1.2.0",
          "state": {
            "_view_name": "LayoutView",
            "grid_template_rows": null,
            "right": null,
            "justify_content": null,
            "_view_module": "@jupyter-widgets/base",
            "overflow": null,
            "_model_module_version": "1.2.0",
            "_view_count": null,
            "flex_flow": null,
            "width": null,
            "min_width": null,
            "border": null,
            "align_items": null,
            "bottom": null,
            "_model_module": "@jupyter-widgets/base",
            "top": null,
            "grid_column": null,
            "overflow_y": null,
            "overflow_x": null,
            "grid_auto_flow": null,
            "grid_area": null,
            "grid_template_columns": null,
            "flex": null,
            "_model_name": "LayoutModel",
            "justify_items": null,
            "grid_row": null,
            "max_height": null,
            "align_content": null,
            "visibility": null,
            "align_self": null,
            "height": null,
            "min_height": null,
            "padding": null,
            "grid_auto_rows": null,
            "grid_gap": null,
            "max_width": null,
            "order": null,
            "_view_module_version": "1.2.0",
            "grid_template_areas": null,
            "object_position": null,
            "object_fit": null,
            "grid_auto_columns": null,
            "margin": null,
            "display": null,
            "left": null
          }
        },
        "2da4d3b42fa74b09aa77d7a2a7aafb8a": {
          "model_module": "@jupyter-widgets/controls",
          "model_name": "HBoxModel",
          "model_module_version": "1.5.0",
          "state": {
            "_view_name": "HBoxView",
            "_dom_classes": [],
            "_model_name": "HBoxModel",
            "_view_module": "@jupyter-widgets/controls",
            "_model_module_version": "1.5.0",
            "_view_count": null,
            "_view_module_version": "1.5.0",
            "box_style": "",
            "layout": "IPY_MODEL_e560236045954ef1b928f6f0b78cbc3d",
            "_model_module": "@jupyter-widgets/controls",
            "children": [
              "IPY_MODEL_4a10ce0bf20c48bda9fa56962d4ee043",
              "IPY_MODEL_16607004a37d410197e02d7f4ab2cbcc",
              "IPY_MODEL_4a29edc234d346e79fa26d1d27462d6e"
            ]
          }
        },
        "e560236045954ef1b928f6f0b78cbc3d": {
          "model_module": "@jupyter-widgets/base",
          "model_name": "LayoutModel",
          "model_module_version": "1.2.0",
          "state": {
            "_view_name": "LayoutView",
            "grid_template_rows": null,
            "right": null,
            "justify_content": null,
            "_view_module": "@jupyter-widgets/base",
            "overflow": null,
            "_model_module_version": "1.2.0",
            "_view_count": null,
            "flex_flow": null,
            "width": null,
            "min_width": null,
            "border": null,
            "align_items": null,
            "bottom": null,
            "_model_module": "@jupyter-widgets/base",
            "top": null,
            "grid_column": null,
            "overflow_y": null,
            "overflow_x": null,
            "grid_auto_flow": null,
            "grid_area": null,
            "grid_template_columns": null,
            "flex": null,
            "_model_name": "LayoutModel",
            "justify_items": null,
            "grid_row": null,
            "max_height": null,
            "align_content": null,
            "visibility": null,
            "align_self": null,
            "height": null,
            "min_height": null,
            "padding": null,
            "grid_auto_rows": null,
            "grid_gap": null,
            "max_width": null,
            "order": null,
            "_view_module_version": "1.2.0",
            "grid_template_areas": null,
            "object_position": null,
            "object_fit": null,
            "grid_auto_columns": null,
            "margin": null,
            "display": null,
            "left": null
          }
        },
        "4a10ce0bf20c48bda9fa56962d4ee043": {
          "model_module": "@jupyter-widgets/controls",
          "model_name": "HTMLModel",
          "model_module_version": "1.5.0",
          "state": {
            "_view_name": "HTMLView",
            "style": "IPY_MODEL_5ced0402f747463fad3c1c1414284176",
            "_dom_classes": [],
            "description": "",
            "_model_name": "HTMLModel",
            "placeholder": "​",
            "_view_module": "@jupyter-widgets/controls",
            "_model_module_version": "1.5.0",
            "value": "100%",
            "_view_count": null,
            "_view_module_version": "1.5.0",
            "description_tooltip": null,
            "_model_module": "@jupyter-widgets/controls",
            "layout": "IPY_MODEL_7ffbfa57592847168b03b1216378f996"
          }
        },
        "16607004a37d410197e02d7f4ab2cbcc": {
          "model_module": "@jupyter-widgets/controls",
          "model_name": "FloatProgressModel",
          "model_module_version": "1.5.0",
          "state": {
            "_view_name": "ProgressView",
            "style": "IPY_MODEL_029bb01aa9df454f8b0415c0e0bb2eef",
            "_dom_classes": [],
            "description": "",
            "_model_name": "FloatProgressModel",
            "bar_style": "success",
            "max": 1,
            "_view_module": "@jupyter-widgets/controls",
            "_model_module_version": "1.5.0",
            "value": 1,
            "_view_count": null,
            "_view_module_version": "1.5.0",
            "orientation": "horizontal",
            "min": 0,
            "description_tooltip": null,
            "_model_module": "@jupyter-widgets/controls",
            "layout": "IPY_MODEL_c7ba6aa3eb774bc482f2f0f450c273d8"
          }
        },
        "4a29edc234d346e79fa26d1d27462d6e": {
          "model_module": "@jupyter-widgets/controls",
          "model_name": "HTMLModel",
          "model_module_version": "1.5.0",
          "state": {
            "_view_name": "HTMLView",
            "style": "IPY_MODEL_ef3a0d71acbc4e0aaafb088254b5a4bf",
            "_dom_classes": [],
            "description": "",
            "_model_name": "HTMLModel",
            "placeholder": "​",
            "_view_module": "@jupyter-widgets/controls",
            "_model_module_version": "1.5.0",
            "value": " 1/1 [00:00&lt;00:00,  5.76it/s]",
            "_view_count": null,
            "_view_module_version": "1.5.0",
            "description_tooltip": null,
            "_model_module": "@jupyter-widgets/controls",
            "layout": "IPY_MODEL_c915886d77d94beca1d32290fd2cdc65"
          }
        },
        "5ced0402f747463fad3c1c1414284176": {
          "model_module": "@jupyter-widgets/controls",
          "model_name": "DescriptionStyleModel",
          "model_module_version": "1.5.0",
          "state": {
            "_view_name": "StyleView",
            "_model_name": "DescriptionStyleModel",
            "description_width": "",
            "_view_module": "@jupyter-widgets/base",
            "_model_module_version": "1.5.0",
            "_view_count": null,
            "_view_module_version": "1.2.0",
            "_model_module": "@jupyter-widgets/controls"
          }
        },
        "7ffbfa57592847168b03b1216378f996": {
          "model_module": "@jupyter-widgets/base",
          "model_name": "LayoutModel",
          "model_module_version": "1.2.0",
          "state": {
            "_view_name": "LayoutView",
            "grid_template_rows": null,
            "right": null,
            "justify_content": null,
            "_view_module": "@jupyter-widgets/base",
            "overflow": null,
            "_model_module_version": "1.2.0",
            "_view_count": null,
            "flex_flow": null,
            "width": null,
            "min_width": null,
            "border": null,
            "align_items": null,
            "bottom": null,
            "_model_module": "@jupyter-widgets/base",
            "top": null,
            "grid_column": null,
            "overflow_y": null,
            "overflow_x": null,
            "grid_auto_flow": null,
            "grid_area": null,
            "grid_template_columns": null,
            "flex": null,
            "_model_name": "LayoutModel",
            "justify_items": null,
            "grid_row": null,
            "max_height": null,
            "align_content": null,
            "visibility": null,
            "align_self": null,
            "height": null,
            "min_height": null,
            "padding": null,
            "grid_auto_rows": null,
            "grid_gap": null,
            "max_width": null,
            "order": null,
            "_view_module_version": "1.2.0",
            "grid_template_areas": null,
            "object_position": null,
            "object_fit": null,
            "grid_auto_columns": null,
            "margin": null,
            "display": null,
            "left": null
          }
        },
        "029bb01aa9df454f8b0415c0e0bb2eef": {
          "model_module": "@jupyter-widgets/controls",
          "model_name": "ProgressStyleModel",
          "model_module_version": "1.5.0",
          "state": {
            "_view_name": "StyleView",
            "_model_name": "ProgressStyleModel",
            "description_width": "",
            "_view_module": "@jupyter-widgets/base",
            "_model_module_version": "1.5.0",
            "_view_count": null,
            "_view_module_version": "1.2.0",
            "bar_color": null,
            "_model_module": "@jupyter-widgets/controls"
          }
        },
        "c7ba6aa3eb774bc482f2f0f450c273d8": {
          "model_module": "@jupyter-widgets/base",
          "model_name": "LayoutModel",
          "model_module_version": "1.2.0",
          "state": {
            "_view_name": "LayoutView",
            "grid_template_rows": null,
            "right": null,
            "justify_content": null,
            "_view_module": "@jupyter-widgets/base",
            "overflow": null,
            "_model_module_version": "1.2.0",
            "_view_count": null,
            "flex_flow": null,
            "width": null,
            "min_width": null,
            "border": null,
            "align_items": null,
            "bottom": null,
            "_model_module": "@jupyter-widgets/base",
            "top": null,
            "grid_column": null,
            "overflow_y": null,
            "overflow_x": null,
            "grid_auto_flow": null,
            "grid_area": null,
            "grid_template_columns": null,
            "flex": null,
            "_model_name": "LayoutModel",
            "justify_items": null,
            "grid_row": null,
            "max_height": null,
            "align_content": null,
            "visibility": null,
            "align_self": null,
            "height": null,
            "min_height": null,
            "padding": null,
            "grid_auto_rows": null,
            "grid_gap": null,
            "max_width": null,
            "order": null,
            "_view_module_version": "1.2.0",
            "grid_template_areas": null,
            "object_position": null,
            "object_fit": null,
            "grid_auto_columns": null,
            "margin": null,
            "display": null,
            "left": null
          }
        },
        "ef3a0d71acbc4e0aaafb088254b5a4bf": {
          "model_module": "@jupyter-widgets/controls",
          "model_name": "DescriptionStyleModel",
          "model_module_version": "1.5.0",
          "state": {
            "_view_name": "StyleView",
            "_model_name": "DescriptionStyleModel",
            "description_width": "",
            "_view_module": "@jupyter-widgets/base",
            "_model_module_version": "1.5.0",
            "_view_count": null,
            "_view_module_version": "1.2.0",
            "_model_module": "@jupyter-widgets/controls"
          }
        },
        "c915886d77d94beca1d32290fd2cdc65": {
          "model_module": "@jupyter-widgets/base",
          "model_name": "LayoutModel",
          "model_module_version": "1.2.0",
          "state": {
            "_view_name": "LayoutView",
            "grid_template_rows": null,
            "right": null,
            "justify_content": null,
            "_view_module": "@jupyter-widgets/base",
            "overflow": null,
            "_model_module_version": "1.2.0",
            "_view_count": null,
            "flex_flow": null,
            "width": null,
            "min_width": null,
            "border": null,
            "align_items": null,
            "bottom": null,
            "_model_module": "@jupyter-widgets/base",
            "top": null,
            "grid_column": null,
            "overflow_y": null,
            "overflow_x": null,
            "grid_auto_flow": null,
            "grid_area": null,
            "grid_template_columns": null,
            "flex": null,
            "_model_name": "LayoutModel",
            "justify_items": null,
            "grid_row": null,
            "max_height": null,
            "align_content": null,
            "visibility": null,
            "align_self": null,
            "height": null,
            "min_height": null,
            "padding": null,
            "grid_auto_rows": null,
            "grid_gap": null,
            "max_width": null,
            "order": null,
            "_view_module_version": "1.2.0",
            "grid_template_areas": null,
            "object_position": null,
            "object_fit": null,
            "grid_auto_columns": null,
            "margin": null,
            "display": null,
            "left": null
          }
        },
        "f1d4afed6d2946399a02cc7e009ab0a5": {
          "model_module": "@jupyter-widgets/controls",
          "model_name": "HBoxModel",
          "model_module_version": "1.5.0",
          "state": {
            "_view_name": "HBoxView",
            "_dom_classes": [],
            "_model_name": "HBoxModel",
            "_view_module": "@jupyter-widgets/controls",
            "_model_module_version": "1.5.0",
            "_view_count": null,
            "_view_module_version": "1.5.0",
            "box_style": "",
            "layout": "IPY_MODEL_397bc15d4cb84d0b91acf512d6ae629f",
            "_model_module": "@jupyter-widgets/controls",
            "children": [
              "IPY_MODEL_7b993bef43b0436292ce42e131967218",
              "IPY_MODEL_40e41df3402e4ffa92b8a7ab98d82ba6",
              "IPY_MODEL_a75981064f7448fa91b2c4bf0fcef491"
            ]
          }
        },
        "397bc15d4cb84d0b91acf512d6ae629f": {
          "model_module": "@jupyter-widgets/base",
          "model_name": "LayoutModel",
          "model_module_version": "1.2.0",
          "state": {
            "_view_name": "LayoutView",
            "grid_template_rows": null,
            "right": null,
            "justify_content": null,
            "_view_module": "@jupyter-widgets/base",
            "overflow": null,
            "_model_module_version": "1.2.0",
            "_view_count": null,
            "flex_flow": null,
            "width": null,
            "min_width": null,
            "border": null,
            "align_items": null,
            "bottom": null,
            "_model_module": "@jupyter-widgets/base",
            "top": null,
            "grid_column": null,
            "overflow_y": null,
            "overflow_x": null,
            "grid_auto_flow": null,
            "grid_area": null,
            "grid_template_columns": null,
            "flex": null,
            "_model_name": "LayoutModel",
            "justify_items": null,
            "grid_row": null,
            "max_height": null,
            "align_content": null,
            "visibility": null,
            "align_self": null,
            "height": null,
            "min_height": null,
            "padding": null,
            "grid_auto_rows": null,
            "grid_gap": null,
            "max_width": null,
            "order": null,
            "_view_module_version": "1.2.0",
            "grid_template_areas": null,
            "object_position": null,
            "object_fit": null,
            "grid_auto_columns": null,
            "margin": null,
            "display": null,
            "left": null
          }
        },
        "7b993bef43b0436292ce42e131967218": {
          "model_module": "@jupyter-widgets/controls",
          "model_name": "HTMLModel",
          "model_module_version": "1.5.0",
          "state": {
            "_view_name": "HTMLView",
            "style": "IPY_MODEL_8d7d94ddd6f94fbcb532d5b6b2ea7e17",
            "_dom_classes": [],
            "description": "",
            "_model_name": "HTMLModel",
            "placeholder": "​",
            "_view_module": "@jupyter-widgets/controls",
            "_model_module_version": "1.5.0",
            "value": "Running Prediction: 100%",
            "_view_count": null,
            "_view_module_version": "1.5.0",
            "description_tooltip": null,
            "_model_module": "@jupyter-widgets/controls",
            "layout": "IPY_MODEL_94bdeacbf6af41f6af05b35fad369af2"
          }
        },
        "40e41df3402e4ffa92b8a7ab98d82ba6": {
          "model_module": "@jupyter-widgets/controls",
          "model_name": "FloatProgressModel",
          "model_module_version": "1.5.0",
          "state": {
            "_view_name": "ProgressView",
            "style": "IPY_MODEL_84bb1fd686dc4421b19f124264aa2968",
            "_dom_classes": [],
            "description": "",
            "_model_name": "FloatProgressModel",
            "bar_style": "success",
            "max": 1,
            "_view_module": "@jupyter-widgets/controls",
            "_model_module_version": "1.5.0",
            "value": 1,
            "_view_count": null,
            "_view_module_version": "1.5.0",
            "orientation": "horizontal",
            "min": 0,
            "description_tooltip": null,
            "_model_module": "@jupyter-widgets/controls",
            "layout": "IPY_MODEL_2c6bf35d3c454a46957071ddd1fc9a66"
          }
        },
        "a75981064f7448fa91b2c4bf0fcef491": {
          "model_module": "@jupyter-widgets/controls",
          "model_name": "HTMLModel",
          "model_module_version": "1.5.0",
          "state": {
            "_view_name": "HTMLView",
            "style": "IPY_MODEL_a108f469fa864e219b8c21adcc91fc50",
            "_dom_classes": [],
            "description": "",
            "_model_name": "HTMLModel",
            "placeholder": "​",
            "_view_module": "@jupyter-widgets/controls",
            "_model_module_version": "1.5.0",
            "value": " 1/1 [00:00&lt;00:00, 13.26it/s]",
            "_view_count": null,
            "_view_module_version": "1.5.0",
            "description_tooltip": null,
            "_model_module": "@jupyter-widgets/controls",
            "layout": "IPY_MODEL_26024e5b71b24d17ade0b9db398afbaf"
          }
        },
        "8d7d94ddd6f94fbcb532d5b6b2ea7e17": {
          "model_module": "@jupyter-widgets/controls",
          "model_name": "DescriptionStyleModel",
          "model_module_version": "1.5.0",
          "state": {
            "_view_name": "StyleView",
            "_model_name": "DescriptionStyleModel",
            "description_width": "",
            "_view_module": "@jupyter-widgets/base",
            "_model_module_version": "1.5.0",
            "_view_count": null,
            "_view_module_version": "1.2.0",
            "_model_module": "@jupyter-widgets/controls"
          }
        },
        "94bdeacbf6af41f6af05b35fad369af2": {
          "model_module": "@jupyter-widgets/base",
          "model_name": "LayoutModel",
          "model_module_version": "1.2.0",
          "state": {
            "_view_name": "LayoutView",
            "grid_template_rows": null,
            "right": null,
            "justify_content": null,
            "_view_module": "@jupyter-widgets/base",
            "overflow": null,
            "_model_module_version": "1.2.0",
            "_view_count": null,
            "flex_flow": null,
            "width": null,
            "min_width": null,
            "border": null,
            "align_items": null,
            "bottom": null,
            "_model_module": "@jupyter-widgets/base",
            "top": null,
            "grid_column": null,
            "overflow_y": null,
            "overflow_x": null,
            "grid_auto_flow": null,
            "grid_area": null,
            "grid_template_columns": null,
            "flex": null,
            "_model_name": "LayoutModel",
            "justify_items": null,
            "grid_row": null,
            "max_height": null,
            "align_content": null,
            "visibility": null,
            "align_self": null,
            "height": null,
            "min_height": null,
            "padding": null,
            "grid_auto_rows": null,
            "grid_gap": null,
            "max_width": null,
            "order": null,
            "_view_module_version": "1.2.0",
            "grid_template_areas": null,
            "object_position": null,
            "object_fit": null,
            "grid_auto_columns": null,
            "margin": null,
            "display": null,
            "left": null
          }
        },
        "84bb1fd686dc4421b19f124264aa2968": {
          "model_module": "@jupyter-widgets/controls",
          "model_name": "ProgressStyleModel",
          "model_module_version": "1.5.0",
          "state": {
            "_view_name": "StyleView",
            "_model_name": "ProgressStyleModel",
            "description_width": "",
            "_view_module": "@jupyter-widgets/base",
            "_model_module_version": "1.5.0",
            "_view_count": null,
            "_view_module_version": "1.2.0",
            "bar_color": null,
            "_model_module": "@jupyter-widgets/controls"
          }
        },
        "2c6bf35d3c454a46957071ddd1fc9a66": {
          "model_module": "@jupyter-widgets/base",
          "model_name": "LayoutModel",
          "model_module_version": "1.2.0",
          "state": {
            "_view_name": "LayoutView",
            "grid_template_rows": null,
            "right": null,
            "justify_content": null,
            "_view_module": "@jupyter-widgets/base",
            "overflow": null,
            "_model_module_version": "1.2.0",
            "_view_count": null,
            "flex_flow": null,
            "width": null,
            "min_width": null,
            "border": null,
            "align_items": null,
            "bottom": null,
            "_model_module": "@jupyter-widgets/base",
            "top": null,
            "grid_column": null,
            "overflow_y": null,
            "overflow_x": null,
            "grid_auto_flow": null,
            "grid_area": null,
            "grid_template_columns": null,
            "flex": null,
            "_model_name": "LayoutModel",
            "justify_items": null,
            "grid_row": null,
            "max_height": null,
            "align_content": null,
            "visibility": null,
            "align_self": null,
            "height": null,
            "min_height": null,
            "padding": null,
            "grid_auto_rows": null,
            "grid_gap": null,
            "max_width": null,
            "order": null,
            "_view_module_version": "1.2.0",
            "grid_template_areas": null,
            "object_position": null,
            "object_fit": null,
            "grid_auto_columns": null,
            "margin": null,
            "display": null,
            "left": null
          }
        },
        "a108f469fa864e219b8c21adcc91fc50": {
          "model_module": "@jupyter-widgets/controls",
          "model_name": "DescriptionStyleModel",
          "model_module_version": "1.5.0",
          "state": {
            "_view_name": "StyleView",
            "_model_name": "DescriptionStyleModel",
            "description_width": "",
            "_view_module": "@jupyter-widgets/base",
            "_model_module_version": "1.5.0",
            "_view_count": null,
            "_view_module_version": "1.2.0",
            "_model_module": "@jupyter-widgets/controls"
          }
        },
        "26024e5b71b24d17ade0b9db398afbaf": {
          "model_module": "@jupyter-widgets/base",
          "model_name": "LayoutModel",
          "model_module_version": "1.2.0",
          "state": {
            "_view_name": "LayoutView",
            "grid_template_rows": null,
            "right": null,
            "justify_content": null,
            "_view_module": "@jupyter-widgets/base",
            "overflow": null,
            "_model_module_version": "1.2.0",
            "_view_count": null,
            "flex_flow": null,
            "width": null,
            "min_width": null,
            "border": null,
            "align_items": null,
            "bottom": null,
            "_model_module": "@jupyter-widgets/base",
            "top": null,
            "grid_column": null,
            "overflow_y": null,
            "overflow_x": null,
            "grid_auto_flow": null,
            "grid_area": null,
            "grid_template_columns": null,
            "flex": null,
            "_model_name": "LayoutModel",
            "justify_items": null,
            "grid_row": null,
            "max_height": null,
            "align_content": null,
            "visibility": null,
            "align_self": null,
            "height": null,
            "min_height": null,
            "padding": null,
            "grid_auto_rows": null,
            "grid_gap": null,
            "max_width": null,
            "order": null,
            "_view_module_version": "1.2.0",
            "grid_template_areas": null,
            "object_position": null,
            "object_fit": null,
            "grid_auto_columns": null,
            "margin": null,
            "display": null,
            "left": null
          }
        }
      }
    }
  },
  "cells": [
    {
      "cell_type": "markdown",
      "metadata": {
        "id": "view-in-github",
        "colab_type": "text"
      },
      "source": [
        "<a href=\"https://colab.research.google.com/github/sumitc29/NLP/blob/master/Verloop.ipynb\" target=\"_parent\"><img src=\"https://colab.research.google.com/assets/colab-badge.svg\" alt=\"Open In Colab\"/></a>"
      ]
    },
    {
      "cell_type": "markdown",
      "metadata": {
        "id": "fuoT4Q0l9aH1"
      },
      "source": [
        "there are two task to complete\n",
        "\n",
        "1.  classification , binary (FindConnection or DepartureTime)\n",
        "2.  NER recognition task for a given word in sentences / customised NER recognition\n",
        "\n",
        "          *   Using Spacy\n",
        "          *   Using customized token classification mechanism\n",
        "          *   Using Seq2Seq modelling using LSTM\n",
        "          *   Using Transfer learning\n",
        "          \n",
        "\n",
        "\n",
        "\n",
        "\n",
        "  "
      ]
    },
    {
      "cell_type": "markdown",
      "metadata": {
        "id": "iyXJwWPYSjfB"
      },
      "source": [
        "## Data download and preprocess"
      ]
    },
    {
      "cell_type": "code",
      "metadata": {
        "colab": {
          "base_uri": "https://localhost:8080/"
        },
        "id": "3NB-sIkh2qOE",
        "outputId": "9b2fe259-9865-4219-9177-13417ea58ad6"
      },
      "source": [
        "from google.colab import drive\n",
        "drive.mount('/content/drive', force_remount=True)\n",
        "#drive.flush_and_unmount()"
      ],
      "execution_count": 1,
      "outputs": [
        {
          "output_type": "stream",
          "name": "stdout",
          "text": [
            "Mounted at /content/drive\n"
          ]
        }
      ]
    },
    {
      "cell_type": "code",
      "metadata": {
        "id": "arQAvQ0W34a1",
        "colab": {
          "base_uri": "https://localhost:8080/"
        },
        "outputId": "3c0cb919-cb88-484e-84a4-be9f613e5160"
      },
      "source": [
        "import json\n",
        "with open('/content/drive/MyDrive/ChatbotCorpus.json', 'r') as f:\n",
        "  data = json.load(f)\n",
        "\n",
        "print(data.keys())\n"
      ],
      "execution_count": 2,
      "outputs": [
        {
          "output_type": "stream",
          "name": "stdout",
          "text": [
            "dict_keys(['name', 'lang', 'sentences'])\n"
          ]
        }
      ]
    },
    {
      "cell_type": "code",
      "metadata": {
        "id": "I-JLuts07fMi"
      },
      "source": [
        "text_data = [each['text'] for each in data['sentences']]\n",
        "intent = [each['intent'] for each in data['sentences']]\n",
        "entities = [each['entities'] for each in data['sentences']]"
      ],
      "execution_count": 3,
      "outputs": []
    },
    {
      "cell_type": "code",
      "metadata": {
        "colab": {
          "base_uri": "https://localhost:8080/"
        },
        "id": "O0-rRLFSfn2R",
        "outputId": "db3ffdfd-5962-4d4e-8bd0-a7161f7131d2"
      },
      "source": [
        "print(text_data[:5], intent[:5])"
      ],
      "execution_count": 4,
      "outputs": [
        {
          "output_type": "stream",
          "name": "stdout",
          "text": [
            "['i want to go marienplatz', 'when is the next train in muncher freiheit?', 'when does the next u-bahn leaves from garching forschungszentrum?', 'from olympia einkaufszentrum to hauptbahnhof', 'when is the next train from winterstraße 12 to kieferngarten'] ['FindConnection', 'DepartureTime', 'DepartureTime', 'FindConnection', 'FindConnection']\n"
          ]
        }
      ]
    },
    {
      "cell_type": "code",
      "metadata": {
        "id": "0NiBQzz3WTM0"
      },
      "source": [
        "import pandas as pd\n",
        "import numpy as np"
      ],
      "execution_count": 4,
      "outputs": []
    },
    {
      "cell_type": "markdown",
      "metadata": {
        "id": "RIIg1y__B-rX"
      },
      "source": [
        "# **Customised NER recognition problem**"
      ]
    },
    {
      "cell_type": "markdown",
      "metadata": {
        "id": "ad3ZSsVWKS7w"
      },
      "source": [
        "## *NER using Spacy with nad custom entitties*\n",
        "\n"
      ]
    },
    {
      "cell_type": "code",
      "metadata": {
        "id": "OJlcBUx7e51r"
      },
      "source": [
        "from __future__ import unicode_literals, print_function\n",
        "import plac\n",
        "import random\n",
        "from pathlib import Path\n",
        "import spacy\n",
        "from tqdm import tqdm"
      ],
      "execution_count": 6,
      "outputs": []
    },
    {
      "cell_type": "code",
      "metadata": {
        "id": "XjEwHSLIne0y"
      },
      "source": [
        "#out1  = [(new_text_data[index],{'entities':[(new_text_data[index].index(new_text_data[index].split(\" \")[int(each_entity_info['start'])])  , new_text_data[index].index(new_text_data[index].split(\" \")[int(each_entity_info['stop'])])  ,each_entity_info['entity']) for each_entity_info in entities[index]]}) for index in range(len('text_data'))]\n",
        "new_text_data = [each_text_data.replace('-',\" \").replace(\"?\",\" \") for each_text_data in text_data]\n",
        "TRAIN_DATA  = [(new_text_data[index],{'entities':[(new_text_data[index].index(new_text_data[index].split(\" \")[int(each_entity_info['start'])])  , new_text_data[index].index(new_text_data[index].split(\" \")[int(each_entity_info['stop'])]) + len(new_text_data[index].split(\" \")[int(each_entity_info['stop'])]) ,each_entity_info['entity']) for each_entity_info in entities[index]]}) for index in range(len('text_data'))]"
      ],
      "execution_count": 7,
      "outputs": []
    },
    {
      "cell_type": "code",
      "metadata": {
        "colab": {
          "base_uri": "https://localhost:8080/"
        },
        "id": "ivzG_0SHdHsE",
        "outputId": "0b55d695-66c6-4b0e-9448-cad58e10469e"
      },
      "source": [
        "model = None\n",
        "n_iter=100\n",
        "\n",
        "if model is not None:\n",
        "    nlp = spacy.load(model)  \n",
        "    print(\"Loaded model '%s'\" % model)\n",
        "else:\n",
        "    nlp = spacy.blank('en')  \n",
        "    print(\"Created blank 'en' model\")\n",
        "\n",
        "#set up the pipeline\n",
        "\n",
        "if 'ner' not in nlp.pipe_names:\n",
        "    ner = nlp.create_pipe('ner')\n",
        "    nlp.add_pipe(ner, last=True)\n",
        "else:\n",
        "    ner = nlp.get_pipe('ner')\n"
      ],
      "execution_count": 8,
      "outputs": [
        {
          "output_type": "stream",
          "name": "stdout",
          "text": [
            "Created blank 'en' model\n"
          ]
        }
      ]
    },
    {
      "cell_type": "code",
      "metadata": {
        "id": "QHy5isXtdaJd"
      },
      "source": [
        "for _, annotations in TRAIN_DATA:\n",
        "    for ent in annotations.get('entities'):\n",
        "        ner.add_label(ent[2])"
      ],
      "execution_count": 9,
      "outputs": []
    },
    {
      "cell_type": "code",
      "metadata": {
        "id": "NRxOXARreg1u"
      },
      "source": [
        "other_pipes = [pipe for pipe in nlp.pipe_names if pipe != 'ner']"
      ],
      "execution_count": 10,
      "outputs": []
    },
    {
      "cell_type": "code",
      "metadata": {
        "id": "LbsrKn6relnm",
        "colab": {
          "base_uri": "https://localhost:8080/"
        },
        "outputId": "43372ed5-4c6e-4bd5-b10e-a102e76a1a94"
      },
      "source": [
        "with nlp.disable_pipes(*other_pipes):  # only train NER\n",
        "    optimizer = nlp.begin_training()\n",
        "    for itn in range(n_iter):\n",
        "        random.shuffle(TRAIN_DATA)\n",
        "        losses = {}\n",
        "        for text, annotations in tqdm(TRAIN_DATA):\n",
        "            nlp.update(\n",
        "                [text],  \n",
        "                [annotations],  \n",
        "                drop=0.5,  \n",
        "                sgd=optimizer,\n",
        "                losses=losses)\n",
        "        print(losses)"
      ],
      "execution_count": 11,
      "outputs": [
        {
          "output_type": "stream",
          "name": "stderr",
          "text": [
            "100%|██████████| 9/9 [00:00<00:00, 29.80it/s]\n"
          ]
        },
        {
          "output_type": "stream",
          "name": "stdout",
          "text": [
            "{'ner': 65.65205943584442}\n"
          ]
        },
        {
          "output_type": "stream",
          "name": "stderr",
          "text": [
            "100%|██████████| 9/9 [00:00<00:00, 32.53it/s]\n"
          ]
        },
        {
          "output_type": "stream",
          "name": "stdout",
          "text": [
            "{'ner': 46.85841706767678}\n"
          ]
        },
        {
          "output_type": "stream",
          "name": "stderr",
          "text": [
            "100%|██████████| 9/9 [00:00<00:00, 30.55it/s]\n"
          ]
        },
        {
          "output_type": "stream",
          "name": "stdout",
          "text": [
            "{'ner': 34.06882904769736}\n"
          ]
        },
        {
          "output_type": "stream",
          "name": "stderr",
          "text": [
            "100%|██████████| 9/9 [00:00<00:00, 30.32it/s]\n"
          ]
        },
        {
          "output_type": "stream",
          "name": "stdout",
          "text": [
            "{'ner': 35.96993949303578}\n"
          ]
        },
        {
          "output_type": "stream",
          "name": "stderr",
          "text": [
            "100%|██████████| 9/9 [00:00<00:00, 31.63it/s]\n"
          ]
        },
        {
          "output_type": "stream",
          "name": "stdout",
          "text": [
            "{'ner': 32.40771865611896}\n"
          ]
        },
        {
          "output_type": "stream",
          "name": "stderr",
          "text": [
            "100%|██████████| 9/9 [00:00<00:00, 30.03it/s]\n"
          ]
        },
        {
          "output_type": "stream",
          "name": "stdout",
          "text": [
            "{'ner': 28.134795676916838}\n"
          ]
        },
        {
          "output_type": "stream",
          "name": "stderr",
          "text": [
            "100%|██████████| 9/9 [00:00<00:00, 31.72it/s]\n"
          ]
        },
        {
          "output_type": "stream",
          "name": "stdout",
          "text": [
            "{'ner': 31.822492107297876}\n"
          ]
        },
        {
          "output_type": "stream",
          "name": "stderr",
          "text": [
            "100%|██████████| 9/9 [00:00<00:00, 31.01it/s]\n"
          ]
        },
        {
          "output_type": "stream",
          "name": "stdout",
          "text": [
            "{'ner': 21.819869709928753}\n"
          ]
        },
        {
          "output_type": "stream",
          "name": "stderr",
          "text": [
            "100%|██████████| 9/9 [00:00<00:00, 32.56it/s]\n"
          ]
        },
        {
          "output_type": "stream",
          "name": "stdout",
          "text": [
            "{'ner': 21.945083148389358}\n"
          ]
        },
        {
          "output_type": "stream",
          "name": "stderr",
          "text": [
            "100%|██████████| 9/9 [00:00<00:00, 31.14it/s]\n"
          ]
        },
        {
          "output_type": "stream",
          "name": "stdout",
          "text": [
            "{'ner': 23.526212713776147}\n"
          ]
        },
        {
          "output_type": "stream",
          "name": "stderr",
          "text": [
            "100%|██████████| 9/9 [00:00<00:00, 32.29it/s]\n"
          ]
        },
        {
          "output_type": "stream",
          "name": "stdout",
          "text": [
            "{'ner': 28.231555703526553}\n"
          ]
        },
        {
          "output_type": "stream",
          "name": "stderr",
          "text": [
            "100%|██████████| 9/9 [00:00<00:00, 31.84it/s]\n"
          ]
        },
        {
          "output_type": "stream",
          "name": "stdout",
          "text": [
            "{'ner': 18.454117181360573}\n"
          ]
        },
        {
          "output_type": "stream",
          "name": "stderr",
          "text": [
            "100%|██████████| 9/9 [00:00<00:00, 31.08it/s]\n"
          ]
        },
        {
          "output_type": "stream",
          "name": "stdout",
          "text": [
            "{'ner': 24.565908815921233}\n"
          ]
        },
        {
          "output_type": "stream",
          "name": "stderr",
          "text": [
            "100%|██████████| 9/9 [00:00<00:00, 30.90it/s]\n"
          ]
        },
        {
          "output_type": "stream",
          "name": "stdout",
          "text": [
            "{'ner': 17.417364919121333}\n"
          ]
        },
        {
          "output_type": "stream",
          "name": "stderr",
          "text": [
            "100%|██████████| 9/9 [00:00<00:00, 30.97it/s]\n"
          ]
        },
        {
          "output_type": "stream",
          "name": "stdout",
          "text": [
            "{'ner': 14.958545234380797}\n"
          ]
        },
        {
          "output_type": "stream",
          "name": "stderr",
          "text": [
            "100%|██████████| 9/9 [00:00<00:00, 30.93it/s]\n"
          ]
        },
        {
          "output_type": "stream",
          "name": "stdout",
          "text": [
            "{'ner': 12.837853413321442}\n"
          ]
        },
        {
          "output_type": "stream",
          "name": "stderr",
          "text": [
            "100%|██████████| 9/9 [00:00<00:00, 30.08it/s]\n"
          ]
        },
        {
          "output_type": "stream",
          "name": "stdout",
          "text": [
            "{'ner': 15.786749670875253}\n"
          ]
        },
        {
          "output_type": "stream",
          "name": "stderr",
          "text": [
            "100%|██████████| 9/9 [00:00<00:00, 32.82it/s]\n"
          ]
        },
        {
          "output_type": "stream",
          "name": "stdout",
          "text": [
            "{'ner': 10.781309353915473}\n"
          ]
        },
        {
          "output_type": "stream",
          "name": "stderr",
          "text": [
            "100%|██████████| 9/9 [00:00<00:00, 31.24it/s]\n"
          ]
        },
        {
          "output_type": "stream",
          "name": "stdout",
          "text": [
            "{'ner': 5.34161209939345}\n"
          ]
        },
        {
          "output_type": "stream",
          "name": "stderr",
          "text": [
            "100%|██████████| 9/9 [00:00<00:00, 30.34it/s]\n"
          ]
        },
        {
          "output_type": "stream",
          "name": "stdout",
          "text": [
            "{'ner': 6.823992906744463}\n"
          ]
        },
        {
          "output_type": "stream",
          "name": "stderr",
          "text": [
            "100%|██████████| 9/9 [00:00<00:00, 32.37it/s]\n"
          ]
        },
        {
          "output_type": "stream",
          "name": "stdout",
          "text": [
            "{'ner': 5.707131238575938}\n"
          ]
        },
        {
          "output_type": "stream",
          "name": "stderr",
          "text": [
            "100%|██████████| 9/9 [00:00<00:00, 32.47it/s]\n"
          ]
        },
        {
          "output_type": "stream",
          "name": "stdout",
          "text": [
            "{'ner': 4.170153088156576}\n"
          ]
        },
        {
          "output_type": "stream",
          "name": "stderr",
          "text": [
            "100%|██████████| 9/9 [00:00<00:00, 32.02it/s]\n"
          ]
        },
        {
          "output_type": "stream",
          "name": "stdout",
          "text": [
            "{'ner': 7.724585415187726}\n"
          ]
        },
        {
          "output_type": "stream",
          "name": "stderr",
          "text": [
            "100%|██████████| 9/9 [00:00<00:00, 30.47it/s]\n"
          ]
        },
        {
          "output_type": "stream",
          "name": "stdout",
          "text": [
            "{'ner': 3.853545497109436}\n"
          ]
        },
        {
          "output_type": "stream",
          "name": "stderr",
          "text": [
            "100%|██████████| 9/9 [00:00<00:00, 30.96it/s]\n"
          ]
        },
        {
          "output_type": "stream",
          "name": "stdout",
          "text": [
            "{'ner': 5.100176497474241}\n"
          ]
        },
        {
          "output_type": "stream",
          "name": "stderr",
          "text": [
            "100%|██████████| 9/9 [00:00<00:00, 31.23it/s]\n"
          ]
        },
        {
          "output_type": "stream",
          "name": "stdout",
          "text": [
            "{'ner': 4.087565596756952}\n"
          ]
        },
        {
          "output_type": "stream",
          "name": "stderr",
          "text": [
            "100%|██████████| 9/9 [00:00<00:00, 32.00it/s]\n"
          ]
        },
        {
          "output_type": "stream",
          "name": "stdout",
          "text": [
            "{'ner': 8.392313037237166}\n"
          ]
        },
        {
          "output_type": "stream",
          "name": "stderr",
          "text": [
            "100%|██████████| 9/9 [00:00<00:00, 32.48it/s]\n"
          ]
        },
        {
          "output_type": "stream",
          "name": "stdout",
          "text": [
            "{'ner': 4.696435818546839}\n"
          ]
        },
        {
          "output_type": "stream",
          "name": "stderr",
          "text": [
            "100%|██████████| 9/9 [00:00<00:00, 31.31it/s]\n"
          ]
        },
        {
          "output_type": "stream",
          "name": "stdout",
          "text": [
            "{'ner': 6.885810771702653}\n"
          ]
        },
        {
          "output_type": "stream",
          "name": "stderr",
          "text": [
            "100%|██████████| 9/9 [00:00<00:00, 31.61it/s]\n"
          ]
        },
        {
          "output_type": "stream",
          "name": "stdout",
          "text": [
            "{'ner': 4.2097180231386435}\n"
          ]
        },
        {
          "output_type": "stream",
          "name": "stderr",
          "text": [
            "100%|██████████| 9/9 [00:00<00:00, 33.11it/s]\n"
          ]
        },
        {
          "output_type": "stream",
          "name": "stdout",
          "text": [
            "{'ner': 3.5796529848883134}\n"
          ]
        },
        {
          "output_type": "stream",
          "name": "stderr",
          "text": [
            "100%|██████████| 9/9 [00:00<00:00, 32.60it/s]\n"
          ]
        },
        {
          "output_type": "stream",
          "name": "stdout",
          "text": [
            "{'ner': 10.147575001706759}\n"
          ]
        },
        {
          "output_type": "stream",
          "name": "stderr",
          "text": [
            "100%|██████████| 9/9 [00:00<00:00, 31.47it/s]\n"
          ]
        },
        {
          "output_type": "stream",
          "name": "stdout",
          "text": [
            "{'ner': 5.696384222607177}\n"
          ]
        },
        {
          "output_type": "stream",
          "name": "stderr",
          "text": [
            "100%|██████████| 9/9 [00:00<00:00, 30.21it/s]\n"
          ]
        },
        {
          "output_type": "stream",
          "name": "stdout",
          "text": [
            "{'ner': 3.688599331605661}\n"
          ]
        },
        {
          "output_type": "stream",
          "name": "stderr",
          "text": [
            "100%|██████████| 9/9 [00:00<00:00, 31.27it/s]\n"
          ]
        },
        {
          "output_type": "stream",
          "name": "stdout",
          "text": [
            "{'ner': 5.538128447658702}\n"
          ]
        },
        {
          "output_type": "stream",
          "name": "stderr",
          "text": [
            "100%|██████████| 9/9 [00:00<00:00, 30.08it/s]\n"
          ]
        },
        {
          "output_type": "stream",
          "name": "stdout",
          "text": [
            "{'ner': 2.143119542052221}\n"
          ]
        },
        {
          "output_type": "stream",
          "name": "stderr",
          "text": [
            "100%|██████████| 9/9 [00:00<00:00, 31.41it/s]\n"
          ]
        },
        {
          "output_type": "stream",
          "name": "stdout",
          "text": [
            "{'ner': 3.08625552566731}\n"
          ]
        },
        {
          "output_type": "stream",
          "name": "stderr",
          "text": [
            "100%|██████████| 9/9 [00:00<00:00, 33.38it/s]\n"
          ]
        },
        {
          "output_type": "stream",
          "name": "stdout",
          "text": [
            "{'ner': 8.962259545934037}\n"
          ]
        },
        {
          "output_type": "stream",
          "name": "stderr",
          "text": [
            "100%|██████████| 9/9 [00:00<00:00, 32.39it/s]\n"
          ]
        },
        {
          "output_type": "stream",
          "name": "stdout",
          "text": [
            "{'ner': 4.881404494658034}\n"
          ]
        },
        {
          "output_type": "stream",
          "name": "stderr",
          "text": [
            "100%|██████████| 9/9 [00:00<00:00, 32.36it/s]\n"
          ]
        },
        {
          "output_type": "stream",
          "name": "stdout",
          "text": [
            "{'ner': 1.689131097245721}\n"
          ]
        },
        {
          "output_type": "stream",
          "name": "stderr",
          "text": [
            "100%|██████████| 9/9 [00:00<00:00, 30.72it/s]\n"
          ]
        },
        {
          "output_type": "stream",
          "name": "stdout",
          "text": [
            "{'ner': 8.162774161273349}\n"
          ]
        },
        {
          "output_type": "stream",
          "name": "stderr",
          "text": [
            "100%|██████████| 9/9 [00:00<00:00, 31.78it/s]\n"
          ]
        },
        {
          "output_type": "stream",
          "name": "stdout",
          "text": [
            "{'ner': 7.499134997005451}\n"
          ]
        },
        {
          "output_type": "stream",
          "name": "stderr",
          "text": [
            "100%|██████████| 9/9 [00:00<00:00, 31.10it/s]\n"
          ]
        },
        {
          "output_type": "stream",
          "name": "stdout",
          "text": [
            "{'ner': 5.054030005566073}\n"
          ]
        },
        {
          "output_type": "stream",
          "name": "stderr",
          "text": [
            "100%|██████████| 9/9 [00:00<00:00, 31.39it/s]\n"
          ]
        },
        {
          "output_type": "stream",
          "name": "stdout",
          "text": [
            "{'ner': 2.378081194819983}\n"
          ]
        },
        {
          "output_type": "stream",
          "name": "stderr",
          "text": [
            "100%|██████████| 9/9 [00:00<00:00, 32.21it/s]\n"
          ]
        },
        {
          "output_type": "stream",
          "name": "stdout",
          "text": [
            "{'ner': 6.719936488990423}\n"
          ]
        },
        {
          "output_type": "stream",
          "name": "stderr",
          "text": [
            "100%|██████████| 9/9 [00:00<00:00, 31.80it/s]\n"
          ]
        },
        {
          "output_type": "stream",
          "name": "stdout",
          "text": [
            "{'ner': 1.8112172156866795}\n"
          ]
        },
        {
          "output_type": "stream",
          "name": "stderr",
          "text": [
            "100%|██████████| 9/9 [00:00<00:00, 32.49it/s]\n"
          ]
        },
        {
          "output_type": "stream",
          "name": "stdout",
          "text": [
            "{'ner': 2.338250309864839}\n"
          ]
        },
        {
          "output_type": "stream",
          "name": "stderr",
          "text": [
            "100%|██████████| 9/9 [00:00<00:00, 30.32it/s]\n"
          ]
        },
        {
          "output_type": "stream",
          "name": "stdout",
          "text": [
            "{'ner': 0.8869574450746484}\n"
          ]
        },
        {
          "output_type": "stream",
          "name": "stderr",
          "text": [
            "100%|██████████| 9/9 [00:00<00:00, 32.08it/s]\n"
          ]
        },
        {
          "output_type": "stream",
          "name": "stdout",
          "text": [
            "{'ner': 0.01237633647330143}\n"
          ]
        },
        {
          "output_type": "stream",
          "name": "stderr",
          "text": [
            "100%|██████████| 9/9 [00:00<00:00, 31.75it/s]\n"
          ]
        },
        {
          "output_type": "stream",
          "name": "stdout",
          "text": [
            "{'ner': 0.09593166270923294}\n"
          ]
        },
        {
          "output_type": "stream",
          "name": "stderr",
          "text": [
            "100%|██████████| 9/9 [00:00<00:00, 32.17it/s]\n"
          ]
        },
        {
          "output_type": "stream",
          "name": "stdout",
          "text": [
            "{'ner': 0.01343731950402973}\n"
          ]
        },
        {
          "output_type": "stream",
          "name": "stderr",
          "text": [
            "100%|██████████| 9/9 [00:00<00:00, 32.29it/s]\n"
          ]
        },
        {
          "output_type": "stream",
          "name": "stdout",
          "text": [
            "{'ner': 0.13993959901296654}\n"
          ]
        },
        {
          "output_type": "stream",
          "name": "stderr",
          "text": [
            "100%|██████████| 9/9 [00:00<00:00, 30.46it/s]\n"
          ]
        },
        {
          "output_type": "stream",
          "name": "stdout",
          "text": [
            "{'ner': 0.01098167795785057}\n"
          ]
        },
        {
          "output_type": "stream",
          "name": "stderr",
          "text": [
            "100%|██████████| 9/9 [00:00<00:00, 31.64it/s]\n"
          ]
        },
        {
          "output_type": "stream",
          "name": "stdout",
          "text": [
            "{'ner': 1.1571775182262005}\n"
          ]
        },
        {
          "output_type": "stream",
          "name": "stderr",
          "text": [
            "100%|██████████| 9/9 [00:00<00:00, 31.37it/s]\n"
          ]
        },
        {
          "output_type": "stream",
          "name": "stdout",
          "text": [
            "{'ner': 0.23067315508332814}\n"
          ]
        },
        {
          "output_type": "stream",
          "name": "stderr",
          "text": [
            "100%|██████████| 9/9 [00:00<00:00, 31.68it/s]\n"
          ]
        },
        {
          "output_type": "stream",
          "name": "stdout",
          "text": [
            "{'ner': 1.9630145640107808}\n"
          ]
        },
        {
          "output_type": "stream",
          "name": "stderr",
          "text": [
            "100%|██████████| 9/9 [00:00<00:00, 30.32it/s]\n"
          ]
        },
        {
          "output_type": "stream",
          "name": "stdout",
          "text": [
            "{'ner': 0.016278739799132358}\n"
          ]
        },
        {
          "output_type": "stream",
          "name": "stderr",
          "text": [
            "100%|██████████| 9/9 [00:00<00:00, 31.99it/s]\n"
          ]
        },
        {
          "output_type": "stream",
          "name": "stdout",
          "text": [
            "{'ner': 0.959373905054171}\n"
          ]
        },
        {
          "output_type": "stream",
          "name": "stderr",
          "text": [
            "100%|██████████| 9/9 [00:00<00:00, 31.44it/s]\n"
          ]
        },
        {
          "output_type": "stream",
          "name": "stdout",
          "text": [
            "{'ner': 0.0006248393878632142}\n"
          ]
        },
        {
          "output_type": "stream",
          "name": "stderr",
          "text": [
            "100%|██████████| 9/9 [00:00<00:00, 30.80it/s]\n"
          ]
        },
        {
          "output_type": "stream",
          "name": "stdout",
          "text": [
            "{'ner': 0.00041806485146735593}\n"
          ]
        },
        {
          "output_type": "stream",
          "name": "stderr",
          "text": [
            "100%|██████████| 9/9 [00:00<00:00, 30.62it/s]\n"
          ]
        },
        {
          "output_type": "stream",
          "name": "stdout",
          "text": [
            "{'ner': 0.0002626388389579906}\n"
          ]
        },
        {
          "output_type": "stream",
          "name": "stderr",
          "text": [
            "100%|██████████| 9/9 [00:00<00:00, 31.40it/s]\n"
          ]
        },
        {
          "output_type": "stream",
          "name": "stdout",
          "text": [
            "{'ner': 0.16043544014150812}\n"
          ]
        },
        {
          "output_type": "stream",
          "name": "stderr",
          "text": [
            "100%|██████████| 9/9 [00:00<00:00, 31.32it/s]\n"
          ]
        },
        {
          "output_type": "stream",
          "name": "stdout",
          "text": [
            "{'ner': 0.009219297269852007}\n"
          ]
        },
        {
          "output_type": "stream",
          "name": "stderr",
          "text": [
            "100%|██████████| 9/9 [00:00<00:00, 30.84it/s]\n"
          ]
        },
        {
          "output_type": "stream",
          "name": "stdout",
          "text": [
            "{'ner': 0.0006111101369793913}\n"
          ]
        },
        {
          "output_type": "stream",
          "name": "stderr",
          "text": [
            "100%|██████████| 9/9 [00:00<00:00, 29.41it/s]\n"
          ]
        },
        {
          "output_type": "stream",
          "name": "stdout",
          "text": [
            "{'ner': 1.624398874563693}\n"
          ]
        },
        {
          "output_type": "stream",
          "name": "stderr",
          "text": [
            "100%|██████████| 9/9 [00:00<00:00, 29.54it/s]\n"
          ]
        },
        {
          "output_type": "stream",
          "name": "stdout",
          "text": [
            "{'ner': 1.2244114194962654}\n"
          ]
        },
        {
          "output_type": "stream",
          "name": "stderr",
          "text": [
            "100%|██████████| 9/9 [00:00<00:00, 28.97it/s]\n"
          ]
        },
        {
          "output_type": "stream",
          "name": "stdout",
          "text": [
            "{'ner': 1.8946985425809233}\n"
          ]
        },
        {
          "output_type": "stream",
          "name": "stderr",
          "text": [
            "100%|██████████| 9/9 [00:00<00:00, 27.93it/s]\n"
          ]
        },
        {
          "output_type": "stream",
          "name": "stdout",
          "text": [
            "{'ner': 0.10419924418890156}\n"
          ]
        },
        {
          "output_type": "stream",
          "name": "stderr",
          "text": [
            "100%|██████████| 9/9 [00:00<00:00, 26.25it/s]\n"
          ]
        },
        {
          "output_type": "stream",
          "name": "stdout",
          "text": [
            "{'ner': 0.5645789682804798}\n"
          ]
        },
        {
          "output_type": "stream",
          "name": "stderr",
          "text": [
            "100%|██████████| 9/9 [00:00<00:00, 26.96it/s]\n"
          ]
        },
        {
          "output_type": "stream",
          "name": "stdout",
          "text": [
            "{'ner': 1.1107490757176726}\n"
          ]
        },
        {
          "output_type": "stream",
          "name": "stderr",
          "text": [
            "100%|██████████| 9/9 [00:00<00:00, 26.43it/s]\n"
          ]
        },
        {
          "output_type": "stream",
          "name": "stdout",
          "text": [
            "{'ner': 0.00047139939929658945}\n"
          ]
        },
        {
          "output_type": "stream",
          "name": "stderr",
          "text": [
            "100%|██████████| 9/9 [00:00<00:00, 25.18it/s]\n"
          ]
        },
        {
          "output_type": "stream",
          "name": "stdout",
          "text": [
            "{'ner': 0.4364459240046049}\n"
          ]
        },
        {
          "output_type": "stream",
          "name": "stderr",
          "text": [
            "100%|██████████| 9/9 [00:00<00:00, 26.00it/s]\n"
          ]
        },
        {
          "output_type": "stream",
          "name": "stdout",
          "text": [
            "{'ner': 0.002191222437244817}\n"
          ]
        },
        {
          "output_type": "stream",
          "name": "stderr",
          "text": [
            "100%|██████████| 9/9 [00:00<00:00, 24.33it/s]\n"
          ]
        },
        {
          "output_type": "stream",
          "name": "stdout",
          "text": [
            "{'ner': 0.024932185290884548}\n"
          ]
        },
        {
          "output_type": "stream",
          "name": "stderr",
          "text": [
            "100%|██████████| 9/9 [00:00<00:00, 24.33it/s]\n"
          ]
        },
        {
          "output_type": "stream",
          "name": "stdout",
          "text": [
            "{'ner': 0.03496099963495197}\n"
          ]
        },
        {
          "output_type": "stream",
          "name": "stderr",
          "text": [
            "100%|██████████| 9/9 [00:00<00:00, 23.93it/s]\n"
          ]
        },
        {
          "output_type": "stream",
          "name": "stdout",
          "text": [
            "{'ner': 1.5532985655505211}\n"
          ]
        },
        {
          "output_type": "stream",
          "name": "stderr",
          "text": [
            "100%|██████████| 9/9 [00:00<00:00, 23.48it/s]\n"
          ]
        },
        {
          "output_type": "stream",
          "name": "stdout",
          "text": [
            "{'ner': 0.006152575191698639}\n"
          ]
        },
        {
          "output_type": "stream",
          "name": "stderr",
          "text": [
            "100%|██████████| 9/9 [00:00<00:00, 23.32it/s]\n"
          ]
        },
        {
          "output_type": "stream",
          "name": "stdout",
          "text": [
            "{'ner': 0.796010945595858}\n"
          ]
        },
        {
          "output_type": "stream",
          "name": "stderr",
          "text": [
            "100%|██████████| 9/9 [00:00<00:00, 23.54it/s]\n"
          ]
        },
        {
          "output_type": "stream",
          "name": "stdout",
          "text": [
            "{'ner': 0.6197464550056972}\n"
          ]
        },
        {
          "output_type": "stream",
          "name": "stderr",
          "text": [
            "100%|██████████| 9/9 [00:00<00:00, 22.94it/s]\n"
          ]
        },
        {
          "output_type": "stream",
          "name": "stdout",
          "text": [
            "{'ner': 0.00010266637634799026}\n"
          ]
        },
        {
          "output_type": "stream",
          "name": "stderr",
          "text": [
            "100%|██████████| 9/9 [00:00<00:00, 23.94it/s]\n"
          ]
        },
        {
          "output_type": "stream",
          "name": "stdout",
          "text": [
            "{'ner': 3.660159684428133}\n"
          ]
        },
        {
          "output_type": "stream",
          "name": "stderr",
          "text": [
            "100%|██████████| 9/9 [00:00<00:00, 22.71it/s]\n"
          ]
        },
        {
          "output_type": "stream",
          "name": "stdout",
          "text": [
            "{'ner': 0.0015664199244952786}\n"
          ]
        },
        {
          "output_type": "stream",
          "name": "stderr",
          "text": [
            "100%|██████████| 9/9 [00:00<00:00, 23.14it/s]\n"
          ]
        },
        {
          "output_type": "stream",
          "name": "stdout",
          "text": [
            "{'ner': 9.227523204221321e-05}\n"
          ]
        },
        {
          "output_type": "stream",
          "name": "stderr",
          "text": [
            "100%|██████████| 9/9 [00:00<00:00, 22.68it/s]\n"
          ]
        },
        {
          "output_type": "stream",
          "name": "stdout",
          "text": [
            "{'ner': 0.15241988502770004}\n"
          ]
        },
        {
          "output_type": "stream",
          "name": "stderr",
          "text": [
            "100%|██████████| 9/9 [00:00<00:00, 21.91it/s]\n"
          ]
        },
        {
          "output_type": "stream",
          "name": "stdout",
          "text": [
            "{'ner': 0.0009290015441420661}\n"
          ]
        },
        {
          "output_type": "stream",
          "name": "stderr",
          "text": [
            "100%|██████████| 9/9 [00:00<00:00, 23.00it/s]\n"
          ]
        },
        {
          "output_type": "stream",
          "name": "stdout",
          "text": [
            "{'ner': 3.06702411238208e-07}\n"
          ]
        },
        {
          "output_type": "stream",
          "name": "stderr",
          "text": [
            "100%|██████████| 9/9 [00:00<00:00, 22.21it/s]\n"
          ]
        },
        {
          "output_type": "stream",
          "name": "stdout",
          "text": [
            "{'ner': 9.318218159709164e-05}\n"
          ]
        },
        {
          "output_type": "stream",
          "name": "stderr",
          "text": [
            "100%|██████████| 9/9 [00:00<00:00, 22.81it/s]\n"
          ]
        },
        {
          "output_type": "stream",
          "name": "stdout",
          "text": [
            "{'ner': 0.0011321205410986751}\n"
          ]
        },
        {
          "output_type": "stream",
          "name": "stderr",
          "text": [
            "100%|██████████| 9/9 [00:00<00:00, 22.27it/s]\n"
          ]
        },
        {
          "output_type": "stream",
          "name": "stdout",
          "text": [
            "{'ner': 0.000899187827941833}\n"
          ]
        },
        {
          "output_type": "stream",
          "name": "stderr",
          "text": [
            "100%|██████████| 9/9 [00:00<00:00, 22.62it/s]\n"
          ]
        },
        {
          "output_type": "stream",
          "name": "stdout",
          "text": [
            "{'ner': 0.0026543923782775458}\n"
          ]
        },
        {
          "output_type": "stream",
          "name": "stderr",
          "text": [
            "100%|██████████| 9/9 [00:00<00:00, 22.53it/s]\n"
          ]
        },
        {
          "output_type": "stream",
          "name": "stdout",
          "text": [
            "{'ner': 0.0012092625946500755}\n"
          ]
        },
        {
          "output_type": "stream",
          "name": "stderr",
          "text": [
            "100%|██████████| 9/9 [00:00<00:00, 21.25it/s]\n"
          ]
        },
        {
          "output_type": "stream",
          "name": "stdout",
          "text": [
            "{'ner': 7.445419498445768}\n"
          ]
        },
        {
          "output_type": "stream",
          "name": "stderr",
          "text": [
            "100%|██████████| 9/9 [00:00<00:00, 22.39it/s]\n"
          ]
        },
        {
          "output_type": "stream",
          "name": "stdout",
          "text": [
            "{'ner': 2.9465202575409348e-05}\n"
          ]
        },
        {
          "output_type": "stream",
          "name": "stderr",
          "text": [
            "100%|██████████| 9/9 [00:00<00:00, 22.69it/s]\n"
          ]
        },
        {
          "output_type": "stream",
          "name": "stdout",
          "text": [
            "{'ner': 0.004305601840036723}\n"
          ]
        },
        {
          "output_type": "stream",
          "name": "stderr",
          "text": [
            "100%|██████████| 9/9 [00:00<00:00, 23.47it/s]\n"
          ]
        },
        {
          "output_type": "stream",
          "name": "stdout",
          "text": [
            "{'ner': 3.9485154867510595}\n"
          ]
        },
        {
          "output_type": "stream",
          "name": "stderr",
          "text": [
            "100%|██████████| 9/9 [00:00<00:00, 22.21it/s]\n"
          ]
        },
        {
          "output_type": "stream",
          "name": "stdout",
          "text": [
            "{'ner': 1.900369199923776}\n"
          ]
        },
        {
          "output_type": "stream",
          "name": "stderr",
          "text": [
            "100%|██████████| 9/9 [00:00<00:00, 23.17it/s]\n"
          ]
        },
        {
          "output_type": "stream",
          "name": "stdout",
          "text": [
            "{'ner': 0.00011722342639951505}\n"
          ]
        },
        {
          "output_type": "stream",
          "name": "stderr",
          "text": [
            "100%|██████████| 9/9 [00:00<00:00, 22.70it/s]\n"
          ]
        },
        {
          "output_type": "stream",
          "name": "stdout",
          "text": [
            "{'ner': 0.3378657913141424}\n"
          ]
        },
        {
          "output_type": "stream",
          "name": "stderr",
          "text": [
            "100%|██████████| 9/9 [00:00<00:00, 23.29it/s]\n"
          ]
        },
        {
          "output_type": "stream",
          "name": "stdout",
          "text": [
            "{'ner': 0.06431973780349284}\n"
          ]
        },
        {
          "output_type": "stream",
          "name": "stderr",
          "text": [
            "100%|██████████| 9/9 [00:00<00:00, 23.04it/s]"
          ]
        },
        {
          "output_type": "stream",
          "name": "stdout",
          "text": [
            "{'ner': 0.00019998962857741345}\n"
          ]
        },
        {
          "output_type": "stream",
          "name": "stderr",
          "text": [
            "\n"
          ]
        }
      ]
    },
    {
      "cell_type": "code",
      "metadata": {
        "colab": {
          "base_uri": "https://localhost:8080/"
        },
        "id": "LEQL5rG9fQ9W",
        "outputId": "3bf31943-f855-4574-f019-8065cf01d659"
      },
      "source": [
        "doc = nlp('I am travelling from jungle   to home by car')\n",
        "print('Entities', [(ent.text, ent.label_) for ent in doc.ents])"
      ],
      "execution_count": 15,
      "outputs": [
        {
          "output_type": "stream",
          "name": "stdout",
          "text": [
            "Entities [('jungle   ', 'StationStart'), ('home', 'StationDest'), ('car', 'StationDest')]\n"
          ]
        }
      ]
    },
    {
      "cell_type": "markdown",
      "metadata": {
        "id": "-c8wQAXpgyAW"
      },
      "source": [
        "**This model is successfully created but unable to detect entities properly, if senetence length is large then it wont work properly\n",
        "I believe we need to use attention or seq to seq model here**"
      ]
    },
    {
      "cell_type": "markdown",
      "metadata": {
        "id": "GcRflVvQ6-Le"
      },
      "source": [
        "## NER using transfer learning methos"
      ]
    },
    {
      "cell_type": "markdown",
      "metadata": {
        "id": "c6g4nUsKUjnl"
      },
      "source": [
        "**NER model simplebert**"
      ]
    },
    {
      "cell_type": "code",
      "metadata": {
        "id": "oDMpOaiieAKw"
      },
      "source": [
        "a=[(each_ent['entity'], each_ent['text'])  for sub_ent in entities for each_ent in sub_ent]\n",
        "\n",
        "a_key = [each[0] for each in a]\n",
        "a_val = [each[1] for each in a]\n",
        "a_str = [a_val[index]+\" \"+a_key[index] for index in range(len(a))]"
      ],
      "execution_count": 6,
      "outputs": []
    },
    {
      "cell_type": "code",
      "metadata": {
        "colab": {
          "base_uri": "https://localhost:8080/"
        },
        "id": "U5zJZFAzS8Jr",
        "outputId": "cc239a62-d5ae-403c-8aa9-2deb451678d4"
      },
      "source": [
        "from simpletransformers.ner import NERModel, NERArgs\n",
        "\n",
        "model_args = NERArgs()\n",
        "model_args.labels_list = list(set(a_key))\n",
        "\n",
        "model1 = NERModel(\n",
        "    \"roberta\",\n",
        "    \"roberta-base\",\n",
        "    args=model_args,\n",
        ")\n"
      ],
      "execution_count": 7,
      "outputs": [
        {
          "output_type": "stream",
          "name": "stderr",
          "text": [
            "Some weights of the model checkpoint at roberta-base were not used when initializing RobertaForTokenClassification: ['lm_head.layer_norm.weight', 'lm_head.bias', 'lm_head.dense.weight', 'lm_head.decoder.weight', 'lm_head.dense.bias', 'lm_head.layer_norm.bias']\n",
            "- This IS expected if you are initializing RobertaForTokenClassification from the checkpoint of a model trained on another task or with another architecture (e.g. initializing a BertForSequenceClassification model from a BertForPreTraining model).\n",
            "- This IS NOT expected if you are initializing RobertaForTokenClassification from the checkpoint of a model that you expect to be exactly identical (initializing a BertForSequenceClassification model from a BertForSequenceClassification model).\n",
            "Some weights of RobertaForTokenClassification were not initialized from the model checkpoint at roberta-base and are newly initialized: ['classifier.weight', 'classifier.bias']\n",
            "You should probably TRAIN this model on a down-stream task to be able to use it for predictions and inference.\n"
          ]
        }
      ]
    },
    {
      "cell_type": "code",
      "metadata": {
        "id": "L1omWbfLZUzp"
      },
      "source": [
        "import pandas as pd\n",
        "\n",
        "a =[(index, each['text'], each['entity']) for index in range(len(entities)) for each in entities[index]]\n",
        "p = pd.DataFrame(a)\n",
        "p.columns = ['sentence_id', 'words', 'labels']"
      ],
      "execution_count": 8,
      "outputs": []
    },
    {
      "cell_type": "code",
      "metadata": {
        "colab": {
          "base_uri": "https://localhost:8080/",
          "height": 218,
          "referenced_widgets": [
            "ecbf2465325848298f47b713297cfdb8",
            "8cae62076f0245928e817598a1cebfb2",
            "7ba05659422e4fffb740c266688c7652",
            "590d3aa8653a409badc42fd2d3be8eb8",
            "f6d78fa6c0994dc698e0c64e0b448cf0",
            "dd42061d7ab04c04a106f4826d11c1d4",
            "289aea97614c47c49ee2e9b4dadb3dba",
            "bebded8f24434e969552766dc2d83561",
            "43cba26f2ee544549ea6e0a87e87b1f2",
            "222943f46f424cb7bbe50dacc4fa6bb9",
            "468446abce86439db35c2a5ae1c2fcdd",
            "85abc18a89484e23b831886478c1853d",
            "c191d752614f4ab7bea4d2d47ba37d96",
            "e61439d710304153ba1eb39a6a1e54b2",
            "cb17945be4834fda8c0bf563793d2821",
            "81d09b57f86e40b5a7ba300fc963de06",
            "5e0fb29b097740dc9db0fed496e3f18c",
            "72bebf45c627441586a817968ef11d0b",
            "72a6f2df638a4f7a85cab1134907664b",
            "7b7989bea0704c378f323b75b9447fac",
            "990886f3b2b64701a21c8c2b718be762",
            "ffb6df9b389e46b98e52857c49ab0ee1",
            "3fdf2c7d1e8e439c918eac4450c4dd11",
            "0ab74b9d6c114953be9756cb61136560",
            "57d7bd4d70494edcbd821c2e42d5eddd",
            "fb697aaac0ed452ba0d7c1e934f5635d",
            "b7bb689023e34208a2a01ddb22cba302",
            "3b859ba86299406f98988d6645f12b5c",
            "dd7a774e4a8d408aadfcdcf80006a26a",
            "2b6be3d12e1748b29640c9c62b848c31",
            "791db18ea4854a8281dbe47f49648637",
            "95ffd6292bbd4aac8d8793c25bd325dd",
            "7195821fce3d45f4bc79f0417bc38f9d"
          ]
        },
        "id": "fENsQMnWbf_U",
        "outputId": "a8c38b68-d952-4c31-a2a6-775c99577053"
      },
      "source": [
        "model1.train_model(p)"
      ],
      "execution_count": 14,
      "outputs": [
        {
          "output_type": "display_data",
          "data": {
            "application/vnd.jupyter.widget-view+json": {
              "model_id": "ecbf2465325848298f47b713297cfdb8",
              "version_minor": 0,
              "version_major": 2
            },
            "text/plain": [
              "  0%|          | 0/1 [00:00<?, ?it/s]"
            ]
          },
          "metadata": {}
        },
        {
          "output_type": "display_data",
          "data": {
            "application/vnd.jupyter.widget-view+json": {
              "model_id": "85abc18a89484e23b831886478c1853d",
              "version_minor": 0,
              "version_major": 2
            },
            "text/plain": [
              "Epoch:   0%|          | 0/1 [00:00<?, ?it/s]"
            ]
          },
          "metadata": {}
        },
        {
          "output_type": "display_data",
          "data": {
            "application/vnd.jupyter.widget-view+json": {
              "model_id": "3fdf2c7d1e8e439c918eac4450c4dd11",
              "version_minor": 0,
              "version_major": 2
            },
            "text/plain": [
              "Running Epoch 0 of 1:   0%|          | 0/26 [00:00<?, ?it/s]"
            ]
          },
          "metadata": {}
        },
        {
          "output_type": "stream",
          "name": "stderr",
          "text": [
            "/usr/local/lib/python3.7/dist-packages/simpletransformers/ner/ner_model.py:775: FutureWarning: Non-finite norm encountered in torch.nn.utils.clip_grad_norm_; continuing anyway. Note that the default behavior will change in a future release to error out if a non-finite total norm is encountered. At that point, setting error_if_nonfinite=false will be required to retain the old behavior.\n",
            "  model.parameters(), args.max_grad_norm\n",
            "/usr/local/lib/python3.7/dist-packages/torch/optim/lr_scheduler.py:134: UserWarning: Detected call of `lr_scheduler.step()` before `optimizer.step()`. In PyTorch 1.1.0 and later, you should call them in the opposite order: `optimizer.step()` before `lr_scheduler.step()`.  Failure to do this will result in PyTorch skipping the first value of the learning rate schedule. See more details at https://pytorch.org/docs/stable/optim.html#how-to-adjust-learning-rate\n",
            "  \"https://pytorch.org/docs/stable/optim.html#how-to-adjust-learning-rate\", UserWarning)\n"
          ]
        },
        {
          "output_type": "execute_result",
          "data": {
            "text/plain": [
              "(26, 1.0940209455215013)"
            ]
          },
          "metadata": {},
          "execution_count": 14
        }
      ]
    },
    {
      "cell_type": "code",
      "metadata": {
        "colab": {
          "base_uri": "https://localhost:8080/",
          "height": 81,
          "referenced_widgets": [
            "2da4d3b42fa74b09aa77d7a2a7aafb8a",
            "e560236045954ef1b928f6f0b78cbc3d",
            "4a10ce0bf20c48bda9fa56962d4ee043",
            "16607004a37d410197e02d7f4ab2cbcc",
            "4a29edc234d346e79fa26d1d27462d6e",
            "5ced0402f747463fad3c1c1414284176",
            "7ffbfa57592847168b03b1216378f996",
            "029bb01aa9df454f8b0415c0e0bb2eef",
            "c7ba6aa3eb774bc482f2f0f450c273d8",
            "ef3a0d71acbc4e0aaafb088254b5a4bf",
            "c915886d77d94beca1d32290fd2cdc65",
            "f1d4afed6d2946399a02cc7e009ab0a5",
            "397bc15d4cb84d0b91acf512d6ae629f",
            "7b993bef43b0436292ce42e131967218",
            "40e41df3402e4ffa92b8a7ab98d82ba6",
            "a75981064f7448fa91b2c4bf0fcef491",
            "8d7d94ddd6f94fbcb532d5b6b2ea7e17",
            "94bdeacbf6af41f6af05b35fad369af2",
            "84bb1fd686dc4421b19f124264aa2968",
            "2c6bf35d3c454a46957071ddd1fc9a66",
            "a108f469fa864e219b8c21adcc91fc50",
            "26024e5b71b24d17ade0b9db398afbaf"
          ]
        },
        "id": "8o0T79iZcTq2",
        "outputId": "9b9ace28-a259-4c6d-e4e0-5ec2be46348b"
      },
      "source": [
        "predictions, raw_outputs = model1.predict([\"hell0 lets begin from hoem and end at city\", \"Its good you have joined us in time\"])\n"
      ],
      "execution_count": 16,
      "outputs": [
        {
          "output_type": "display_data",
          "data": {
            "application/vnd.jupyter.widget-view+json": {
              "model_id": "2da4d3b42fa74b09aa77d7a2a7aafb8a",
              "version_minor": 0,
              "version_major": 2
            },
            "text/plain": [
              "  0%|          | 0/1 [00:00<?, ?it/s]"
            ]
          },
          "metadata": {}
        },
        {
          "output_type": "display_data",
          "data": {
            "application/vnd.jupyter.widget-view+json": {
              "model_id": "f1d4afed6d2946399a02cc7e009ab0a5",
              "version_minor": 0,
              "version_major": 2
            },
            "text/plain": [
              "Running Prediction:   0%|          | 0/1 [00:00<?, ?it/s]"
            ]
          },
          "metadata": {}
        }
      ]
    },
    {
      "cell_type": "code",
      "metadata": {
        "colab": {
          "base_uri": "https://localhost:8080/"
        },
        "id": "aae1V8VefBQx",
        "outputId": "0c5048c8-68aa-4d23-f52a-f399c90b0223"
      },
      "source": [
        "predictions"
      ],
      "execution_count": 17,
      "outputs": [
        {
          "output_type": "execute_result",
          "data": {
            "text/plain": [
              "[[{'hell': 'StationStart'},\n",
              "  {'lets': 'StationStart'},\n",
              "  {'begin': 'StationDest'},\n",
              "  {'from': 'StationDest'},\n",
              "  {'hoem': 'StationDest'},\n",
              "  {'and': 'StationDest'},\n",
              "  {'end': 'StationDest'},\n",
              "  {'at': 'StationDest'},\n",
              "  {'city': 'StationDest'}],\n",
              " [{'Its': 'StationStart'},\n",
              "  {'good': 'Vehicle'},\n",
              "  {'you': 'StationDest'},\n",
              "  {'have': 'StationDest'},\n",
              "  {'joined': 'StationStart'},\n",
              "  {'us': 'StationStart'},\n",
              "  {'in': 'StationStart'},\n",
              "  {'time': 'StationDest'}]]"
            ]
          },
          "metadata": {},
          "execution_count": 17
        }
      ]
    },
    {
      "cell_type": "code",
      "metadata": {
        "colab": {
          "base_uri": "https://localhost:8080/"
        },
        "id": "NmXOJw6QfBjZ",
        "outputId": "2eb085e7-ee16-499c-e4db-751b7045c9d6"
      },
      "source": [
        "raw_outputs"
      ],
      "execution_count": 18,
      "outputs": [
        {
          "output_type": "execute_result",
          "data": {
            "text/plain": [
              "[[{'hell': [[-1.687, -1.935, 0.8774, 2.066, -2.135, 1.574, 1.101]]},\n",
              "  {'lets': [[-1.252, -1.657, 1.345, 1.651, -1.435, 0.6836, 1.474]]},\n",
              "  {'begin': [[-1.873, -1.958, 1.803, 1.46, -1.667, 0.9487, 2.271]]},\n",
              "  {'from': [[-1.52, -1.981, 1.681, 1.384, -1.451, 0.7773, 2.064]]},\n",
              "  {'hoem': [[-1.743, -2.34, 0.616, 2.057, -1.902, 0.273, 2.809],\n",
              "    [-1.673, -2.004, 1.245, 1.804, -1.685, -0.2847, 2.564]]},\n",
              "  {'and': [[-1.39, -1.512, 0.875, 1.49, -1.548, -0.2266, 2.896]]},\n",
              "  {'end': [[-1.631, -1.998, 1.15, 1.626, -1.666, 0.01918, 2.645]]},\n",
              "  {'at': [[-1.539, -2.4, 1.212, 1.468, -1.788, 0.02232, 2.316]]},\n",
              "  {'city': [[-1.236, -1.932, 1.058, 1.794, -1.396, 1.178, 1.911]]}],\n",
              " [{'Its': [[-0.722, -1.217, 0.622, 1.634, -0.9067, 1.391, 0.722]]},\n",
              "  {'good': [[-0.557, -0.984, 0.4563, 0.9297, -0.7197, 1.049, 0.6973]]},\n",
              "  {'you': [[-0.698, -0.93, 0.7534, 1.072, -0.908, 1.051, 1.48]]},\n",
              "  {'have': [[-0.6123, -0.4736, 0.4395, 1.25, -0.7393, 1.094, 1.367]]},\n",
              "  {'joined': [[-0.967, -0.5645, 0.5405, 1.485, -1.407, 0.9927, 0.9795]]},\n",
              "  {'us': [[-0.7603, -0.5757, 0.1823, 0.932, -0.694, 0.43, 0.9155]]},\n",
              "  {'in': [[-0.648, -1.737, 0.7383, 1.971, -1.401, 0.8066, 1.087]]},\n",
              "  {'time': [[-0.7085, -1.411, 0.7397, 1.165, -0.8184, 0.928, 1.448]]}]]"
            ]
          },
          "metadata": {},
          "execution_count": 18
        }
      ]
    },
    {
      "cell_type": "markdown",
      "metadata": {
        "id": "qa7oRbSnla6N"
      },
      "source": [
        "## NER using token classification mechanism"
      ]
    },
    {
      "cell_type": "markdown",
      "metadata": {
        "id": "Afornh_VShcN"
      },
      "source": [
        ""
      ]
    },
    {
      "cell_type": "code",
      "metadata": {
        "colab": {
          "base_uri": "https://localhost:8080/"
        },
        "id": "-HtaDRe-fE6G",
        "outputId": "09ea1f0b-9f93-4c4e-b00f-d6a8671968d5"
      },
      "source": [
        "#All Imports\n",
        "import pandas as pd\n",
        "import numpy as np\n",
        "from matplotlib import pyplot as plt\n",
        "import nltk\n",
        "nltk.download('stopwords')\n",
        "from nltk.stem.porter import PorterStemmer\n",
        "from nltk.corpus import stopwords \n",
        "from bs4 import BeautifulSoup\n",
        "nltk.download('wordnet')"
      ],
      "execution_count": 16,
      "outputs": [
        {
          "output_type": "stream",
          "name": "stdout",
          "text": [
            "[nltk_data] Downloading package stopwords to /root/nltk_data...\n",
            "[nltk_data]   Unzipping corpora/stopwords.zip.\n",
            "[nltk_data] Downloading package wordnet to /root/nltk_data...\n",
            "[nltk_data]   Unzipping corpora/wordnet.zip.\n"
          ]
        },
        {
          "output_type": "execute_result",
          "data": {
            "text/plain": [
              "True"
            ]
          },
          "metadata": {},
          "execution_count": 16
        }
      ]
    },
    {
      "cell_type": "markdown",
      "metadata": {
        "id": "F389EBA8lJ1K"
      },
      "source": [
        "**creatign training data**"
      ]
    },
    {
      "cell_type": "code",
      "metadata": {
        "colab": {
          "base_uri": "https://localhost:8080/"
        },
        "id": "QIzfe9yktx7x",
        "outputId": "0f489472-29e2-404e-b8ef-35422c37e294"
      },
      "source": [
        "a =[(index, each['text'], each['entity']) for index in range(len(entities)) for each in entities[index]]\n",
        "p = pd.DataFrame(a)\n",
        "p.columns = ['sentence_id', 'words', 'labels']\n",
        "print(p)\n",
        "print(p.shape)"
      ],
      "execution_count": 17,
      "outputs": [
        {
          "output_type": "stream",
          "name": "stdout",
          "text": [
            "     sentence_id                       words        labels\n",
            "0              0                 marienplatz   StationDest\n",
            "1              1                       train       Vehicle\n",
            "2              1                        next     Criterion\n",
            "3              1            muncher freiheit  StationStart\n",
            "4              2                      u-bahn       Vehicle\n",
            "..           ...                         ...           ...\n",
            "495          203  garching forschungszentrum  StationStart\n",
            "496          204                    garching  StationStart\n",
            "497          204                 marienplatz   StationDest\n",
            "498          205                    garching  StationStart\n",
            "499          205              studentenstadt   StationDest\n",
            "\n",
            "[500 rows x 3 columns]\n",
            "(500, 3)\n"
          ]
        }
      ]
    },
    {
      "cell_type": "code",
      "metadata": {
        "colab": {
          "base_uri": "https://localhost:8080/"
        },
        "id": "8q75xRFNcJ60",
        "outputId": "491a41a9-2f59-403c-8e20-da339ab664e7"
      },
      "source": [
        "#preparing training data\n",
        "from nltk import ngrams\n",
        "\n",
        "training = []\n",
        "out_Class=[]\n",
        "#for index in range(len(text_data)):\n",
        "for index in range(len(text_data)):\n",
        "  out = ngrams(text_data[index].split(), 3)\n",
        "\n",
        "  for sub_out in out:\n",
        "    training.append(\" \".join(list(sub_out)))\n",
        "    temp = p[p['sentence_id'] == index]\n",
        "    flag=0\n",
        "    for each in temp['words']:\n",
        "      if each in sub_out:\n",
        "        out_Class.append(temp[temp['words'] == each]['labels'].values[0])\n",
        "        flag=1\n",
        "        break\n",
        "    if flag==0:\n",
        "      out_Class.append('not found')\n",
        "\n",
        "print(out_Class)\n",
        "print(len(out_Class))\n",
        "print(training)\n",
        "print(len(training))"
      ],
      "execution_count": 18,
      "outputs": [
        {
          "output_type": "stream",
          "name": "stdout",
          "text": [
            "['not found', 'not found', 'StationDest', 'not found', 'Criterion', 'Vehicle', 'Vehicle', 'Vehicle', 'not found', 'not found', 'Criterion', 'Vehicle', 'Vehicle', 'Vehicle', 'not found', 'not found', 'not found', 'not found', 'StationDest', 'not found', 'Criterion', 'Vehicle', 'Vehicle', 'Vehicle', 'not found', 'not found', 'StationDest', 'not found', 'Criterion', 'Vehicle', 'Vehicle', 'Vehicle', 'not found', 'not found', 'StationDest', 'not found', 'not found', 'not found', 'not found', 'StationStart', 'StationStart', 'StationStart', 'not found', 'not found', 'not found', 'not found', 'not found', 'not found', 'StationDest', 'not found', 'not found', 'not found', 'StationStart', 'StationStart', 'StationStart', 'StationStart', 'StationStart', 'StationStart', 'not found', 'not found', 'not found', 'not found', 'not found', 'not found', 'not found', 'Criterion', 'Vehicle', 'Vehicle', 'Vehicle', 'not found', 'not found', 'not found', 'not found', 'StationStart', 'StationStart', 'StationStart', 'not found', 'not found', 'not found', 'not found', 'not found', 'StationDest', 'not found', 'not found', 'not found', 'not found', 'not found', 'not found', 'StationDest', 'StationStart', 'not found', 'not found', 'not found', 'StationStart', 'StationStart', 'StationStart', 'not found', 'not found', 'Criterion', 'Vehicle', 'Vehicle', 'Vehicle', 'not found', 'StationStart', 'StationStart', 'not found', 'not found', 'not found', 'not found', 'StationStart', 'StationStart', 'StationStart', 'not found', 'not found', 'not found', 'not found', 'not found', 'StationStart', 'StationStart', 'StationStart', 'not found', 'not found', 'Criterion', 'Vehicle', 'Vehicle', 'Vehicle', 'not found', 'StationStart', 'StationStart', 'not found', 'not found', 'not found', 'StationDest', 'StationDest', 'StationDest', 'not found', 'not found', 'not found', 'not found', 'StationStart', 'StationStart', 'StationStart', 'not found', 'not found', 'not found', 'StationDest', 'StationDest', 'StationDest', 'not found', 'not found', 'Criterion', 'Vehicle', 'Vehicle', 'Vehicle', 'not found', 'not found', 'not found', 'not found', 'not found', 'StationStart', 'StationStart', 'StationStart', 'not found', 'not found', 'not found', 'StationStart', 'StationStart', 'StationStart', 'not found', 'not found', 'not found', 'StationStart', 'StationStart', 'StationStart', 'not found', 'not found', 'not found', 'not found', 'StationStart', 'StationStart', 'StationStart', 'not found', 'not found', 'not found', 'StationStart', 'StationStart', 'StationStart', 'not found', 'Criterion', 'Vehicle', 'Vehicle', 'Vehicle', 'not found', 'Criterion', 'Criterion', 'Criterion', 'StationStart', 'StationStart', 'StationStart', 'not found', 'Criterion', 'Vehicle', 'Vehicle', 'Vehicle', 'not found', 'not found', 'not found', 'StationStart', 'StationStart', 'StationStart', 'not found', 'not found', 'Criterion', 'Vehicle', 'Vehicle', 'Vehicle', 'not found', 'not found', 'not found', 'not found', 'StationStart', 'StationStart', 'StationStart', 'not found', 'not found', 'not found', 'StationStart', 'StationStart', 'StationStart', 'not found', 'not found', 'StationDest', 'StationDest', 'StationStart', 'not found', 'not found', 'not found', 'StationStart', 'StationStart', 'StationStart', 'not found', 'not found', 'not found', 'StationStart', 'StationStart', 'StationStart', 'StationStart', 'not found', 'not found', 'not found', 'StationDest', 'StationDest', 'StationStart', 'Criterion', 'Vehicle', 'StationStart', 'StationStart', 'not found', 'Criterion', 'Vehicle', 'Vehicle', 'Vehicle', 'not found', 'StationStart', 'StationStart', 'not found', 'not found', 'StationDest', 'Vehicle', 'Vehicle', 'not found', 'Vehicle', 'Vehicle', 'Vehicle', 'not found', 'not found', 'Criterion', 'Vehicle', 'not found', 'not found', 'Criterion', 'Vehicle', 'Vehicle', 'Vehicle', 'Vehicle', 'Vehicle', 'not found', 'Vehicle', 'Vehicle', 'Vehicle', 'Vehicle', 'not found', 'StationStart', 'StationStart', 'Vehicle', 'Vehicle', 'StationStart', 'StationStart', 'StationStart', 'not found', 'Criterion', 'Vehicle', 'Vehicle', 'Vehicle', 'not found', 'not found', 'StationStart', 'StationStart', 'StationStart', 'not found', 'Criterion', 'Vehicle', 'Vehicle', 'Vehicle', 'not found', 'not found', 'not found', 'Criterion', 'Vehicle', 'Vehicle', 'Vehicle', 'not found', 'not found', 'Criterion', 'Vehicle', 'Vehicle', 'Vehicle', 'StationStart', 'not found', 'Criterion', 'Vehicle', 'Vehicle', 'Vehicle', 'not found', 'not found', 'not found', 'not found', 'not found', 'StationDest', 'StationDest', 'StationStart', 'not found', 'not found', 'not found', 'StationStart', 'StationStart', 'StationStart', 'not found', 'not found', 'not found', 'not found', 'not found', 'not found', 'StationDest', 'not found', 'not found', 'not found', 'StationStart', 'StationStart', 'StationStart', 'not found', 'not found', 'not found', 'StationDest', 'StationStart', 'not found', 'not found', 'not found', 'StationStart', 'StationStart', 'StationStart', 'not found', 'StationStart', 'StationStart', 'not found', 'Vehicle', 'Vehicle', 'Vehicle', 'StationStart', 'StationStart', 'StationStart', 'not found', 'not found', 'not found', 'StationStart', 'StationStart', 'StationStart', 'not found', 'not found', 'not found', 'StationDest', 'not found', 'Criterion', 'Vehicle', 'Vehicle', 'Vehicle', 'not found', 'not found', 'not found', 'not found', 'StationStart', 'StationStart', 'StationStart', 'not found', 'not found', 'not found', 'not found', 'not found', 'not found', 'StationDest', 'not found', 'not found', 'not found', 'StationStart', 'StationStart', 'StationStart', 'not found', 'not found', 'not found', 'not found', 'not found', 'StationDest', 'Vehicle', 'Vehicle', 'not found', 'not found', 'not found', 'not found', 'not found', 'Criterion', 'Vehicle', 'Vehicle', 'Vehicle', 'not found', 'Vehicle', 'Vehicle', 'Vehicle', 'not found', 'not found', 'Criterion', 'Vehicle', 'Vehicle', 'Vehicle', 'not found', 'not found', 'StationStart', 'not found', 'not found', 'not found', 'not found', 'not found', 'not found', 'not found', 'not found', 'not found', 'not found', 'not found', 'not found', 'not found', 'not found', 'not found', 'not found', 'not found', 'StationDest', 'not found', 'not found', 'not found', 'StationStart', 'StationStart', 'StationStart', 'not found', 'not found', 'StationDest', 'not found', 'Criterion', 'Line', 'Line', 'Line', 'not found', 'not found', 'not found', 'not found', 'not found', 'not found', 'not found', 'not found', 'not found', 'StationStart', 'StationStart', 'not found', 'Vehicle', 'Vehicle', 'Vehicle', 'not found', 'Criterion', 'Vehicle', 'Vehicle', 'Vehicle', 'not found', 'not found', 'not found', 'not found', 'StationStart', 'StationStart', 'StationStart', 'not found', 'not found', 'not found', 'not found', 'not found', 'not found', 'not found', 'StationDest', 'StationStart', 'StationStart', 'not found', 'not found', 'not found', 'StationStart', 'StationStart', 'StationStart', 'StationStart', 'not found', 'not found', 'not found', 'StationStart', 'StationStart', 'StationStart', 'not found', 'Criterion', 'Vehicle', 'Vehicle', 'Vehicle', 'not found', 'StationStart', 'StationStart', 'StationStart', 'Criterion', 'Criterion', 'Criterion', 'StationStart', 'StationStart', 'StationStart', 'not found', 'Criterion', 'Criterion', 'Criterion', 'StationStart', 'StationStart', 'StationStart', 'Criterion', 'Criterion', 'Criterion', 'StationStart', 'StationStart', 'StationStart', 'not found', 'not found', 'not found', 'StationStart', 'StationStart', 'StationStart', 'not found', 'not found', 'Criterion', 'Criterion', 'Criterion', 'Criterion', 'Criterion', 'Criterion', 'not found', 'not found', 'not found', 'not found', 'not found', 'not found', 'not found', 'not found', 'not found', 'not found', 'StationDest', 'StationDest', 'Criterion', 'Criterion', 'Criterion', 'not found', 'not found', 'not found', 'Criterion', 'Criterion', 'Criterion', 'StationStart', 'StationStart', 'StationStart', 'not found', 'not found', 'not found', 'not found', 'not found', 'not found', 'not found', 'StationDest', 'StationDest', 'StationDest', 'not found', 'not found', 'not found', 'not found', 'not found', 'StationStart', 'StationStart', 'StationStart', 'StationDest', 'StationDest', 'not found', 'not found', 'not found', 'not found', 'StationStart', 'StationStart', 'StationStart', 'StationDest', 'StationDest', 'not found', 'not found', 'not found', 'not found', 'StationDest', 'StationDest', 'StationDest', 'not found', 'not found', 'not found', 'not found', 'not found', 'not found', 'not found', 'not found', 'not found', 'not found', 'not found', 'not found', 'StationDest', 'StationDest', 'TimeEndTime', 'not found', 'not found', 'Vehicle', 'Vehicle', 'Vehicle', 'StationStart', 'StationStart', 'not found', 'not found', 'Criterion', 'Criterion', 'Criterion', 'StationStart', 'StationStart', 'StationStart', 'not found', 'not found', 'not found', 'not found', 'not found', 'not found', 'not found', 'not found', 'not found', 'not found', 'Vehicle', 'Vehicle', 'Vehicle', 'StationStart', 'StationStart', 'not found', 'Vehicle', 'Vehicle', 'Vehicle', 'StationStart', 'StationStart', 'not found', 'Vehicle', 'Vehicle', 'Vehicle', 'StationStart', 'StationStart', 'StationDest', 'StationDest', 'not found', 'not found', 'Vehicle', 'Vehicle', 'Vehicle', 'StationStart', 'StationStart', 'StationDest', 'StationDest', 'not found', 'not found', 'not found', 'not found', 'Criterion', 'Criterion', 'Criterion', 'not found', 'not found', 'not found', 'not found', 'not found', 'not found', 'not found', 'not found', 'not found', 'Criterion', 'Vehicle', 'Vehicle', 'Vehicle', 'not found', 'not found', 'not found', 'not found', 'StationStart', 'StationStart', 'StationStart', 'not found', 'not found', 'not found', 'StationStart', 'StationStart', 'StationStart', 'Criterion', 'Vehicle', 'Vehicle', 'Vehicle', 'StationStart', 'StationStart', 'not found', 'Criterion', 'Criterion', 'Criterion', 'not found', 'not found', 'not found', 'not found', 'not found', 'not found', 'not found', 'StationStart', 'StationStart', 'StationStart', 'not found', 'not found', 'not found', 'not found', 'not found', 'not found', 'not found', 'not found', 'not found', 'not found', 'not found', 'not found', 'not found', 'not found', 'not found', 'not found', 'not found', 'not found', 'not found', 'not found', 'not found', 'not found', 'not found', 'not found', 'not found', 'StationDest', 'StationDest', 'StationDest', 'not found', 'Criterion', 'Vehicle', 'Vehicle', 'Vehicle', 'not found', 'Criterion', 'Vehicle', 'Vehicle', 'Vehicle', 'not found', 'not found', 'not found', 'not found', 'not found', 'Line', 'Line', 'Line', 'not found', 'not found', 'Criterion', 'Vehicle', 'Vehicle', 'Vehicle', 'not found', 'not found', 'not found', 'Criterion', 'Criterion', 'not found', 'Criterion', 'Vehicle', 'Vehicle', 'Vehicle', 'not found', 'Criterion', 'Vehicle', 'Vehicle', 'Vehicle', 'StationStart', 'StationStart', 'not found', 'Criterion', 'Vehicle', 'Vehicle', 'Vehicle', 'StationStart', 'not found', 'Criterion', 'Vehicle', 'Vehicle', 'Vehicle', 'not found', 'not found', 'Criterion', 'Vehicle', 'Vehicle', 'Vehicle', 'not found', 'not found', 'Criterion', 'Vehicle', 'not found', 'Criterion', 'Vehicle', 'Vehicle', 'Vehicle', 'not found', 'not found', 'not found', 'not found', 'Vehicle', 'Vehicle', 'not found', 'Criterion', 'Vehicle', 'Vehicle', 'Vehicle', 'not found', 'not found', 'Criterion', 'Vehicle', 'Vehicle', 'Vehicle', 'not found', 'not found', 'Criterion', 'Vehicle', 'Vehicle', 'Vehicle', 'not found', 'not found', 'Criterion', 'Vehicle', 'Vehicle', 'Vehicle', 'not found', 'Criterion', 'Vehicle', 'Vehicle', 'Vehicle', 'not found', 'not found', 'Criterion', 'Vehicle', 'Vehicle', 'Vehicle', 'not found', 'not found', 'not found', 'Criterion', 'Vehicle', 'Vehicle', 'Vehicle', 'not found', 'Criterion', 'Vehicle', 'Vehicle', 'Vehicle', 'not found', 'not found', 'not found', 'not found', 'not found', 'Criterion', 'Vehicle', 'Vehicle', 'Vehicle', 'not found', 'not found', 'Criterion', 'Vehicle', 'Vehicle', 'Vehicle', 'not found', 'not found', 'Vehicle', 'Vehicle', 'Vehicle', 'not found', 'not found', 'not found', 'Vehicle', 'Vehicle', 'Vehicle', 'not found', 'Criterion', 'Vehicle', 'Vehicle', 'Vehicle', 'not found', 'not found', 'Vehicle', 'Vehicle', 'Vehicle', 'StationStart', 'Vehicle', 'Vehicle', 'not found', 'Criterion', 'Vehicle', 'Vehicle', 'Vehicle', 'not found', 'not found', 'Vehicle', 'Vehicle', 'Vehicle', 'StationStart', 'not found', 'Vehicle', 'Vehicle', 'Vehicle', 'not found', 'not found', 'not found', 'not found', 'StationStart', 'StationStart', 'StationStart', 'not found', 'Criterion', 'Vehicle', 'Vehicle', 'Vehicle', 'not found', 'not found', 'not found', 'not found', 'not found', 'StationStart', 'StationStart', 'StationStart', 'not found', 'not found', 'not found', 'StationStart', 'StationStart', 'StationStart', 'not found', 'not found', 'not found', 'StationStart', 'StationStart', 'StationStart', 'not found', 'not found', 'not found', 'not found', 'not found', 'not found', 'StationStart', 'StationStart', 'StationStart', 'not found', 'Criterion', 'Vehicle', 'Vehicle', 'Vehicle', 'not found', 'Criterion', 'Vehicle', 'not found', 'Criterion', 'Vehicle', 'Vehicle', 'Vehicle', 'not found', 'Criterion', 'Vehicle', 'Vehicle', 'Vehicle', 'not found', 'not found', 'not found', 'Criterion', 'Vehicle', 'Vehicle', 'Vehicle', 'StationStart', 'StationStart', 'not found', 'not found', 'not found', 'not found', 'StationStart', 'StationStart', 'StationStart', 'not found', 'not found', 'not found', 'not found', 'not found', 'not found', 'not found', 'not found', 'not found', 'not found', 'not found', 'not found', 'not found', 'StationStart', 'StationStart', 'StationStart', 'not found', 'not found', 'not found', 'StationStart', 'StationStart', 'StationStart', 'not found', 'not found', 'not found', 'not found', 'StationStart', 'StationStart', 'not found', 'Criterion', 'Vehicle', 'Vehicle', 'Vehicle', 'not found', 'not found', 'not found', 'StationStart', 'StationStart', 'StationStart', 'not found', 'not found', 'not found', 'StationDest', 'StationDest', 'StationDest', 'not found', 'Criterion', 'Criterion', 'Criterion', 'Vehicle', 'not found', 'not found', 'not found', 'StationStart', 'StationStart', 'StationStart', 'not found', 'Criterion', 'Criterion', 'Criterion', 'Vehicle', 'not found', 'not found', 'not found', 'not found', 'not found', 'not found', 'StationDest', 'not found', 'not found', 'not found', 'not found', 'not found', 'not found', 'StationDest', 'not found', 'not found', 'not found', 'not found', 'not found', 'not found', 'StationDest', 'not found', 'Criterion', 'Vehicle', 'Vehicle', 'Vehicle', 'not found', 'not found', 'not found', 'StationDest', 'not found', 'Criterion', 'Vehicle', 'Vehicle', 'Vehicle', 'not found', 'not found', 'not found', 'not found', 'StationDest', 'StationStart', 'StationStart', 'not found', 'not found', 'StationStart', 'StationStart', 'StationStart', 'not found', 'not found', 'StationStart', 'StationStart', 'StationStart', 'not found', 'Criterion', 'Vehicle', 'Vehicle', 'Vehicle', 'not found', 'Criterion', 'Vehicle', 'Vehicle', 'Vehicle', 'not found', 'StationStart', 'StationStart', 'StationStart', 'not found', 'not found', 'not found', 'not found', 'not found', 'not found', 'not found', 'not found', 'Criterion', 'Vehicle', 'Vehicle', 'Vehicle', 'not found', 'not found', 'not found', 'not found', 'StationStart', 'StationStart', 'StationStart', 'StationStart', 'StationStart']\n",
            "1175\n",
            "['i want to', 'want to go', 'to go marienplatz', 'when is the', 'is the next', 'the next train', 'next train in', 'train in muncher', 'in muncher freiheit?', 'when does the', 'does the next', 'the next u-bahn', 'next u-bahn leaves', 'u-bahn leaves from', 'leaves from garching', 'from garching forschungszentrum?', 'from olympia einkaufszentrum', 'olympia einkaufszentrum to', 'einkaufszentrum to hauptbahnhof', 'when is the', 'is the next', 'the next train', 'next train from', 'train from winterstraße', 'from winterstraße 12', 'winterstraße 12 to', '12 to kieferngarten', 'when is the', 'is the next', 'the next rocket', 'next rocket from', 'rocket from winterstraße', 'from winterstraße 12', 'winterstraße 12 to', '12 to kieferngarte', 'can you find', 'you find a', 'find a connection', 'a connection from', 'connection from garching', 'from garching to', 'garching to hauptbahnhof?', 'how to get', 'to get from', 'get from untere', 'from untere strassäcker', 'untere strassäcker 21', 'strassäcker 21 to', '21 to fröttmaning', 'how i can', 'i can get', 'can get from', 'get from marienplatz', 'from marienplatz to', 'marienplatz to garching', 'connection from boltzmannstraße', 'from boltzmannstraße to', 'boltzmannstraße to kieferngarten', 'how to get', 'to get from', 'get from bonner', 'from bonner platz', 'bonner platz to', 'platz to freimann?', 'when is the', 'is the next', 'the next s-bahn', 'next s-bahn leaving', 's-bahn leaving at', 'leaving at garching?', 'how do i', 'do i get', 'i get from', 'get from oez', 'from oez to', 'oez to hbf?', 'how to get', 'to get from', 'get from winterstrasse', 'from winterstrasse 12', 'winterstrasse 12 to', '12 to fröttmaning', 'how do i', 'do i get', 'i get from', 'get from garching', 'from garching forschungszentrum', 'garching forschungszentrum to', 'forschungszentrum to pasing', 'theresienstraße to assling', 'how can i', 'can i get', 'i get from', 'get from theresienstraße', 'from theresienstraße to', 'theresienstraße to munich', 'to munich east?', 'when does the', 'does the next', 'the next bus', 'next bus starts', 'bus starts from', 'starts from garching?', 'from quiddestraße to', 'quiddestraße to garching?', 'can you find', 'you find a', 'find a connection', 'a connection from', 'connection from kurt-eisner-straße', 'from kurt-eisner-straße to', 'kurt-eisner-straße to garching', 'to garching forschungszentrum?', 'can you find', 'you find a', 'find a connection', 'a connection from', 'connection from quiddestraße', 'from quiddestraße to', 'quiddestraße to garching', 'to garching forschungszentrum?', 'when does the', 'does the next', 'the next train', 'next train leaves', 'train leaves at', 'leaves at garching?', 'from hauptbahnhof to', 'hauptbahnhof to garching?', 'how can i', 'can i get', 'i get to', 'get to glockenbachviertel', 'to glockenbachviertel from', 'glockenbachviertel from garching', 'from garching forschungszentrum?', 'how i can', 'i can get', 'can get from', 'get from garching', 'from garching to', 'garching to nordfriedhof', 'how can i', 'can i get', 'i get to', 'get to glockenbachviertel', 'to glockenbachviertel from', 'glockenbachviertel from garching', 'from garching forschungszentrum?', 'when is the', 'is the next', 'the next train', 'next train leaving', 'train leaving in', 'leaving in garching', 'in garching forschungszentrum', 'how can i', 'can i get', 'i get from', 'get from moosach', 'from moosach to', 'moosach to quiddestraße?', 'how can i', 'can i get', 'i get from', 'get from moosach', 'from moosach to', 'moosach to poccistraße?', 'how can i', 'can i get', 'i get from', 'get from kurt-eisner-straße', 'from kurt-eisner-straße to', 'kurt-eisner-straße to garching', 'to garching forschungszentrum?', 'how can i', 'can i get', 'i get from', 'get from moosach', 'from moosach to', 'moosach to quiddestraße?', 'how can i', 'can i get', 'i get from', 'get from moosach', 'from moosach to', 'moosach to odeonsplatz?', 'when does the', 'does the next', 'the next bus', 'next bus starts', 'bus starts at', 'starts at garching?', \"what's the shortest\", 'the shortest way', 'shortest way from', 'way from quiddestraße', 'from quiddestraße to', 'quiddestraße to odeonsplatz?', 'when is the', 'is the next', 'the next bus', 'next bus from', 'bus from ostbahnhof', 'how i can', 'i can get', 'can get from', 'get from garching', 'from garching to', 'garching to neuperlach', 'to neuperlach sued', 'when is the', 'is the next', 'the next train', 'next train in', 'train in munchner', 'in munchner freiheit?', 'how i can', 'i can get', 'can get from', 'get from marienplatz', 'from marienplatz to', 'marienplatz to garching?', 'how do i', 'do i get', 'i get from', 'get from poccistraße', 'from poccistraße to', 'poccistraße to laim', 'i want to', 'want to go', 'to go garching', 'go garching from', 'garching from marienplatz', 'how i can', 'i can get', 'can get from', 'get from marienplatz', 'from marienplatz to', 'marienplatz to garching?', 'how can i', 'can i get', 'i get from', 'get from hauptbahnhof', 'from hauptbahnhof to', 'hauptbahnhof to odeonsplatz', 'prinzregentenplatz to rotkreuzplatz', 'i want to', 'want to go', 'to go to', 'go to garching', 'to garching from', 'garching from marienplatz', 'next train from', 'train from garching', 'from prinzregentenplatz to', 'prinzregentenplatz to rotkreuzplatz', 'when is the', 'is the next', 'the next subway', 'next subway from', 'subway from garching', 'from garching forschungszentrum', 'from garching to', 'garching to klinikum', 'from garching foschungszentrum', 'garching foschungszentrum to', 'foschungszentrum to odeonsplatz', 'next bus in', 'bus in garching', 'when does the', 'does the train', 'the train leaving', 'train leaving in', 'leaving in garching', 'in garching forschungszentrum', 'next subway from', 'subway from garching', 'from garching forschungszentrum', 'tell me the', 'me the next', 'the next bus', 'next bus from', 'bus from garching', 'next bus from', 'bus from garching,', 'from garching, please.', 'next bus from', 'bus from garching', 'next bus from', 'bus from central', 'from central station', 'from garching to', 'garching to marienplatz', 'next bus from', 'bus from garching.', 'connection from garching', 'from garching to', 'garching to hauptbahnhof?', 'when does the', 'does the next', 'the next bus', 'next bus departs', 'bus departs from', 'departs from garching?', 'find connection from', 'connection from hauptbahnhof', 'from hauptbahnhof to', 'hauptbahnhof to odeonsplatz', 'when does the', 'does the next', 'the next u-bahn', 'next u-bahn departs', 'u-bahn departs at', 'departs at garching', 'at garching forschungszentrum?', 'when does the', 'does the next', 'the next u-bahn', 'next u-bahn departs', 'u-bahn departs at', 'departs at garching?', 'when does the', 'does the next', 'the next subway', 'next subway departs', 'subway departs at', 'departs at garching', 'when is the', 'is the next', 'the next train', 'next train in', 'train in garching?', 'how to get', 'to get from', 'get from münchner', 'from münchner freiheit', 'münchner freiheit to', 'freiheit to garching', 'to garching ?', 'implerstraße to ostbahnhof', 'how can i', 'can i get', 'i get from', 'get from hauptbahnhof', 'from hauptbahnhof to', 'hauptbahnhof to odeonsplatz?', 'how can i', 'can i go', 'i go from', 'go from garching', 'from garching forschungszentrum', 'garching forschungszentrum to', 'forschungszentrum to prinzregentenplatz', 'how can i', 'can i get', 'i get from', 'get from mangfallplatz', 'from mangfallplatz to', 'mangfallplatz to garching', 'how can i', 'can i get', 'i get to', 'get to hohenlindenerstraße', 'harthaus to hackerbrücke', 'how can i', 'can i get', 'i get from', 'get from feldmoching', 'from feldmoching to', 'feldmoching to garching', 'to garching forschungszentrum?', 'from marienplatz to', 'marienplatz to petershausen', 'when is the', 'is the train', 'the train from', 'train from garching', 'from garching to', 'garching to marienplatz', 'neufahrn to garching', 'how can i', 'can i get', 'i get from', 'get from mangfallplatz', 'from mangfallplatz to', 'mangfallplatz to garching', 'how can i', 'can i get', 'i get to', 'get to hohenlindenerstr', 'when is the', 'is the next', 'the next bus', 'next bus from', 'bus from garching', 'from garching forschungzentrum', 'how do i', 'do i get', 'i get from', 'get from spitzingplatz', 'from spitzingplatz to', 'spitzingplatz to poccistraße?', 'how can i', 'can i get', 'i get from', 'get from garching', 'from garching forschungszentrum', 'garching forschungszentrum to', 'forschungszentrum to marienplatz', 'how can i', 'can i get', 'i get from', 'get from klinkum', 'from klinkum to', 'klinkum to marienplatz?', 'how to get', 'to get from', 'get from alte', 'from alte heide', 'alte heide to', 'heide to marienplatz', 'next train from', 'train from muenchen', 'from muenchen freicheit', 'depart in garching,', 'in garching, i', 'garching, i assume', 'when does the', 'does the next', 'the next u-bahn', 'next u-bahn depart', 'u-bahn depart at', 'depart at garching?', 'the next bus', 'next bus from', 'bus from garching', 'from garching forschungzentrum', 'when is the', 'is the next', 'the next train', 'next train in', 'train in alte', 'in alte heide?', 'or depart from', 'depart from garching', 'hello munich city', 'munich city bot!', 'city bot! how', 'bot! how do', 'how do i', 'do i get', 'i get from', 'get from münchner', 'from münchner freiheit', 'münchner freiheit to', 'freiheit to scheidplatz?', 'how can i', 'can i get', 'i get from', 'get from garching', 'from garching forschungszentrum', 'garching forschungszentrum to', 'forschungszentrum to prinzregentenplatz', 'how can i', 'can i get', 'i get from', 'get from neufahrn', 'from neufahrn to', 'neufahrn to garching', 'take me to', 'me to the', 'to the airport', 'when does the', 'does the next', 'the next u6', 'next u6 leave', 'u6 leave from', 'leave from garching', 'from garching forschungszentrum', 'how i can', 'i can get', 'can get from', 'get from munchner', 'from munchner freiheit', 'munchner freiheit to', 'freiheit to nordfriedhof?', 'from harthaus to', 'harthaus to hackerbrücke', 'when is the', 'is the train', 'the train from', 'train from garching', 'what is the', 'is the next', 'the next train', 'next train from', 'train from münchner', 'from münchner freiheit', 'how can i', 'can i get', 'i get from', 'get from theresienstrasse', 'from theresienstrasse to', 'theresienstrasse to garching', 'to garching forschungszentrum', 'how can i', 'can i get', 'i get from', 'get from münchner', 'from münchner freiheit', 'münchner freiheit to', 'freiheit to odeonsplatz', 'from garching to', 'garching to hauptbahnhof', 'how can i', 'can i get', 'i get from', 'get from garching', 'from garching to', 'garching to odeonsplatz', 'start: neufahrn end:garching', 'how can i', 'can i get', 'i get from', 'get from studentenstadt', 'from studentenstadt to', 'studentenstadt to garching', 'when is the', 'is the next', 'the next bus', 'next bus from', 'bus from garching', 'take me from', 'me from hauptbahnhof', 'from hauptbahnhof to', 'hauptbahnhof to odeonsplatz', \"what's the shortest\", 'the shortest connection', 'shortest connection between', 'connection between quiddestraße', 'between quiddestraße and', 'quiddestraße and odeonsplatz?', 'what is the', 'is the cheapest', 'the cheapest connection', 'cheapest connection between', 'connection between quiddestraße', 'between quiddestraße and', 'quiddestraße and hauptbahnhof?', \"what's the shortest\", 'the shortest way', 'shortest way between', 'way between hauptbahnhof', 'between hauptbahnhof and', 'hauptbahnhof and odeonsplatz?', 'how can i', 'can i get', 'i get from', 'get from garching', 'from garching to', 'garching to münchner', 'to münchner freiheit', 'münchner freiheit as', 'freiheit as fast', 'as fast as', 'fast as possible?', \"what's the cheapest\", 'the cheapest way', 'cheapest way from', 'way from neuperlach', 'from neuperlach süd', 'neuperlach süd to', 'süd to lehel?', 'how can i', 'can i get', 'i get from', 'get from neuperlach', 'from neuperlach zentrum', 'neuperlach zentrum to', 'zentrum to karlsplatz', 'to karlsplatz as', 'karlsplatz as fast', 'as fast as', 'fast as possible?', 'could you give', 'you give me', 'give me the', 'me the fastest', 'the fastest connection', 'fastest connection between', 'connection between brudermühlstraße', 'between brudermühlstraße and', 'brudermühlstraße and alte', 'and alte heide?', 'is there a', 'there a train', 'a train from', 'train from neuperlach', 'from neuperlach zentrum', 'neuperlach zentrum to', 'zentrum to garching', 'to garching at', 'garching at 3', 'at 3 pm?', 'can you find', 'you find a', 'find a connection', 'a connection from', 'connection from olympiazentrum', 'from olympiazentrum to', 'olympiazentrum to lehel', 'to lehel at', 'lehel at 2', 'at 2 pm?', 'i need a', 'need a connection', 'a connection from', 'connection from harras', 'from harras to', 'harras to karl-preis-platz', 'to karl-preis-platz at', 'karl-preis-platz at 8', 'at 8 am.', 'in need to', 'need to be', 'to be at', 'be at hauptbahnhof', 'at hauptbahnhof at', 'hauptbahnhof at 1', 'at 1 pm,', '1 pm, can', 'pm, can you', 'can you search', 'you search a', 'search a connection', 'a connection from', 'connection from garching', 'from garching forschungszentrum?', 'i need to', 'need to be', 'to be in', 'be in garching', 'in garching at', 'garching at 9', 'can i take', 'i take a', 'take a bus', 'a bus from', 'bus from quiddestraße', 'from quiddestraße to', 'quiddestraße to hauptbahnhof?', 'can you find', 'you find the', 'find the shortest', 'the shortest way', 'shortest way from', 'way from moosfeld', 'from moosfeld to', 'moosfeld to milbertshofen?', 'how can i', 'can i get', 'i get to', 'get to neuperlach', 'to neuperlach süd', 'neuperlach süd from', 'süd from garching', 'from garching forschungszentrum?', 'can you find', 'you find a', 'find a bus', 'a bus from', 'bus from quiddestraße', 'from quiddestraße to', 'quiddestraße to lehel?', 'is there a', 'there a tram', 'a tram from', 'tram from karlsplatz', 'from karlsplatz to', 'karlsplatz to lehel?', 'is there a', 'there a bus', 'a bus from', 'bus from garching', 'from garching to', 'garching to moosach', 'to moosach at', 'moosach at around', 'at around 5?', 'is there a', 'there a bus', 'a bus from', 'bus from odeonsplatz', 'from odeonsplatz to', 'odeonsplatz to hauptbahnhof', 'to hauptbahnhof at', 'hauptbahnhof at 3', 'at 3 pm?', 'can you tell', 'you tell me', 'tell me the', 'me the cheapest', 'the cheapest way', 'cheapest way from', 'way from garching', 'from garching forschungszentrum', 'garching forschungszentrum to', 'forschungszentrum to quiddestraße?', 'how can i', 'can i get', 'i get to', 'get to quiddestraße?', 'when does the', 'does the next', 'the next bus', 'next bus leaves', 'bus leaves from', 'leaves from hauptbahnhof?', 'how can i', 'can i get', 'i get from', 'get from garching', 'from garching to', 'garching to hauptbahnhof?', 'how can i', 'can i get', 'i get from', 'get from kurt-eisner-straße', 'from kurt-eisner-straße to', 'kurt-eisner-straße to garching?', 'when the next', 'the next train', 'next train in', 'train in garching,forschungszentrum', 'in garching,forschungszentrum is', 'garching,forschungszentrum is leaving?', 'what is the', 'is the next', 'the next connection', 'next connection from', 'connection from garching', 'from garching forschungszentrum', 'garching forschungszentrum to', 'forschungszentrum to odeonsplatz?', 'how can i', 'can i get', 'i get from', 'get from mossach', 'from mossach to', 'mossach to garching', 'to garching forschungszentrum?', 'how can i', 'can i get', 'i get from', 'get from garching', 'from garching forschungszentrum', 'garching forschungszentrum to', 'forschungszentrum to odeonsplatz?', 'how can i', 'can i get', 'i get from', 'get from garching,', 'from garching, forschungszentrum', 'garching, forschungszentrum to', 'forschungszentrum to odeonsplatz?', 'how can i', 'can i get', 'i get from', 'get from garching', 'from garching forschungszentrum', 'garching forschungszentrum to', 'forschungszentrum to kurt-eisner-straße?', 'how can i', 'can i get', 'i get to', 'get to boltzmannstraße', 'to boltzmannstraße from', 'boltzmannstraße from quiddestraße?', 'when does the', 'does the next', 'the next train', 'next train departs', 'train departs from', 'departs from quiddestraße?', 'when the next', 'the next train', 'next train in', 'train in garching', 'in garching forschungszentrum', 'garching forschungszentrum is', 'forschungszentrum is leaving?', 'when is the', 'is the next', 'the next u6', 'next u6 leaving', 'u6 leaving from', 'leaving from garching?', 'when does the', 'does the next', 'the next train', 'next train leave', 'train leave from', 'leave from garching', 'from garching forschungszentrum', 'when is the', 'is the next', 'the next u6?', 'when is the', 'is the next', 'the next subway', 'next subway leaving', 'subway leaving from', 'leaving from garching?', 'when the next', 'the next train', 'next train in', 'train in garching', 'in garching is', 'garching is leaving?', 'when is the', 'is the next', 'the next train', 'next train leaving', 'train leaving in', 'leaving in garching', 'when does the', 'does the next', 'the next train', 'next train leaves', 'train leaves from', 'leaves from odeonsplatz?', 'when does the', 'does the next', 'the next train', 'next train leaves', 'train leaves from', 'leaves from quiddestraße?', 'when is the', 'is the next', 'the next train', 'when does the', 'does the next', 'the next bus', 'next bus leaves', 'bus leaves at', 'leaves at garching', 'at garching forschungszentrum?', 'when does the', 'does the next', 'the next train', 'next train leaves?', 'when does the', 'does the next', 'the next bus', 'next bus leave', 'bus leave in', 'leave in garching?', 'when does the', 'does the next', 'the next s-bahn', 'next s-bahn leaves', 's-bahn leaves from', 'leaves from hauptbahnhof?', 'when does the', 'does the next', 'the next subway', 'next subway departes', 'subway departes from', 'departes from odeonsplatz?', 'show me the', 'me the next', 'the next bus', 'next bus from', 'bus from garching!', 'when does the', 'does the next', 'the next tram', 'next tram starts', 'tram starts from', 'starts from hauptbahnhof?', 'when will the', 'will the next', 'the next u-bahn', 'next u-bahn depart', 'u-bahn depart from', 'depart from garching', 'from garching forschungszentrum?', 'show me the', 'me the next', 'the next bus', 'next bus from', 'bus from michaelibad.', 'when does the', 'does the next', 'the next train', 'next train starts', 'train starts at', 'starts at sendlinger', 'at sendlinger tor?', 'hey bot, when', 'bot, when does', 'when does the', 'does the next', 'the next bus', 'next bus starts', 'bus starts at', 'starts at garching?', 'when does the', 'does the next', 'the next bus', 'next bus leaves', 'bus leaves at', 'leaves at garching?', 'when is the', 'is the bus', 'the bus from', 'bus from quiddestraße?', 'when can i', 'can i get', 'i get a', 'get a bus', 'a bus at', 'bus at mariahilfplatz?', 'when does the', 'does the next', 'the next bus', 'next bus leaves', 'bus leaves at', 'leaves at romanplatz?', 'when does the', 'does the bus', 'the bus to', 'bus to röblingweg', 'to röblingweg starts?', 'next bus from', 'bus from quiddestraße?', 'when is the', 'is the next', 'the next bus', 'next bus leaving', 'bus leaving from', 'leaving from garching?', 'when is the', 'is the train', 'the train leaving', 'train leaving in', 'leaving in garching', 'when is the', 'is the train', 'the train leaving', 'train leaving in', 'leaving in garching?', 'how can i', 'can i get', 'i get from', 'get from garching', 'from garching to', 'garching to odeonsplatz?', 'when is adrians', 'is adrians next', 'adrians next subway', 'next subway leaving', 'subway leaving at', 'leaving at garching', 'at garching forschungszentrum?', 'how can i', 'can i get', 'i get from', 'get from olympiazentrum', 'from olympiazentrum to', 'olympiazentrum to hauptbahnhof?', 'how can i', 'can i get', 'i get from', 'get from quiddestraße', 'from quiddestraße to', 'quiddestraße to boltzmannstraße?', 'how can i', 'can i get', 'i get from', 'get from moosach', 'from moosach to', 'moosach to garching', 'to garching forschungszentrum?', 'can you give', 'you give me', 'give me a', 'me a connection', 'a connection from', 'connection from garching', 'from garching to', 'garching to odeonsplatz?', 'when is the', 'is the next', 'the next train', 'next train from', 'train from garching', 'when comes the', 'comes the next', 'the next train', 'when is the', 'is the next', 'the next train', 'next train in', 'train in nordfriedhof', 'when does the', 'does the next', 'the next train', 'next train come', 'train come at', 'come at garching', 'at garching forschungszentrum', 'when is the', 'is the next', 'the next train', 'next train from', 'train from nordfriedhof', 'from nordfriedhof to', 'nordfriedhof to garching', 'to garching forschungszentrum', 'i want to', 'want to travel', 'to travel from', 'travel from garching', 'from garching to', 'garching to odeonsplatz?', 'how can i', 'can i get', 'i get to', 'get to sendlinger', 'to sendlinger tor?', 'how do i', 'do i get', 'i get to', 'get to untere', 'to untere straussäcker?', 'how can i', 'can i get', 'i get from', 'get from garching', 'from garching to', 'garching to garching?', 'how can i', 'can i get', 'i get from', 'get from garching', 'from garching to', 'garching to sendlinger', 'to sendlinger tor?', 'how can i', 'can i get', 'i get from', 'get from garchingto', 'from garchingto garching?', 'when is the', 'is the next', 'the next train', 'next train from', 'train from garching', 'how do i', 'do i get', 'i get from', 'get from marienplatz', 'from marienplatz zu', 'marienplatz zu garching', 'how can i', 'can i get', 'i get to', 'get to milbertshofen', 'to milbertshofen from', 'milbertshofen from garching?', 'when is the', 'is the next', 'the next train', 'next train to', 'train to garching', 'how can i', 'can i get', 'i get from', 'get from garching', 'from garching to', 'garching to milbertshofen?', 'when does the', 'does the next', 'the next rocket', 'next rocket leaves', 'rocket leaves from', 'leaves from garching', 'from garching forschungszentrum?', 'connection from untere', 'from untere straßäcker', 'untere straßäcker 21', 'straßäcker 21 to', '21 to kieferngarten', 'how to get', 'to get from', 'get from untere', 'from untere strassäcker', 'untere strassäcker 21', 'strassäcker 21 to', '21 to frötmaning', 'how to get', 'to get from', 'get from untere', 'from untere strassaecker', 'untere strassaecker 21', 'strassaecker 21 to', '21 to frötmaning', 'when is the', 'is the next', 'the next train', 'next train from', 'train from untere', 'from untere straßaecker', 'untere straßaecker 21', 'straßaecker 21 to', '21 to kieferngarten', 'when is the', 'is the next', 'the next train', 'next train from', 'train from untere', 'from untere straßaecker', 'untere straßaecker 21,', 'straßaecker 21, garching', '21, garching to', 'garching to kieferngarten', 'from garching to', 'garching to perlach', 'how to get', 'to get from', 'get from garching', 'from garching to', 'garching to perlach?', 'how to get', 'to get from', 'get from bonnerplatz', 'from bonnerplatz to', 'bonnerplatz to freimann', 'when is the', 'is the next', 'the next train', 'next train in', 'train in nordfriedhof?', 'when is the', 'is the next', 'the next train', 'next train in', 'train in münchner', 'in münchner freiheit?', 'connection from hauptbahnhof', 'from hauptbahnhof to', 'hauptbahnhof to odeonsplatz?', 'how do i', 'do i get', 'i get from', 'get from olympia', 'from olympia einkaufszentrum', 'olympia einkaufszentrum to', 'einkaufszentrum to hauptbahnhof?', 'when is the', 'is the next', 'the next bus', 'next bus in', 'bus in garching', 'in garching forschungszentrum', 'how can i', 'can i get', 'i get from', 'get from garching', 'from garching to', 'garching to marienplatz', 'from garching to', 'garching to studentenstadt']\n",
            "1175\n"
          ]
        }
      ]
    },
    {
      "cell_type": "code",
      "metadata": {
        "colab": {
          "base_uri": "https://localhost:8080/"
        },
        "id": "77mAmCyOlzV4",
        "outputId": "6d39b066-ab64-46b2-d21b-6f10d193a7f0"
      },
      "source": [
        "df_new = pd.DataFrame()\n",
        "df_new['training']=training\n",
        "df_new['class']=out_Class\n",
        "print(df_new)"
      ],
      "execution_count": 19,
      "outputs": [
        {
          "output_type": "stream",
          "name": "stdout",
          "text": [
            "                        training         class\n",
            "0                      i want to     not found\n",
            "1                     want to go     not found\n",
            "2              to go marienplatz   StationDest\n",
            "3                    when is the     not found\n",
            "4                    is the next     Criterion\n",
            "...                          ...           ...\n",
            "1170           get from garching  StationStart\n",
            "1171            from garching to  StationStart\n",
            "1172     garching to marienplatz  StationStart\n",
            "1173            from garching to  StationStart\n",
            "1174  garching to studentenstadt  StationStart\n",
            "\n",
            "[1175 rows x 2 columns]\n"
          ]
        }
      ]
    },
    {
      "cell_type": "code",
      "metadata": {
        "colab": {
          "base_uri": "https://localhost:8080/"
        },
        "id": "EsJTOrGXUjLi",
        "outputId": "555e10ff-e4ea-456d-f647-3e5c76bfaaec"
      },
      "source": [
        "df_new['class'].value_counts()"
      ],
      "execution_count": 20,
      "outputs": [
        {
          "output_type": "execute_result",
          "data": {
            "text/plain": [
              "not found       549\n",
              "Vehicle         235\n",
              "StationStart    224\n",
              "Criterion       103\n",
              "StationDest      57\n",
              "Line              6\n",
              "TimeEndTime       1\n",
              "Name: class, dtype: int64"
            ]
          },
          "metadata": {},
          "execution_count": 20
        }
      ]
    },
    {
      "cell_type": "markdown",
      "metadata": {
        "id": "ZNWpuliulS9D"
      },
      "source": [
        "**creating glove embedding**"
      ]
    },
    {
      "cell_type": "code",
      "metadata": {
        "colab": {
          "base_uri": "https://localhost:8080/"
        },
        "id": "VtMVpoPCViHb",
        "outputId": "eddf9590-7d3b-47cd-f183-5c774ec37d1f"
      },
      "source": [
        "!wget http://nlp.stanford.edu/data/glove.6B.zip\n",
        "!unzip glove.6B.zip"
      ],
      "execution_count": 21,
      "outputs": [
        {
          "output_type": "stream",
          "name": "stdout",
          "text": [
            "--2021-09-10 10:48:36--  http://nlp.stanford.edu/data/glove.6B.zip\n",
            "Resolving nlp.stanford.edu (nlp.stanford.edu)... 171.64.67.140\n",
            "Connecting to nlp.stanford.edu (nlp.stanford.edu)|171.64.67.140|:80... connected.\n",
            "HTTP request sent, awaiting response... 302 Found\n",
            "Location: https://nlp.stanford.edu/data/glove.6B.zip [following]\n",
            "--2021-09-10 10:48:36--  https://nlp.stanford.edu/data/glove.6B.zip\n",
            "Connecting to nlp.stanford.edu (nlp.stanford.edu)|171.64.67.140|:443... connected.\n",
            "HTTP request sent, awaiting response... 301 Moved Permanently\n",
            "Location: http://downloads.cs.stanford.edu/nlp/data/glove.6B.zip [following]\n",
            "--2021-09-10 10:48:37--  http://downloads.cs.stanford.edu/nlp/data/glove.6B.zip\n",
            "Resolving downloads.cs.stanford.edu (downloads.cs.stanford.edu)... 171.64.64.22\n",
            "Connecting to downloads.cs.stanford.edu (downloads.cs.stanford.edu)|171.64.64.22|:80... connected.\n",
            "HTTP request sent, awaiting response... 200 OK\n",
            "Length: 862182613 (822M) [application/zip]\n",
            "Saving to: ‘glove.6B.zip’\n",
            "\n",
            "glove.6B.zip        100%[===================>] 822.24M  5.04MB/s    in 2m 49s  \n",
            "\n",
            "2021-09-10 10:51:26 (4.87 MB/s) - ‘glove.6B.zip’ saved [862182613/862182613]\n",
            "\n",
            "Archive:  glove.6B.zip\n",
            "  inflating: glove.6B.50d.txt        \n",
            "  inflating: glove.6B.100d.txt       \n",
            "  inflating: glove.6B.200d.txt       \n",
            "  inflating: glove.6B.300d.txt       \n"
          ]
        }
      ]
    },
    {
      "cell_type": "code",
      "metadata": {
        "colab": {
          "base_uri": "https://localhost:8080/"
        },
        "id": "_q-5MIrmlczK",
        "outputId": "52182190-a2ec-42a4-d5e3-19b5b78efcee"
      },
      "source": [
        "\n",
        "import numpy as np\n",
        "print('Indexing word vectors.')\n",
        "\n",
        "embeddings_index = {}\n",
        "f = open('glove.6B.50d.txt', encoding='utf-8')\n",
        "for line in f:\n",
        "    values = line.split()\n",
        "    word = values[0]\n",
        "    coefs = np.asarray(values[1:], dtype='float32')\n",
        "    embeddings_index[word] = coefs\n",
        "f.close()\n",
        "\n"
      ],
      "execution_count": 22,
      "outputs": [
        {
          "output_type": "stream",
          "name": "stdout",
          "text": [
            "Indexing word vectors.\n"
          ]
        }
      ]
    },
    {
      "cell_type": "markdown",
      "metadata": {
        "id": "8KFCOhMvwc-1"
      },
      "source": [
        "**embedding input training**"
      ]
    },
    {
      "cell_type": "code",
      "metadata": {
        "id": "v29qXZ2gfjeK"
      },
      "source": [
        "embaded_training=[]\n",
        "for each in df_new['training']:\n",
        "  out=0\n",
        "  for each_word in each.split(\" \"):\n",
        "    try:\n",
        "      out=+embeddings_index[each_word]\n",
        "    except:\n",
        "      pass\n",
        "  embaded_training.append(out/3)\n",
        "\n",
        "print(embaded_training)\n",
        "print(len(embaded_training))"
      ],
      "execution_count": null,
      "outputs": []
    },
    {
      "cell_type": "markdown",
      "metadata": {
        "id": "j_2w2bibwgvt"
      },
      "source": [
        "**encoding OHE to labels**"
      ]
    },
    {
      "cell_type": "code",
      "metadata": {
        "colab": {
          "base_uri": "https://localhost:8080/"
        },
        "id": "913ZUEM5wl00",
        "outputId": "54f113f5-5771-4204-ecba-b2addff41bf1"
      },
      "source": [
        "from numpy import array\n",
        "from numpy import argmax\n",
        "from sklearn.preprocessing import LabelEncoder\n",
        "from sklearn.preprocessing import OneHotEncoder\n",
        "\n",
        "# define example\n",
        "data = list(df_new['class'])\n",
        "values = array(data)\n",
        "print(values)\n",
        "# integer encode\n",
        "label_encoder = LabelEncoder()\n",
        "integer_encoded = label_encoder.fit_transform(values)\n",
        "print(integer_encoded)\n",
        "# binary encode\n",
        "onehot_encoder = OneHotEncoder(sparse=False)\n",
        "integer_encoded = integer_encoded.reshape(len(integer_encoded), 1)\n",
        "onehot_encoded = onehot_encoder.fit_transform(integer_encoded)\n",
        "print(onehot_encoded)\n",
        "print(onehot_encoded.shape)\n"
      ],
      "execution_count": 24,
      "outputs": [
        {
          "output_type": "stream",
          "name": "stdout",
          "text": [
            "['not found' 'not found' 'StationDest' ... 'StationStart' 'StationStart'\n",
            " 'StationStart']\n",
            "[6 6 2 ... 3 3 3]\n",
            "[[0. 0. 0. ... 0. 0. 1.]\n",
            " [0. 0. 0. ... 0. 0. 1.]\n",
            " [0. 0. 1. ... 0. 0. 0.]\n",
            " ...\n",
            " [0. 0. 0. ... 0. 0. 0.]\n",
            " [0. 0. 0. ... 0. 0. 0.]\n",
            " [0. 0. 0. ... 0. 0. 0.]]\n",
            "(1175, 7)\n"
          ]
        }
      ]
    },
    {
      "cell_type": "markdown",
      "metadata": {
        "id": "wx-XMv6zwpp0"
      },
      "source": [
        "**ML model**\n",
        "\n"
      ]
    },
    {
      "cell_type": "code",
      "metadata": {
        "id": "QkB9JRtSftob"
      },
      "source": [
        "\n",
        "from keras.models import Sequential\n",
        "from keras.layers import Dense, Flatten, LSTM, Conv1D, MaxPooling1D, Dropout, Activation\n",
        "\n",
        "model = Sequential()\n",
        "model.add(Dense(32, input_dim=50, activation='relu'))\n",
        "model.add(Dense(16, activation='relu'))\n",
        "model.add(Dense(7, activation='softmax'))\n",
        "\n",
        "#model.compile(loss='binary_crossentropy', optimizer='adam', metrics=['accuracy'])\n",
        "model.compile(loss='categorical_crossentropy', optimizer='adam', metrics=['accuracy'])\n"
      ],
      "execution_count": 25,
      "outputs": []
    },
    {
      "cell_type": "markdown",
      "metadata": {
        "id": "GXP2xjzMtDSB"
      },
      "source": [
        "**Removing null size encoded data, this is because vector is not present for these perticular words**"
      ]
    },
    {
      "cell_type": "code",
      "metadata": {
        "colab": {
          "base_uri": "https://localhost:8080/"
        },
        "id": "AKkbXaIqmcXq",
        "outputId": "7f185015-92e8-44ca-ee82-e6d8019a9bad"
      },
      "source": [
        "print([index for index in range(len(embaded_training)) if isinstance(embaded_training[index], float)])\n",
        "print(len(embaded_training), len(onehot_encoded))\n",
        "new_embaded_training = embaded_training[:521]+embaded_training[522:]\n",
        "new_ohe = np.delete(onehot_encoded, 521,0)\n",
        "print(len(new_embaded_training), len(new_ohe))\n"
      ],
      "execution_count": 26,
      "outputs": [
        {
          "output_type": "stream",
          "name": "stdout",
          "text": [
            "[521]\n",
            "1175 1175\n",
            "1175 1175\n"
          ]
        }
      ]
    },
    {
      "cell_type": "markdown",
      "metadata": {
        "id": "odH8H-PCw5bt"
      },
      "source": [
        "**trainign model**"
      ]
    },
    {
      "cell_type": "code",
      "metadata": {
        "colab": {
          "base_uri": "https://localhost:8080/"
        },
        "id": "e0vqeO2Mw81g",
        "outputId": "0011ec80-9182-4273-b246-f81e201830d9"
      },
      "source": [
        "x=np.asarray(new_embaded_training)\n",
        "model.fit(x, new_ohe, epochs=150, batch_size=10)"
      ],
      "execution_count": 28,
      "outputs": [
        {
          "output_type": "stream",
          "name": "stdout",
          "text": [
            "Epoch 1/150\n",
            "118/118 [==============================] - 3s 3ms/step - loss: 1.6367 - accuracy: 0.4710\n",
            "Epoch 2/150\n",
            "118/118 [==============================] - 0s 3ms/step - loss: 1.1858 - accuracy: 0.5383\n",
            "Epoch 3/150\n",
            "118/118 [==============================] - 0s 3ms/step - loss: 1.0552 - accuracy: 0.5630\n",
            "Epoch 4/150\n",
            "118/118 [==============================] - 0s 3ms/step - loss: 0.9751 - accuracy: 0.6210\n",
            "Epoch 5/150\n",
            "118/118 [==============================] - 0s 3ms/step - loss: 0.9097 - accuracy: 0.6499\n",
            "Epoch 6/150\n",
            "118/118 [==============================] - 0s 3ms/step - loss: 0.8654 - accuracy: 0.6806\n",
            "Epoch 7/150\n",
            "118/118 [==============================] - 0s 3ms/step - loss: 0.8350 - accuracy: 0.6976\n",
            "Epoch 8/150\n",
            "118/118 [==============================] - 0s 3ms/step - loss: 0.8095 - accuracy: 0.6993\n",
            "Epoch 9/150\n",
            "118/118 [==============================] - 0s 3ms/step - loss: 0.7895 - accuracy: 0.6925\n",
            "Epoch 10/150\n",
            "118/118 [==============================] - 0s 3ms/step - loss: 0.7788 - accuracy: 0.7036\n",
            "Epoch 11/150\n",
            "118/118 [==============================] - 0s 3ms/step - loss: 0.7635 - accuracy: 0.7070\n",
            "Epoch 12/150\n",
            "118/118 [==============================] - 0s 3ms/step - loss: 0.7560 - accuracy: 0.7095\n",
            "Epoch 13/150\n",
            "118/118 [==============================] - 0s 3ms/step - loss: 0.7451 - accuracy: 0.7087\n",
            "Epoch 14/150\n",
            "118/118 [==============================] - 0s 3ms/step - loss: 0.7421 - accuracy: 0.7061\n",
            "Epoch 15/150\n",
            "118/118 [==============================] - 0s 3ms/step - loss: 0.7371 - accuracy: 0.7053\n",
            "Epoch 16/150\n",
            "118/118 [==============================] - 0s 3ms/step - loss: 0.7272 - accuracy: 0.7121\n",
            "Epoch 17/150\n",
            "118/118 [==============================] - 0s 3ms/step - loss: 0.7280 - accuracy: 0.7104\n",
            "Epoch 18/150\n",
            "118/118 [==============================] - 0s 3ms/step - loss: 0.7171 - accuracy: 0.7121\n",
            "Epoch 19/150\n",
            "118/118 [==============================] - 0s 3ms/step - loss: 0.7128 - accuracy: 0.7053\n",
            "Epoch 20/150\n",
            "118/118 [==============================] - 0s 3ms/step - loss: 0.7092 - accuracy: 0.7155\n",
            "Epoch 21/150\n",
            "118/118 [==============================] - 0s 3ms/step - loss: 0.7130 - accuracy: 0.7104\n",
            "Epoch 22/150\n",
            "118/118 [==============================] - 0s 3ms/step - loss: 0.7041 - accuracy: 0.7095\n",
            "Epoch 23/150\n",
            "118/118 [==============================] - 0s 3ms/step - loss: 0.7035 - accuracy: 0.7087\n",
            "Epoch 24/150\n",
            "118/118 [==============================] - 0s 3ms/step - loss: 0.6993 - accuracy: 0.7095\n",
            "Epoch 25/150\n",
            "118/118 [==============================] - 0s 3ms/step - loss: 0.6993 - accuracy: 0.6951\n",
            "Epoch 26/150\n",
            "118/118 [==============================] - 0s 3ms/step - loss: 0.6931 - accuracy: 0.7121\n",
            "Epoch 27/150\n",
            "118/118 [==============================] - 0s 3ms/step - loss: 0.6907 - accuracy: 0.7078\n",
            "Epoch 28/150\n",
            "118/118 [==============================] - 0s 3ms/step - loss: 0.6865 - accuracy: 0.7053\n",
            "Epoch 29/150\n",
            "118/118 [==============================] - 0s 3ms/step - loss: 0.6900 - accuracy: 0.7010\n",
            "Epoch 30/150\n",
            "118/118 [==============================] - 0s 3ms/step - loss: 0.6818 - accuracy: 0.7138\n",
            "Epoch 31/150\n",
            "118/118 [==============================] - 0s 3ms/step - loss: 0.6857 - accuracy: 0.7036\n",
            "Epoch 32/150\n",
            "118/118 [==============================] - 0s 3ms/step - loss: 0.6827 - accuracy: 0.7095\n",
            "Epoch 33/150\n",
            "118/118 [==============================] - 0s 3ms/step - loss: 0.6790 - accuracy: 0.7198\n",
            "Epoch 34/150\n",
            "118/118 [==============================] - 0s 3ms/step - loss: 0.6807 - accuracy: 0.7121\n",
            "Epoch 35/150\n",
            "118/118 [==============================] - 0s 3ms/step - loss: 0.6732 - accuracy: 0.7121\n",
            "Epoch 36/150\n",
            "118/118 [==============================] - 0s 3ms/step - loss: 0.6733 - accuracy: 0.7138\n",
            "Epoch 37/150\n",
            "118/118 [==============================] - 0s 3ms/step - loss: 0.6753 - accuracy: 0.7095\n",
            "Epoch 38/150\n",
            "118/118 [==============================] - 0s 3ms/step - loss: 0.6697 - accuracy: 0.7164\n",
            "Epoch 39/150\n",
            "118/118 [==============================] - 0s 3ms/step - loss: 0.6690 - accuracy: 0.7155\n",
            "Epoch 40/150\n",
            "118/118 [==============================] - 0s 3ms/step - loss: 0.6688 - accuracy: 0.7147\n",
            "Epoch 41/150\n",
            "118/118 [==============================] - 0s 3ms/step - loss: 0.6686 - accuracy: 0.7147\n",
            "Epoch 42/150\n",
            "118/118 [==============================] - 0s 3ms/step - loss: 0.6739 - accuracy: 0.7138\n",
            "Epoch 43/150\n",
            "118/118 [==============================] - 0s 3ms/step - loss: 0.6688 - accuracy: 0.7155\n",
            "Epoch 44/150\n",
            "118/118 [==============================] - 0s 3ms/step - loss: 0.6634 - accuracy: 0.7232\n",
            "Epoch 45/150\n",
            "118/118 [==============================] - 0s 3ms/step - loss: 0.6655 - accuracy: 0.7232\n",
            "Epoch 46/150\n",
            "118/118 [==============================] - 0s 3ms/step - loss: 0.6623 - accuracy: 0.7249\n",
            "Epoch 47/150\n",
            "118/118 [==============================] - 0s 3ms/step - loss: 0.6638 - accuracy: 0.7189\n",
            "Epoch 48/150\n",
            "118/118 [==============================] - 0s 3ms/step - loss: 0.6594 - accuracy: 0.7223\n",
            "Epoch 49/150\n",
            "118/118 [==============================] - 0s 3ms/step - loss: 0.6644 - accuracy: 0.7206\n",
            "Epoch 50/150\n",
            "118/118 [==============================] - 0s 3ms/step - loss: 0.6589 - accuracy: 0.7164\n",
            "Epoch 51/150\n",
            "118/118 [==============================] - 0s 3ms/step - loss: 0.6612 - accuracy: 0.7198\n",
            "Epoch 52/150\n",
            "118/118 [==============================] - 0s 3ms/step - loss: 0.6578 - accuracy: 0.7189\n",
            "Epoch 53/150\n",
            "118/118 [==============================] - 0s 3ms/step - loss: 0.6659 - accuracy: 0.7138\n",
            "Epoch 54/150\n",
            "118/118 [==============================] - 0s 3ms/step - loss: 0.6576 - accuracy: 0.7300\n",
            "Epoch 55/150\n",
            "118/118 [==============================] - 0s 3ms/step - loss: 0.6581 - accuracy: 0.7198\n",
            "Epoch 56/150\n",
            "118/118 [==============================] - 0s 3ms/step - loss: 0.6546 - accuracy: 0.7266\n",
            "Epoch 57/150\n",
            "118/118 [==============================] - 0s 3ms/step - loss: 0.6535 - accuracy: 0.7206\n",
            "Epoch 58/150\n",
            "118/118 [==============================] - 0s 3ms/step - loss: 0.6558 - accuracy: 0.7223\n",
            "Epoch 59/150\n",
            "118/118 [==============================] - 0s 3ms/step - loss: 0.6545 - accuracy: 0.7266\n",
            "Epoch 60/150\n",
            "118/118 [==============================] - 0s 3ms/step - loss: 0.6535 - accuracy: 0.7147\n",
            "Epoch 61/150\n",
            "118/118 [==============================] - 0s 3ms/step - loss: 0.6548 - accuracy: 0.7087\n",
            "Epoch 62/150\n",
            "118/118 [==============================] - 0s 3ms/step - loss: 0.6513 - accuracy: 0.7274\n",
            "Epoch 63/150\n",
            "118/118 [==============================] - 0s 3ms/step - loss: 0.6514 - accuracy: 0.7138\n",
            "Epoch 64/150\n",
            "118/118 [==============================] - 0s 3ms/step - loss: 0.6509 - accuracy: 0.7232\n",
            "Epoch 65/150\n",
            "118/118 [==============================] - 0s 3ms/step - loss: 0.6536 - accuracy: 0.7198\n",
            "Epoch 66/150\n",
            "118/118 [==============================] - 0s 3ms/step - loss: 0.6522 - accuracy: 0.7189\n",
            "Epoch 67/150\n",
            "118/118 [==============================] - 0s 3ms/step - loss: 0.6490 - accuracy: 0.7155\n",
            "Epoch 68/150\n",
            "118/118 [==============================] - 0s 3ms/step - loss: 0.6495 - accuracy: 0.7189\n",
            "Epoch 69/150\n",
            "118/118 [==============================] - 0s 3ms/step - loss: 0.6466 - accuracy: 0.7308\n",
            "Epoch 70/150\n",
            "118/118 [==============================] - 0s 3ms/step - loss: 0.6500 - accuracy: 0.7198\n",
            "Epoch 71/150\n",
            "118/118 [==============================] - 0s 3ms/step - loss: 0.6472 - accuracy: 0.7172\n",
            "Epoch 72/150\n",
            "118/118 [==============================] - 0s 3ms/step - loss: 0.6488 - accuracy: 0.7223\n",
            "Epoch 73/150\n",
            "118/118 [==============================] - 0s 3ms/step - loss: 0.6525 - accuracy: 0.7138\n",
            "Epoch 74/150\n",
            "118/118 [==============================] - 0s 3ms/step - loss: 0.6449 - accuracy: 0.7249\n",
            "Epoch 75/150\n",
            "118/118 [==============================] - 0s 3ms/step - loss: 0.6444 - accuracy: 0.7181\n",
            "Epoch 76/150\n",
            "118/118 [==============================] - 0s 3ms/step - loss: 0.6489 - accuracy: 0.7172\n",
            "Epoch 77/150\n",
            "118/118 [==============================] - 0s 3ms/step - loss: 0.6489 - accuracy: 0.7206\n",
            "Epoch 78/150\n",
            "118/118 [==============================] - 0s 3ms/step - loss: 0.6451 - accuracy: 0.7121\n",
            "Epoch 79/150\n",
            "118/118 [==============================] - 0s 3ms/step - loss: 0.6437 - accuracy: 0.7249\n",
            "Epoch 80/150\n",
            "118/118 [==============================] - 0s 3ms/step - loss: 0.6455 - accuracy: 0.7121\n",
            "Epoch 81/150\n",
            "118/118 [==============================] - 0s 3ms/step - loss: 0.6416 - accuracy: 0.7181\n",
            "Epoch 82/150\n",
            "118/118 [==============================] - 0s 3ms/step - loss: 0.6503 - accuracy: 0.7232\n",
            "Epoch 83/150\n",
            "118/118 [==============================] - 0s 3ms/step - loss: 0.6475 - accuracy: 0.7164\n",
            "Epoch 84/150\n",
            "118/118 [==============================] - 0s 3ms/step - loss: 0.6420 - accuracy: 0.7249\n",
            "Epoch 85/150\n",
            "118/118 [==============================] - 0s 3ms/step - loss: 0.6420 - accuracy: 0.7266\n",
            "Epoch 86/150\n",
            "118/118 [==============================] - 0s 3ms/step - loss: 0.6493 - accuracy: 0.7223\n",
            "Epoch 87/150\n",
            "118/118 [==============================] - 0s 3ms/step - loss: 0.6468 - accuracy: 0.7078\n",
            "Epoch 88/150\n",
            "118/118 [==============================] - 0s 3ms/step - loss: 0.6454 - accuracy: 0.7249\n",
            "Epoch 89/150\n",
            "118/118 [==============================] - 0s 3ms/step - loss: 0.6455 - accuracy: 0.7232\n",
            "Epoch 90/150\n",
            "118/118 [==============================] - 0s 3ms/step - loss: 0.6424 - accuracy: 0.7181\n",
            "Epoch 91/150\n",
            "118/118 [==============================] - 0s 3ms/step - loss: 0.6442 - accuracy: 0.7274\n",
            "Epoch 92/150\n",
            "118/118 [==============================] - 0s 3ms/step - loss: 0.6411 - accuracy: 0.7172\n",
            "Epoch 93/150\n",
            "118/118 [==============================] - 0s 3ms/step - loss: 0.6436 - accuracy: 0.7206\n",
            "Epoch 94/150\n",
            "118/118 [==============================] - 0s 3ms/step - loss: 0.6413 - accuracy: 0.7257\n",
            "Epoch 95/150\n",
            "118/118 [==============================] - 0s 3ms/step - loss: 0.6430 - accuracy: 0.7189\n",
            "Epoch 96/150\n",
            "118/118 [==============================] - 0s 3ms/step - loss: 0.6449 - accuracy: 0.7257\n",
            "Epoch 97/150\n",
            "118/118 [==============================] - 0s 3ms/step - loss: 0.6417 - accuracy: 0.7223\n",
            "Epoch 98/150\n",
            "118/118 [==============================] - 0s 3ms/step - loss: 0.6396 - accuracy: 0.7112\n",
            "Epoch 99/150\n",
            "118/118 [==============================] - 0s 3ms/step - loss: 0.6436 - accuracy: 0.7249\n",
            "Epoch 100/150\n",
            "118/118 [==============================] - 0s 3ms/step - loss: 0.6439 - accuracy: 0.7257\n",
            "Epoch 101/150\n",
            "118/118 [==============================] - 0s 3ms/step - loss: 0.6398 - accuracy: 0.7155\n",
            "Epoch 102/150\n",
            "118/118 [==============================] - 0s 3ms/step - loss: 0.6402 - accuracy: 0.7198\n",
            "Epoch 103/150\n",
            "118/118 [==============================] - 0s 3ms/step - loss: 0.6428 - accuracy: 0.7198\n",
            "Epoch 104/150\n",
            "118/118 [==============================] - 0s 3ms/step - loss: 0.6401 - accuracy: 0.7257\n",
            "Epoch 105/150\n",
            "118/118 [==============================] - 0s 3ms/step - loss: 0.6423 - accuracy: 0.7240\n",
            "Epoch 106/150\n",
            "118/118 [==============================] - 0s 3ms/step - loss: 0.6408 - accuracy: 0.7198\n",
            "Epoch 107/150\n",
            "118/118 [==============================] - 0s 3ms/step - loss: 0.6390 - accuracy: 0.7206\n",
            "Epoch 108/150\n",
            "118/118 [==============================] - 0s 3ms/step - loss: 0.6428 - accuracy: 0.7164\n",
            "Epoch 109/150\n",
            "118/118 [==============================] - 0s 3ms/step - loss: 0.6430 - accuracy: 0.7129\n",
            "Epoch 110/150\n",
            "118/118 [==============================] - 0s 3ms/step - loss: 0.6388 - accuracy: 0.7206\n",
            "Epoch 111/150\n",
            "118/118 [==============================] - 0s 3ms/step - loss: 0.6397 - accuracy: 0.7215\n",
            "Epoch 112/150\n",
            "118/118 [==============================] - 0s 3ms/step - loss: 0.6402 - accuracy: 0.7215\n",
            "Epoch 113/150\n",
            "118/118 [==============================] - 0s 3ms/step - loss: 0.6386 - accuracy: 0.7215\n",
            "Epoch 114/150\n",
            "118/118 [==============================] - 0s 3ms/step - loss: 0.6375 - accuracy: 0.7266\n",
            "Epoch 115/150\n",
            "118/118 [==============================] - 0s 3ms/step - loss: 0.6420 - accuracy: 0.7189\n",
            "Epoch 116/150\n",
            "118/118 [==============================] - 0s 3ms/step - loss: 0.6419 - accuracy: 0.7198\n",
            "Epoch 117/150\n",
            "118/118 [==============================] - 0s 3ms/step - loss: 0.6398 - accuracy: 0.7189\n",
            "Epoch 118/150\n",
            "118/118 [==============================] - 0s 3ms/step - loss: 0.6392 - accuracy: 0.7223\n",
            "Epoch 119/150\n",
            "118/118 [==============================] - 0s 3ms/step - loss: 0.6373 - accuracy: 0.7206\n",
            "Epoch 120/150\n",
            "118/118 [==============================] - 0s 3ms/step - loss: 0.6387 - accuracy: 0.7291\n",
            "Epoch 121/150\n",
            "118/118 [==============================] - 0s 3ms/step - loss: 0.6393 - accuracy: 0.7164\n",
            "Epoch 122/150\n",
            "118/118 [==============================] - 0s 3ms/step - loss: 0.6402 - accuracy: 0.7249\n",
            "Epoch 123/150\n",
            "118/118 [==============================] - 0s 3ms/step - loss: 0.6336 - accuracy: 0.7155\n",
            "Epoch 124/150\n",
            "118/118 [==============================] - 0s 3ms/step - loss: 0.6393 - accuracy: 0.7172\n",
            "Epoch 125/150\n",
            "118/118 [==============================] - 0s 3ms/step - loss: 0.6384 - accuracy: 0.7189\n",
            "Epoch 126/150\n",
            "118/118 [==============================] - 0s 3ms/step - loss: 0.6375 - accuracy: 0.7112\n",
            "Epoch 127/150\n",
            "118/118 [==============================] - 0s 3ms/step - loss: 0.6333 - accuracy: 0.7283\n",
            "Epoch 128/150\n",
            "118/118 [==============================] - 0s 3ms/step - loss: 0.6366 - accuracy: 0.7232\n",
            "Epoch 129/150\n",
            "118/118 [==============================] - 0s 3ms/step - loss: 0.6350 - accuracy: 0.7240\n",
            "Epoch 130/150\n",
            "118/118 [==============================] - 0s 3ms/step - loss: 0.6349 - accuracy: 0.7266\n",
            "Epoch 131/150\n",
            "118/118 [==============================] - 0s 3ms/step - loss: 0.6373 - accuracy: 0.7215\n",
            "Epoch 132/150\n",
            "118/118 [==============================] - 0s 3ms/step - loss: 0.6348 - accuracy: 0.7215\n",
            "Epoch 133/150\n",
            "118/118 [==============================] - 0s 3ms/step - loss: 0.6404 - accuracy: 0.7206\n",
            "Epoch 134/150\n",
            "118/118 [==============================] - 0s 3ms/step - loss: 0.6394 - accuracy: 0.7283\n",
            "Epoch 135/150\n",
            "118/118 [==============================] - 0s 3ms/step - loss: 0.6343 - accuracy: 0.7232\n",
            "Epoch 136/150\n",
            "118/118 [==============================] - 0s 3ms/step - loss: 0.6410 - accuracy: 0.7198\n",
            "Epoch 137/150\n",
            "118/118 [==============================] - 0s 3ms/step - loss: 0.6355 - accuracy: 0.7215\n",
            "Epoch 138/150\n",
            "118/118 [==============================] - 0s 3ms/step - loss: 0.6369 - accuracy: 0.7240\n",
            "Epoch 139/150\n",
            "118/118 [==============================] - 0s 3ms/step - loss: 0.6319 - accuracy: 0.7181\n",
            "Epoch 140/150\n",
            "118/118 [==============================] - 0s 3ms/step - loss: 0.6371 - accuracy: 0.7249\n",
            "Epoch 141/150\n",
            "118/118 [==============================] - 0s 3ms/step - loss: 0.6374 - accuracy: 0.7147\n",
            "Epoch 142/150\n",
            "118/118 [==============================] - 0s 3ms/step - loss: 0.6406 - accuracy: 0.7198\n",
            "Epoch 143/150\n",
            "118/118 [==============================] - 0s 3ms/step - loss: 0.6352 - accuracy: 0.7181\n",
            "Epoch 144/150\n",
            "118/118 [==============================] - 0s 3ms/step - loss: 0.6352 - accuracy: 0.7198\n",
            "Epoch 145/150\n",
            "118/118 [==============================] - 0s 3ms/step - loss: 0.6368 - accuracy: 0.7240\n",
            "Epoch 146/150\n",
            "118/118 [==============================] - 0s 3ms/step - loss: 0.6361 - accuracy: 0.7215\n",
            "Epoch 147/150\n",
            "118/118 [==============================] - 0s 3ms/step - loss: 0.6403 - accuracy: 0.7172\n",
            "Epoch 148/150\n",
            "118/118 [==============================] - 0s 3ms/step - loss: 0.6358 - accuracy: 0.7240\n",
            "Epoch 149/150\n",
            "118/118 [==============================] - 0s 3ms/step - loss: 0.6382 - accuracy: 0.7249\n",
            "Epoch 150/150\n",
            "118/118 [==============================] - 0s 3ms/step - loss: 0.6354 - accuracy: 0.7257\n"
          ]
        },
        {
          "output_type": "execute_result",
          "data": {
            "text/plain": [
              "<keras.callbacks.History at 0x7fb64b25d6d0>"
            ]
          },
          "metadata": {},
          "execution_count": 28
        }
      ]
    },
    {
      "cell_type": "markdown",
      "metadata": {
        "id": "XIgKfd-bxwEt"
      },
      "source": [
        "**Predictions**"
      ]
    },
    {
      "cell_type": "code",
      "metadata": {
        "id": "2AjMok7Qx9JK"
      },
      "source": [
        "pred_text = 'hello lets start from dubai using train'\n",
        "temp = ngrams(pred_text.split(\" \"), 3)\n",
        "split_out_data= [each for each in temp]"
      ],
      "execution_count": 42,
      "outputs": []
    },
    {
      "cell_type": "code",
      "metadata": {
        "colab": {
          "base_uri": "https://localhost:8080/"
        },
        "id": "TSCr9zQSyGou",
        "outputId": "01f3228a-ecb9-452d-f4b1-ef5cac63f353"
      },
      "source": [
        "split_out_data"
      ],
      "execution_count": 43,
      "outputs": [
        {
          "output_type": "execute_result",
          "data": {
            "text/plain": [
              "[('hello', 'lets', 'start'),\n",
              " ('lets', 'start', 'from'),\n",
              " ('start', 'from', 'dubai'),\n",
              " ('from', 'dubai', 'using'),\n",
              " ('dubai', 'using', 'train')]"
            ]
          },
          "metadata": {},
          "execution_count": 43
        }
      ]
    },
    {
      "cell_type": "code",
      "metadata": {
        "id": "uUMuzdpPygGX"
      },
      "source": [
        "pred_embaded_training = []\n",
        "for each_sent in split_out_data:\n",
        "  out=0\n",
        "  for each_word in each_sent:\n",
        "    try:\n",
        "      out=+embeddings_index[each_word]\n",
        "    except:\n",
        "      pass\n",
        "  pred_embaded_training.append(out/3)"
      ],
      "execution_count": 44,
      "outputs": []
    },
    {
      "cell_type": "code",
      "metadata": {
        "colab": {
          "base_uri": "https://localhost:8080/"
        },
        "id": "6G03po2MygEw",
        "outputId": "7ab522c9-a6cf-4f50-d85c-7ee178cfdc10"
      },
      "source": [
        "len(pred_embaded_training[0])"
      ],
      "execution_count": 45,
      "outputs": [
        {
          "output_type": "execute_result",
          "data": {
            "text/plain": [
              "50"
            ]
          },
          "metadata": {},
          "execution_count": 45
        }
      ]
    },
    {
      "cell_type": "code",
      "metadata": {
        "id": "ychFWUiXygBO"
      },
      "source": [
        "pred_embaded_training_np=np.asarray(pred_embaded_training)\n",
        "#for each in pred_embaded_training:\n",
        "model_out = model.predict(pred_embaded_training_np)"
      ],
      "execution_count": 46,
      "outputs": []
    },
    {
      "cell_type": "code",
      "metadata": {
        "id": "E_zDDItTyf_B"
      },
      "source": [
        "label_emb = [np.argmax(each) for each in  model_out]\n",
        "print(label_emb)"
      ],
      "execution_count": 47,
      "outputs": []
    },
    {
      "cell_type": "markdown",
      "metadata": {
        "id": "fv0kp6bl0zof"
      },
      "source": [
        "**reconverting encoding to classes**"
      ]
    },
    {
      "cell_type": "code",
      "metadata": {
        "colab": {
          "base_uri": "https://localhost:8080/"
        },
        "id": "VmfU9yK6yf5p",
        "outputId": "77a510cc-1a04-4839-e31e-a8e8caba176b"
      },
      "source": [
        "actual_type = label_encoder.inverse_transform(label_emb)\n",
        "print(actual_type)"
      ],
      "execution_count": 49,
      "outputs": [
        {
          "output_type": "stream",
          "name": "stdout",
          "text": [
            "['Criterion' 'not found' 'not found' 'not found' 'Vehicle']\n"
          ]
        }
      ]
    },
    {
      "cell_type": "markdown",
      "metadata": {
        "id": "XUxkZTTMmfDc"
      },
      "source": [
        "getting interm output "
      ]
    },
    {
      "cell_type": "code",
      "metadata": {
        "colab": {
          "base_uri": "https://localhost:8080/"
        },
        "id": "MoiPC8VTyf28",
        "outputId": "58f913d1-0313-4a9f-85a5-d6a35e98eb84"
      },
      "source": [
        "interm_out = [split_out_data[index] for index in range(len(actual_type))  if actual_type[index]!= 'not found']\n",
        "interm_actual_types = [actual_type[index] for index in range(len(actual_type))  if actual_type[index]!= 'not found']\n",
        "\n",
        "print(interm_out, interm_actual_types)"
      ],
      "execution_count": 72,
      "outputs": [
        {
          "output_type": "stream",
          "name": "stdout",
          "text": [
            "[('hello', 'lets', 'start'), ('dubai', 'using', 'train')] ['Criterion', 'Vehicle']\n"
          ]
        }
      ]
    },
    {
      "cell_type": "markdown",
      "metadata": {
        "id": "GaiVout_moLO"
      },
      "source": [
        "Creating lable word embedding vector \n",
        "\n",
        "Creating embedding vector at label level"
      ]
    },
    {
      "cell_type": "code",
      "metadata": {
        "id": "lc41F03jyfzW"
      },
      "source": [
        "label_word_dict={}\n",
        "unique_labels = list(p['labels'].unique())\n",
        "for i in range(len(unique_labels)):\n",
        "  label_word_dict[unique_labels[i]] = list(set(list(p[p['labels']== unique_labels[i]]['words'])))"
      ],
      "execution_count": 70,
      "outputs": []
    },
    {
      "cell_type": "code",
      "metadata": {
        "id": "vwuA7bxHbeFo"
      },
      "source": [
        "label_embedded_dict={}\n",
        "for each_key in label_word_dict.keys():\n",
        "  temp=0\n",
        "  val_len = len(label_word_dict[each_key])\n",
        "  for each in label_word_dict[each_key]:\n",
        "    try:\n",
        "      temp=temp+embeddings_index[each]\n",
        "    except:\n",
        "      pass\n",
        "  label_embedded_dict[each_key] = temp/val_len\n",
        "  "
      ],
      "execution_count": 60,
      "outputs": []
    },
    {
      "cell_type": "code",
      "metadata": {
        "colab": {
          "base_uri": "https://localhost:8080/"
        },
        "id": "_m_6cgJMjKVH",
        "outputId": "29181d63-6036-4bf5-b243-e8fda16e836f"
      },
      "source": [
        "label_embedded_dict.keys()"
      ],
      "execution_count": 61,
      "outputs": [
        {
          "output_type": "execute_result",
          "data": {
            "text/plain": [
              "dict_keys(['StationDest', 'Vehicle', 'Criterion', 'StationStart', 'Line', 'TimeStartTime', 'TimeEndTime'])"
            ]
          },
          "metadata": {},
          "execution_count": 61
        }
      ]
    },
    {
      "cell_type": "markdown",
      "metadata": {
        "id": "YPNpcE3mnR6X"
      },
      "source": [
        "from 3-gram pair find most significant word resembling label/entity"
      ]
    },
    {
      "cell_type": "code",
      "metadata": {
        "id": "xbt2R-CJj97H"
      },
      "source": [
        "\n",
        "from scipy import spatial\n",
        "temp_out=[]\n",
        "for each_interm_out in interm_out:\n",
        "  #for each_word in each_interm_out:\n",
        "  temp_out.append(each_interm_out[argmax([(1 - spatial.distance.cosine(label_embedded_dict['Criterion'], embeddings_index[each_word])) for each_word in each_interm_out])])\n",
        "\n",
        "final_out = dict(zip(temp_out , interm_actual_types))"
      ],
      "execution_count": 77,
      "outputs": []
    },
    {
      "cell_type": "markdown",
      "metadata": {
        "id": "Ne9xO7LXpzB8"
      },
      "source": [
        "**Printing final out**"
      ]
    },
    {
      "cell_type": "code",
      "metadata": {
        "colab": {
          "base_uri": "https://localhost:8080/"
        },
        "id": "D29NyKEoyfwY",
        "outputId": "e28096e3-f347-4918-d259-1e02576a7825"
      },
      "source": [
        "final_out"
      ],
      "execution_count": 78,
      "outputs": [
        {
          "output_type": "execute_result",
          "data": {
            "text/plain": [
              "{'start': 'Criterion', 'train': 'Vehicle'}"
            ]
          },
          "metadata": {},
          "execution_count": 78
        }
      ]
    },
    {
      "cell_type": "markdown",
      "metadata": {
        "id": "LrrSwd8nV7JZ"
      },
      "source": [
        "## NEW SEq2Seq modellsing using LSTM \n",
        "\n",
        "results are not very satsfactory"
      ]
    },
    {
      "cell_type": "code",
      "metadata": {
        "colab": {
          "base_uri": "https://localhost:8080/"
        },
        "id": "QBOvCgc503Ev",
        "outputId": "3515c648-cb40-4bba-b2ef-78ad0b3f7775"
      },
      "source": [
        "\n",
        "a =[(index, each['text'], each['entity']) for index in range(len(entities)) for each in entities[index]]\n",
        "p = pd.DataFrame(a)\n",
        "p.columns = ['sentence_id', 'words', 'labels']\n",
        "print(p)\n",
        "print(p.shape)"
      ],
      "execution_count": 9,
      "outputs": [
        {
          "output_type": "stream",
          "name": "stdout",
          "text": [
            "     sentence_id                       words        labels\n",
            "0              0                 marienplatz   StationDest\n",
            "1              1                       train       Vehicle\n",
            "2              1                        next     Criterion\n",
            "3              1            muncher freiheit  StationStart\n",
            "4              2                      u-bahn       Vehicle\n",
            "..           ...                         ...           ...\n",
            "495          203  garching forschungszentrum  StationStart\n",
            "496          204                    garching  StationStart\n",
            "497          204                 marienplatz   StationDest\n",
            "498          205                    garching  StationStart\n",
            "499          205              studentenstadt   StationDest\n",
            "\n",
            "[500 rows x 3 columns]\n",
            "(500, 3)\n"
          ]
        }
      ]
    },
    {
      "cell_type": "code",
      "metadata": {
        "id": "gVAmRhg2Wc4v"
      },
      "source": [
        "labels_out = []\n",
        "for  index in range(len(text_data)):\n",
        "  temp = p[p['sentence_id']==index]\n",
        "  labels_out.append(\" \".join([temp[temp['words']==each]['labels'].values[0] if each in list(temp['words']) else 'blank' for each in text_data[index].split(\" \")]))"
      ],
      "execution_count": 17,
      "outputs": []
    },
    {
      "cell_type": "code",
      "metadata": {
        "colab": {
          "base_uri": "https://localhost:8080/"
        },
        "id": "j8OEKWsHXnyJ",
        "outputId": "a17bfa39-d487-40b8-d256-8a64302f1485"
      },
      "source": [
        "list(map(lambda x: x+ \" <eos>\", labels_out))"
      ],
      "execution_count": 23,
      "outputs": [
        {
          "output_type": "execute_result",
          "data": {
            "text/plain": [
              "['blank blank blank blank StationDest <eos>',\n",
              " 'blank blank blank Criterion Vehicle blank blank blank <eos>',\n",
              " 'blank blank blank Criterion Vehicle blank blank blank blank <eos>',\n",
              " 'blank blank blank blank StationDest <eos>',\n",
              " 'blank blank blank Criterion Vehicle blank blank blank blank StationDest <eos>']"
            ]
          },
          "metadata": {},
          "execution_count": 23
        }
      ]
    },
    {
      "cell_type": "code",
      "metadata": {
        "id": "W37lCEcjYa6R"
      },
      "source": [
        "import os, sys\n",
        "\n",
        "from keras.models import Model\n",
        "from keras.layers import Input, LSTM, GRU, Dense, Embedding\n",
        "from keras.preprocessing.text import Tokenizer\n",
        "from keras.preprocessing.sequence import pad_sequences\n",
        "from tensorflow.keras.utils import to_categorical\n",
        "import numpy as np\n",
        "import matplotlib.pyplot as plt"
      ],
      "execution_count": 20,
      "outputs": []
    },
    {
      "cell_type": "code",
      "metadata": {
        "id": "xD5nGTJ3YkdI"
      },
      "source": [
        "BATCH_SIZE = 64\n",
        "EPOCHS = 20\n",
        "LSTM_NODES =256\n",
        "NUM_SENTENCES = 500\n",
        "MAX_SENTENCE_LENGTH = 20\n",
        "MAX_NUM_WORDS = 2000\n",
        "EMBEDDING_SIZE = 50"
      ],
      "execution_count": 21,
      "outputs": []
    },
    {
      "cell_type": "code",
      "metadata": {
        "id": "AUsISkyzY6Dm"
      },
      "source": [
        "input_sentences = text_data\n",
        "output_sentences = list(map(lambda x: x+ \" <eos>\", labels_out))\n",
        "output_sentences_inputs = list(map(lambda x:  \"<sos> \"+x, labels_out))\n"
      ],
      "execution_count": 24,
      "outputs": []
    },
    {
      "cell_type": "code",
      "metadata": {
        "id": "BmWqbJIgZ4mb"
      },
      "source": [
        "input_tokenizer = Tokenizer(num_words=MAX_NUM_WORDS)\n",
        "input_tokenizer.fit_on_texts(input_sentences)\n",
        "input_integer_seq = input_tokenizer.texts_to_sequences(input_sentences)\n",
        "\n"
      ],
      "execution_count": 28,
      "outputs": []
    },
    {
      "cell_type": "code",
      "metadata": {
        "colab": {
          "base_uri": "https://localhost:8080/"
        },
        "id": "25irm4PvafBu",
        "outputId": "f096bc84-b790-4498-9c35-37ec4f7438d1"
      },
      "source": [
        "word2idx_inputs = input_tokenizer.word_index\n",
        "print('Total unique words in the input: %s' % len(word2idx_inputs))\n",
        "\n",
        "max_input_len = max(len(sen) for sen in input_integer_seq)\n",
        "print(\"Length of longest sentence in input: %g\" % max_input_len)\n"
      ],
      "execution_count": 30,
      "outputs": [
        {
          "output_type": "stream",
          "name": "stdout",
          "text": [
            "Total unique words in the input: 176\n"
          ]
        }
      ]
    },
    {
      "cell_type": "code",
      "metadata": {
        "colab": {
          "base_uri": "https://localhost:8080/"
        },
        "id": "MvxQow5LcU5G",
        "outputId": "5f3afb76-1040-4d97-83a5-70082f28d4b7"
      },
      "source": [
        "output_tokenizer = Tokenizer(num_words=MAX_NUM_WORDS, filters='')\n",
        "output_tokenizer.fit_on_texts(output_sentences + output_sentences_inputs)\n",
        "output_integer_seq = output_tokenizer.texts_to_sequences(output_sentences)\n",
        "output_input_integer_seq = output_tokenizer.texts_to_sequences(output_sentences_inputs)\n",
        "\n",
        "word2idx_outputs = output_tokenizer.word_index\n",
        "print('Total unique words in the output: %s' % len(word2idx_outputs))\n",
        "\n",
        "num_words_output = len(word2idx_outputs) + 1\n",
        "max_out_len = max(len(sen) for sen in output_integer_seq)\n",
        "print(\"Length of longest sentence in the output: %g\" % max_out_len)"
      ],
      "execution_count": 32,
      "outputs": [
        {
          "output_type": "stream",
          "name": "stdout",
          "text": [
            "Total unique words in the output: 9\n",
            "Length of longest sentence in the output: 18\n"
          ]
        }
      ]
    },
    {
      "cell_type": "code",
      "metadata": {
        "colab": {
          "base_uri": "https://localhost:8080/"
        },
        "id": "fAA_wRSocCoa",
        "outputId": "ad78acbf-948a-4abf-e60c-02513cae6442"
      },
      "source": [
        "encoder_input_sequences = pad_sequences(input_integer_seq, maxlen=max_input_len)\n",
        "print(\"encoder_input_sequences.shape:\", encoder_input_sequences.shape)\n",
        "print(\"encoder_input_sequences[172]:\", encoder_input_sequences[172])"
      ],
      "execution_count": 34,
      "outputs": [
        {
          "output_type": "stream",
          "name": "stdout",
          "text": [
            "encoder_input_sequences.shape: (206, 17)\n",
            "encoder_input_sequences[172]: [ 0  0  0  0  0  0  0  0  8 10  6  9  1 35  2  3 13]\n"
          ]
        }
      ]
    },
    {
      "cell_type": "code",
      "metadata": {
        "colab": {
          "base_uri": "https://localhost:8080/"
        },
        "id": "yR9KAvAKcx1Y",
        "outputId": "d020f881-4881-4d3d-d8d2-7565c9323a32"
      },
      "source": [
        "decoder_input_sequences = pad_sequences(output_input_integer_seq, maxlen=max_out_len, padding='post')\n",
        "print(\"decoder_input_sequences.shape:\", decoder_input_sequences.shape)\n",
        "print(\"decoder_input_sequences[172]:\", decoder_input_sequences[172])"
      ],
      "execution_count": 36,
      "outputs": [
        {
          "output_type": "stream",
          "name": "stdout",
          "text": [
            "decoder_input_sequences.shape: (206, 18)\n",
            "decoder_input_sequences[172]: [3 1 1 1 1 1 4 1 1 1 0 0 0 0 0 0 0 0]\n"
          ]
        }
      ]
    },
    {
      "cell_type": "code",
      "metadata": {
        "id": "Tdy74ygZcxXp"
      },
      "source": [
        "from numpy import array\n",
        "from numpy import asarray\n",
        "from numpy import zeros\n",
        "\n",
        "embeddings_dictionary = dict()\n",
        "\n",
        "glove_file = open(r'/content/glove.6B.50d.txt', encoding=\"utf8\")\n",
        "\n",
        "for line in glove_file:\n",
        "    records = line.split()\n",
        "    word = records[0]\n",
        "    vector_dimensions = asarray(records[1:], dtype='float32')\n",
        "    embeddings_dictionary[word] = vector_dimensions\n",
        "glove_file.close()"
      ],
      "execution_count": 42,
      "outputs": []
    },
    {
      "cell_type": "code",
      "metadata": {
        "colab": {
          "base_uri": "https://localhost:8080/"
        },
        "id": "aX6Vn93xdUVs",
        "outputId": "519e840f-de35-463c-abf7-cc647289e37b"
      },
      "source": [
        "len"
      ],
      "execution_count": 43,
      "outputs": [
        {
          "output_type": "execute_result",
          "data": {
            "text/plain": [
              "400000"
            ]
          },
          "metadata": {},
          "execution_count": 43
        }
      ]
    },
    {
      "cell_type": "code",
      "metadata": {
        "id": "mWGzIo56eniA"
      },
      "source": [
        "num_words = min(MAX_NUM_WORDS, len(word2idx_inputs) + 1)\n",
        "embedding_matrix = zeros((num_words, EMBEDDING_SIZE))\n",
        "for word, index in word2idx_inputs.items():\n",
        "    embedding_vector = embeddings_dictionary.get(word)\n",
        "    if embedding_vector is not None:\n",
        "        embedding_matrix[index] = embedding_vector"
      ],
      "execution_count": 46,
      "outputs": []
    },
    {
      "cell_type": "code",
      "metadata": {
        "id": "2Fy2vnn1e1Pj"
      },
      "source": [
        "for i, d in enumerate(decoder_output_sequences):\n",
        "    for t, word in enumerate(d):\n",
        "        decoder_targets_one_hot[i, t, word] = 1embedding_layer = Embedding(num_words, EMBEDDING_SIZE, weights=[embedding_matrix], input_length=max_input_len)"
      ],
      "execution_count": 49,
      "outputs": []
    },
    {
      "cell_type": "code",
      "metadata": {
        "id": "AiESeTpbe28d"
      },
      "source": [
        "decoder_targets_one_hot = np.zeros((\n",
        "        len(input_sentences),\n",
        "        max_out_len,\n",
        "        num_words_output\n",
        "    ),\n",
        "    dtype='float32'\n",
        ")"
      ],
      "execution_count": 50,
      "outputs": []
    },
    {
      "cell_type": "code",
      "metadata": {
        "colab": {
          "base_uri": "https://localhost:8080/"
        },
        "id": "gwl2VmFifSR_",
        "outputId": "275496bb-5af5-41aa-9666-05a53d5021ba"
      },
      "source": [
        "num_words_output"
      ],
      "execution_count": 52,
      "outputs": [
        {
          "output_type": "execute_result",
          "data": {
            "text/plain": [
              "10"
            ]
          },
          "metadata": {},
          "execution_count": 52
        }
      ]
    },
    {
      "cell_type": "code",
      "metadata": {
        "id": "4tWBKwe2fXKi"
      },
      "source": [
        ""
      ],
      "execution_count": null,
      "outputs": []
    },
    {
      "cell_type": "code",
      "metadata": {
        "id": "BTFCDwnUhABc"
      },
      "source": [
        "for i, d in enumerate(decoder_input_sequences):\n",
        "    for t, word in enumerate(d):\n",
        "        decoder_targets_one_hot[i, t, word] = 1"
      ],
      "execution_count": 55,
      "outputs": []
    },
    {
      "cell_type": "code",
      "metadata": {
        "id": "pBy__eRehE-q"
      },
      "source": [
        "encoder_inputs_placeholder = Input(shape=(max_input_len,))\n",
        "x = embedding_layer(encoder_inputs_placeholder)\n",
        "encoder = LSTM(LSTM_NODES, return_state=True)\n",
        "\n",
        "encoder_outputs, h, c = encoder(x)\n",
        "encoder_states = [h, c]"
      ],
      "execution_count": 57,
      "outputs": []
    },
    {
      "cell_type": "code",
      "metadata": {
        "id": "ATm_VR2lhGO8"
      },
      "source": [
        "decoder_inputs_placeholder = Input(shape=(max_out_len,))\n",
        "\n",
        "decoder_embedding = Embedding(num_words_output, LSTM_NODES)\n",
        "decoder_inputs_x = decoder_embedding(decoder_inputs_placeholder)\n",
        "\n",
        "decoder_lstm = LSTM(LSTM_NODES, return_sequences=True, return_state=True)\n",
        "decoder_outputs, _, _ = decoder_lstm(decoder_inputs_x, initial_state=encoder_states)"
      ],
      "execution_count": 58,
      "outputs": []
    },
    {
      "cell_type": "code",
      "metadata": {
        "id": "a2QbPsClhUni"
      },
      "source": [
        "decoder_dense = Dense(num_words_output, activation='softmax')\n",
        "decoder_outputs = decoder_dense(decoder_outputs)\n"
      ],
      "execution_count": 59,
      "outputs": []
    },
    {
      "cell_type": "code",
      "metadata": {
        "id": "rnrd46JwhYru"
      },
      "source": [
        "model = Model([encoder_inputs_placeholder,\n",
        "  decoder_inputs_placeholder], decoder_outputs)\n",
        "model.compile(\n",
        "    optimizer='rmsprop',\n",
        "    loss='categorical_crossentropy',\n",
        "    metrics=['accuracy']\n",
        ")"
      ],
      "execution_count": 60,
      "outputs": []
    },
    {
      "cell_type": "code",
      "metadata": {
        "colab": {
          "base_uri": "https://localhost:8080/",
          "height": 533
        },
        "id": "a1phFgsbhbFZ",
        "outputId": "d6976cb9-7da4-41e7-c6e6-d0b07c0bb96d"
      },
      "source": [
        "from tensorflow.keras.utils import plot_model\n",
        "plot_model(model, to_file='model_plot4a.png', show_shapes=True, show_layer_names=True)"
      ],
      "execution_count": 62,
      "outputs": [
        {
          "output_type": "execute_result",
          "data": {
            "image/png": "[encoded data removed]",
            "text/plain": [
              "<IPython.core.display.Image object>"
            ]
          },
          "metadata": {},
          "execution_count": 62
        }
      ]
    },
    {
      "cell_type": "code",
      "metadata": {
        "colab": {
          "base_uri": "https://localhost:8080/"
        },
        "id": "RSrcP-jKheTO",
        "outputId": "0bde49e4-cf9b-43ad-c9d2-ea66ce98d0e0"
      },
      "source": [
        "r = model.fit(\n",
        "    [encoder_input_sequences, decoder_input_sequences],\n",
        "    decoder_targets_one_hot,\n",
        "    batch_size=BATCH_SIZE,\n",
        "    epochs=EPOCHS,\n",
        "    validation_split=0.1,\n",
        ")"
      ],
      "execution_count": 63,
      "outputs": [
        {
          "output_type": "stream",
          "name": "stdout",
          "text": [
            "Epoch 1/20\n",
            "3/3 [==============================] - 9s 478ms/step - loss: 1.7358 - accuracy: 0.4925 - val_loss: 1.2417 - val_accuracy: 0.5820\n",
            "Epoch 2/20\n",
            "3/3 [==============================] - 0s 36ms/step - loss: 1.0221 - accuracy: 0.7126 - val_loss: 0.7240 - val_accuracy: 0.8307\n",
            "Epoch 3/20\n",
            "3/3 [==============================] - 0s 38ms/step - loss: 0.6269 - accuracy: 0.8297 - val_loss: 0.5632 - val_accuracy: 0.8810\n",
            "Epoch 4/20\n",
            "3/3 [==============================] - 0s 46ms/step - loss: 0.5244 - accuracy: 0.8802 - val_loss: 0.5162 - val_accuracy: 0.8783\n",
            "Epoch 5/20\n",
            "3/3 [==============================] - 0s 42ms/step - loss: 0.5307 - accuracy: 0.8372 - val_loss: 0.5083 - val_accuracy: 0.8598\n",
            "Epoch 6/20\n",
            "3/3 [==============================] - 0s 39ms/step - loss: 0.4623 - accuracy: 0.8769 - val_loss: 0.4183 - val_accuracy: 0.8942\n",
            "Epoch 7/20\n",
            "3/3 [==============================] - 0s 37ms/step - loss: 0.3801 - accuracy: 0.8976 - val_loss: 0.3712 - val_accuracy: 0.8889\n",
            "Epoch 8/20\n",
            "3/3 [==============================] - 0s 38ms/step - loss: 0.4232 - accuracy: 0.8583 - val_loss: 0.4197 - val_accuracy: 0.8730\n",
            "Epoch 9/20\n",
            "3/3 [==============================] - 0s 41ms/step - loss: 0.3429 - accuracy: 0.8925 - val_loss: 0.3068 - val_accuracy: 0.9021\n",
            "Epoch 10/20\n",
            "3/3 [==============================] - 0s 45ms/step - loss: 0.2847 - accuracy: 0.9075 - val_loss: 0.2620 - val_accuracy: 0.9101\n",
            "Epoch 11/20\n",
            "3/3 [==============================] - 0s 40ms/step - loss: 0.2433 - accuracy: 0.9240 - val_loss: 0.2385 - val_accuracy: 0.9021\n",
            "Epoch 12/20\n",
            "3/3 [==============================] - 0s 41ms/step - loss: 0.2417 - accuracy: 0.9219 - val_loss: 0.2559 - val_accuracy: 0.9127\n",
            "Epoch 13/20\n",
            "3/3 [==============================] - 0s 44ms/step - loss: 0.2447 - accuracy: 0.9183 - val_loss: 0.1836 - val_accuracy: 0.9603\n",
            "Epoch 14/20\n",
            "3/3 [==============================] - 0s 43ms/step - loss: 0.1646 - accuracy: 0.9661 - val_loss: 0.1452 - val_accuracy: 0.9550\n",
            "Epoch 15/20\n",
            "3/3 [==============================] - 0s 37ms/step - loss: 0.1356 - accuracy: 0.9718 - val_loss: 0.1227 - val_accuracy: 0.9656\n",
            "Epoch 16/20\n",
            "3/3 [==============================] - 0s 38ms/step - loss: 0.1170 - accuracy: 0.9781 - val_loss: 0.1248 - val_accuracy: 0.9709\n",
            "Epoch 17/20\n",
            "3/3 [==============================] - 0s 42ms/step - loss: 0.1783 - accuracy: 0.9535 - val_loss: 0.1487 - val_accuracy: 0.9683\n",
            "Epoch 18/20\n",
            "3/3 [==============================] - 0s 43ms/step - loss: 0.1085 - accuracy: 0.9841 - val_loss: 0.0779 - val_accuracy: 0.9868\n",
            "Epoch 19/20\n",
            "3/3 [==============================] - 0s 42ms/step - loss: 0.0779 - accuracy: 0.9907 - val_loss: 0.0646 - val_accuracy: 0.9921\n",
            "Epoch 20/20\n",
            "3/3 [==============================] - 0s 38ms/step - loss: 0.0651 - accuracy: 0.9937 - val_loss: 0.0522 - val_accuracy: 0.9921\n"
          ]
        }
      ]
    },
    {
      "cell_type": "code",
      "metadata": {
        "id": "kCPqwleRhqBq"
      },
      "source": [
        "encoder_model = Model(encoder_inputs_placeholder, encoder_states)\n",
        "decoder_state_input_h = Input(shape=(LSTM_NODES,))\n",
        "decoder_state_input_c = Input(shape=(LSTM_NODES,))\n",
        "decoder_states_inputs = [decoder_state_input_h, decoder_state_input_c]\n",
        "decoder_inputs_single = Input(shape=(1,))\n",
        "decoder_inputs_single_x = decoder_embedding(decoder_inputs_single)\n",
        "decoder_outputs, h, c = decoder_lstm(decoder_inputs_single_x, initial_state=decoder_states_inputs)\n",
        "decoder_states = [h, c]\n",
        "decoder_outputs = decoder_dense(decoder_outputs)\n",
        "decoder_model = Model(\n",
        "    [decoder_inputs_single] + decoder_states_inputs,\n",
        "    [decoder_outputs] + decoder_states\n",
        ")\n"
      ],
      "execution_count": 64,
      "outputs": []
    },
    {
      "cell_type": "code",
      "metadata": {
        "colab": {
          "base_uri": "https://localhost:8080/",
          "height": 422
        },
        "id": "kYsbHvVjin4s",
        "outputId": "2dc79a99-54f4-4cd2-ebaf-be42d6287dd8"
      },
      "source": [
        "plot_model(decoder_model, to_file='model_plot_dec.png', show_shapes=True, show_layer_names=True)\n"
      ],
      "execution_count": 66,
      "outputs": [
        {
          "output_type": "execute_result",
          "data": {
            "image/png": "[encoded data removed]",
            "text/plain": [
              "<IPython.core.display.Image object>"
            ]
          },
          "metadata": {},
          "execution_count": 66
        }
      ]
    },
    {
      "cell_type": "code",
      "metadata": {
        "id": "D0hCrE82ioTA"
      },
      "source": [
        "idx2word_input = {v:k for k, v in word2idx_inputs.items()}\n",
        "idx2word_target = {v:k for k, v in word2idx_outputs.items()}"
      ],
      "execution_count": 67,
      "outputs": []
    },
    {
      "cell_type": "code",
      "metadata": {
        "id": "TayQETW6iwnn"
      },
      "source": [
        "def translate_sentence(input_seq):\n",
        "    states_value = encoder_model.predict(input_seq)\n",
        "    target_seq = np.zeros((1, 1))\n",
        "    target_seq[0, 0] = word2idx_outputs['<sos>']\n",
        "    eos = word2idx_outputs['<eos>']\n",
        "    output_sentence = []\n",
        "\n",
        "    for _ in range(max_out_len):\n",
        "        output_tokens, h, c = decoder_model.predict([target_seq] + states_value)\n",
        "        idx = np.argmax(output_tokens[0, 0, :])\n",
        "\n",
        "        if eos == idx:\n",
        "            break\n",
        "\n",
        "        word = ''\n",
        "\n",
        "        if idx > 0:\n",
        "            word = idx2word_target[idx]\n",
        "            output_sentence.append(word)\n",
        "\n",
        "        target_seq[0, 0] = idx\n",
        "        states_value = [h, c]\n",
        "\n",
        "    return ' '.join(output_sentence)"
      ],
      "execution_count": 68,
      "outputs": []
    },
    {
      "cell_type": "code",
      "metadata": {
        "colab": {
          "base_uri": "https://localhost:8080/"
        },
        "id": "olkGoRgti2Gb",
        "outputId": "d2e39375-9464-47f9-a00a-ae19188719ee"
      },
      "source": [
        "i = 30\n",
        "input_seq = encoder_input_sequences[i:i+1]\n",
        "translation = translate_sentence(input_seq)\n",
        "print('-')\n",
        "print('Input:', input_sentences[i])\n",
        "print('Response:', translation)"
      ],
      "execution_count": 71,
      "outputs": [
        {
          "output_type": "stream",
          "name": "stdout",
          "text": [
            "-\n",
            "Input: how can i get from moosach to quiddestraße?\n",
            "Response: <sos> blank blank blank blank blank blank blank blank blank blank blank blank blank blank blank blank blank\n"
          ]
        }
      ]
    },
    {
      "cell_type": "code",
      "metadata": {
        "id": "jCN51mwai71D"
      },
      "source": [
        ""
      ],
      "execution_count": null,
      "outputs": []
    },
    {
      "cell_type": "markdown",
      "metadata": {
        "id": "QRYNCoZXCI1f"
      },
      "source": [
        "# **Intent finding / Classification Problem**"
      ]
    },
    {
      "cell_type": "markdown",
      "metadata": {
        "id": "waVdoFiyYSq6"
      },
      "source": [
        "## **data preprocessing**"
      ]
    },
    {
      "cell_type": "code",
      "metadata": {
        "colab": {
          "base_uri": "https://localhost:8080/",
          "height": 265
        },
        "id": "tYFZv49_CRSS",
        "outputId": "f587878e-6e44-4e4c-911f-d19e0717d2a7"
      },
      "source": [
        "import matplotlib.pyplot as plt\n",
        "plt.bar(list(set(intent)), [intent.count(each) for each in set(intent)])\n",
        "plt.show()"
      ],
      "execution_count": 16,
      "outputs": [
        {
          "output_type": "display_data",
          "data": {
            "image/png": "[encoded data removed]",
            "text/plain": [
              "<Figure size 432x288 with 1 Axes>"
            ]
          },
          "metadata": {
            "needs_background": "light"
          }
        }
      ]
    },
    {
      "cell_type": "code",
      "metadata": {
        "colab": {
          "base_uri": "https://localhost:8080/"
        },
        "id": "WbRkkURnDEcm",
        "outputId": "3600d9ca-6897-40d6-d82a-a4cd3fa4f321"
      },
      "source": [
        "#All Imports\n",
        "import pandas as pd\n",
        "import numpy as np\n",
        "from matplotlib import pyplot as plt\n",
        "import nltk\n",
        "nltk.download('stopwords')\n",
        "from nltk.stem.porter import PorterStemmer\n",
        "from nltk.corpus import stopwords \n",
        "from bs4 import BeautifulSoup\n",
        "nltk.download('wordnet')"
      ],
      "execution_count": 12,
      "outputs": [
        {
          "output_type": "stream",
          "name": "stdout",
          "text": [
            "[nltk_data] Downloading package stopwords to /root/nltk_data...\n",
            "[nltk_data]   Package stopwords is already up-to-date!\n",
            "[nltk_data] Downloading package wordnet to /root/nltk_data...\n",
            "[nltk_data]   Package wordnet is already up-to-date!\n"
          ]
        },
        {
          "output_type": "execute_result",
          "data": {
            "text/plain": [
              "True"
            ]
          },
          "metadata": {},
          "execution_count": 12
        }
      ]
    },
    {
      "cell_type": "code",
      "metadata": {
        "id": "qGFCqYHHFGdG"
      },
      "source": [
        "def remove_shorts(text):\n",
        "  return \" \".join([each for each in text.split() if len(each)>2])\n",
        "\n",
        "clean_text_data = [remove_shorts(each) for each in text_data]"
      ],
      "execution_count": 6,
      "outputs": []
    },
    {
      "cell_type": "code",
      "metadata": {
        "id": "TUSwRDE3FO7p"
      },
      "source": [
        "clean_text_data"
      ],
      "execution_count": null,
      "outputs": []
    },
    {
      "cell_type": "code",
      "metadata": {
        "id": "MNVDMtHHGRbr"
      },
      "source": [
        "#Expanding Contractions\n",
        "import re\n",
        "cList = {\n",
        "  \"ain't\": \"am not\",\n",
        "  \"aren't\": \"are not\",\n",
        "  \"can't\": \"cannot\",\n",
        "  \"can't've\": \"cannot have\",\n",
        "  \"'cause\": \"because\",\n",
        "  \"could've\": \"could have\",\n",
        "  \"couldn't\": \"could not\",\n",
        "  \"couldn't've\": \"could not have\",\n",
        "  \"didn't\": \"did not\",\n",
        "  \"doesn't\": \"does not\",\n",
        "  \"don't\": \"do not\",\n",
        "  \"hadn't\": \"had not\",\n",
        "  \"hadn't've\": \"had not have\",\n",
        "  \"hasn't\": \"has not\",\n",
        "  \"haven't\": \"have not\",\n",
        "  \"he'd\": \"he would\",\n",
        "  \"he'd've\": \"he would have\",\n",
        "  \"he'll\": \"he will\",\n",
        "  \"he'll've\": \"he will have\",\n",
        "  \"he's\": \"he is\",\n",
        "  \"how'd\": \"how did\",\n",
        "  \"how'd'y\": \"how do you\",\n",
        "  \"how'll\": \"how will\",\n",
        "  \"how's\": \"how is\",\n",
        "  \"I'd\": \"I would\",\n",
        "  \"I'd've\": \"I would have\",\n",
        "  \"I'll\": \"I will\",\n",
        "  \"I'll've\": \"I will have\",\n",
        "  \"I'm\": \"I am\",\n",
        "  \"I've\": \"I have\",\n",
        "  \"isn't\": \"is not\",\n",
        "  \"it'd\": \"it had\",\n",
        "  \"it'd've\": \"it would have\",\n",
        "  \"it'll\": \"it will\",\n",
        "  \"it'll've\": \"it will have\",\n",
        "  \"it's\": \"it is\",\n",
        "  \"let's\": \"let us\",\n",
        "  \"ma'am\": \"madam\",\n",
        "  \"mayn't\": \"may not\",\n",
        "  \"might've\": \"might have\",\n",
        "  \"mightn't\": \"might not\",\n",
        "  \"mightn't've\": \"might not have\",\n",
        "  \"must've\": \"must have\",\n",
        "  \"mustn't\": \"must not\",\n",
        "  \"mustn't've\": \"must not have\",\n",
        "  \"needn't\": \"need not\",\n",
        "  \"needn't've\": \"need not have\",\n",
        "  \"o'clock\": \"of the clock\",\n",
        "  \"oughtn't\": \"ought not\",\n",
        "  \"oughtn't've\": \"ought not have\",\n",
        "  \"shan't\": \"shall not\",\n",
        "  \"sha'n't\": \"shall not\",\n",
        "  \"shan't've\": \"shall not have\",\n",
        "  \"she'd\": \"she would\",\n",
        "  \"she'd've\": \"she would have\",\n",
        "  \"she'll\": \"she will\",\n",
        "  \"she'll've\": \"she will have\",\n",
        "  \"she's\": \"she is\",\n",
        "  \"should've\": \"should have\",\n",
        "  \"shouldn't\": \"should not\",\n",
        "  \"shouldn't've\": \"should not have\",\n",
        "  \"so've\": \"so have\",\n",
        "  \"so's\": \"so is\",\n",
        "  \"that'd\": \"that would\",\n",
        "  \"that'd've\": \"that would have\",\n",
        "  \"that's\": \"that is\",\n",
        "  \"there'd\": \"there had\",\n",
        "  \"there'd've\": \"there would have\",\n",
        "  \"there's\": \"there is\",\n",
        "  \"they'd\": \"they would\",\n",
        "  \"they'd've\": \"they would have\",\n",
        "  \"they'll\": \"they will\",\n",
        "  \"they'll've\": \"they will have\",\n",
        "  \"they're\": \"they are\",\n",
        "  \"they've\": \"they have\",\n",
        "  \"to've\": \"to have\",\n",
        "  \"wasn't\": \"was not\",\n",
        "  \"we'd\": \"we had\",\n",
        "  \"we'd've\": \"we would have\",\n",
        "  \"we'll\": \"we will\",\n",
        "  \"we'll've\": \"we will have\",\n",
        "  \"we're\": \"we are\",\n",
        "  \"we've\": \"we have\",\n",
        "  \"weren't\": \"were not\",\n",
        "  \"what'll\": \"what will\",\n",
        "  \"what'll've\": \"what will have\",\n",
        "  \"what're\": \"what are\",\n",
        "  \"what's\": \"what is\",\n",
        "  \"what've\": \"what have\",\n",
        "  \"when's\": \"when is\",\n",
        "  \"when've\": \"when have\",\n",
        "  \"where'd\": \"where did\",\n",
        "  \"where's\": \"where is\",\n",
        "  \"where've\": \"where have\",\n",
        "  \"who'll\": \"who will\",\n",
        "  \"who'll've\": \"who will have\",\n",
        "  \"who's\": \"who is\",\n",
        "  \"who've\": \"who have\",\n",
        "  \"why's\": \"why is\",\n",
        "  \"why've\": \"why have\",\n",
        "  \"will've\": \"will have\",\n",
        "  \"won't\": \"will not\",\n",
        "  \"won't've\": \"will not have\",\n",
        "  \"would've\": \"would have\",\n",
        "  \"wouldn't\": \"would not\",\n",
        "  \"wouldn't've\": \"would not have\",\n",
        "  \"y'all\": \"you all\",\n",
        "  \"y'alls\": \"you alls\",\n",
        "  \"y'all'd\": \"you all would\",\n",
        "  \"y'all'd've\": \"you all would have\",\n",
        "  \"y'all're\": \"you all are\",\n",
        "  \"y'all've\": \"you all have\",\n",
        "  \"you'd\": \"you had\",\n",
        "  \"you'd've\": \"you would have\",\n",
        "  \"you'll\": \"you you will\",\n",
        "  \"you'll've\": \"you you will have\",\n",
        "  \"you're\": \"you are\",\n",
        "  \"you've\": \"you have\"\n",
        "}\n",
        "\n",
        "c_re = re.compile('(%s)' % '|'.join(cList.keys()))\n",
        "\n",
        "def expandContractions(text, c_re=c_re):\n",
        "    def replace(match):\n",
        "        return cList[match.group(0)]\n",
        "    return c_re.sub(replace, text)\n",
        "\n",
        "clean_text_data = [expandContractions(each) for each in clean_text_data]\n",
        "\n",
        "#train['title']=train['title'].apply(expandContractions)\n",
        "#train['text']=train['text'].apply(expandContractions)"
      ],
      "execution_count": 22,
      "outputs": []
    },
    {
      "cell_type": "code",
      "metadata": {
        "id": "ngrZHnq3HpBS"
      },
      "source": [
        "import re\n",
        "REPLACE_BY_SPACE_RE = re.compile('[/(){}\\[\\]\\|@,;+_]')\n",
        "BAD_SYMBOLS_RE = re.compile('[^0-9a-z #+_]')\n",
        "STOPWORDS = set(stopwords.words('english'))\n",
        "def clean_text(text):\n",
        "\n",
        "    text = BeautifulSoup(text, \"lxml\").text # HTML decoding\n",
        "    text = REPLACE_BY_SPACE_RE.sub(' ', text) # replace REPLACE_BY_SPACE_RE symbols by space in text\n",
        "    text = BAD_SYMBOLS_RE.sub(' ', text) # delete symbols which are in BAD_SYMBOLS_RE from text\n",
        "    text = ' '.join(word for word in text.split() if word not in STOPWORDS) # delete stopwors from text\n",
        "    return text\n",
        "\n",
        "clean_text_data = [clean_text(each) for each in clean_text_data]\n"
      ],
      "execution_count": 8,
      "outputs": []
    },
    {
      "cell_type": "code",
      "metadata": {
        "id": "tHwcEeNjHqOd"
      },
      "source": [
        "lemmatizer = nltk.stem.WordNetLemmatizer()\n",
        "prostem = nltk.stem.PorterStemmer()\n",
        "\n",
        "def normalize(text , lemmatizer= lemmatizer, prostem = prostem):\n",
        "  return \" \".join(prostem.stem(lemmatizer.lemmatize(each)) for each in text.split())\n",
        "\n",
        "def only_stem(text , lemmatizer= lemmatizer, prostem = prostem):\n",
        "  return \" \".join(prostem.stem(each) for each in text.split())\n",
        "\n",
        "clean_text_data = [only_stem(each) for each in clean_text_data]\n"
      ],
      "execution_count": 10,
      "outputs": []
    },
    {
      "cell_type": "markdown",
      "metadata": {
        "id": "AzhHrTLgYM-u"
      },
      "source": [
        "## **Model training**"
      ]
    },
    {
      "cell_type": "code",
      "metadata": {
        "colab": {
          "base_uri": "https://localhost:8080/"
        },
        "id": "7yz5k3hkTmUt",
        "outputId": "067812ac-5e49-4f2f-9320-d1c263716bca"
      },
      "source": [
        "from sklearn.model_selection import KFold, cross_val_score, train_test_split\n",
        "\n",
        "x= clean_text_data\n",
        "y=[1 if each=='FindConnection' else 0  for each in intent]\n",
        "\n",
        "\n",
        "from sklearn.feature_extraction.text import TfidfVectorizer\n",
        "from sklearn.feature_extraction.text import CountVectorizer\n",
        "tfidf_v=TfidfVectorizer(max_features=10000,ngram_range=(1,2))\n",
        "X=tfidf_v.fit_transform(x).toarray()\n",
        "\n",
        "X_train, X_test, y_train, y_test = train_test_split(X, y, test_size=0.05, random_state=42)\n",
        "\n",
        "\n",
        "#Logistic regression\n",
        "from sklearn.linear_model import LogisticRegression\n",
        "modellr = LogisticRegression(random_state=0)\n",
        "modellr.fit(X, y)\n",
        "print(\"deone lr\")\n",
        "\n",
        "#Random forest\n",
        "from sklearn.ensemble import RandomForestClassifier\n",
        "modelrf = RandomForestClassifier()\n",
        "modelrf.fit(X, y)\n",
        "print('done rf')\n"
      ],
      "execution_count": 18,
      "outputs": [
        {
          "output_type": "stream",
          "name": "stdout",
          "text": [
            "deone lr\n",
            "done rf\n"
          ]
        }
      ]
    },
    {
      "cell_type": "code",
      "metadata": {
        "colab": {
          "base_uri": "https://localhost:8080/"
        },
        "id": "ZL1mp0uWUKe9",
        "outputId": "181e4b1f-055b-4563-b095-d848b2460e4d"
      },
      "source": [
        "import numpy as np\n",
        "import tensorflow as tf\n",
        "from tensorflow.keras.layers import Embedding\n",
        "from tensorflow.keras.preprocessing.sequence import pad_sequences\n",
        "from tensorflow.keras.models import Sequential\n",
        "from tensorflow.keras.preprocessing.text import one_hot\n",
        "from tensorflow.keras.layers import LSTM\n",
        "from tensorflow.keras.layers import Dense\n",
        "from tensorflow.keras.preprocessing.text import Tokenizer\n",
        "\n",
        "\n",
        "x= clean_text_data\n",
        "vocab_size = 10000\n",
        "tokenizer = Tokenizer(oov_token = \"<OOV>\", num_words=vocab_size)\n",
        "tokenizer.fit_on_texts(x)\n",
        "word_index = tokenizer.word_index\n",
        "print(len(word_index))\n",
        "\n",
        "sent_length = 15\n",
        "sequences = tokenizer.texts_to_sequences(x)\n",
        "padded = pad_sequences(sequences, padding = 'post', maxlen=sent_length)\n",
        "print(padded[0])\n",
        "print(padded.shape)\n",
        "embedded_docs=padded\n",
        "\n",
        "from tensorflow.keras.layers import Dropout\n",
        "embedding_vector_features=16\n",
        "model=Sequential()\n",
        "model.add(Embedding(vocab_size,embedding_vector_features,input_length=sent_length))\n",
        "model.add(Dropout(0.2))\n",
        "model.add(LSTM(16))\n",
        "model.add(Dropout(0.2))\n",
        "model.add(Dense(1,activation='sigmoid'))\n",
        "model.compile(loss='binary_crossentropy',optimizer='adam',metrics=['accuracy'])\n",
        "\n",
        "y=[1 if each=='FindConnection' else 0  for each in intent]\n",
        "\n",
        "X_final=np.array(embedded_docs)\n",
        "y_final=np.array(y)\n",
        "\n",
        "from sklearn.model_selection import train_test_split\n",
        "X_train, X_test, y_train, y_test = train_test_split(X_final, y_final, test_size=0.2, random_state=42)\n",
        "\n",
        "model.fit(X_train,y_train,validation_data=(X_test,y_test),epochs=10,batch_size=64)\n",
        "print(\"trained NN model successfully\")"
      ],
      "execution_count": 22,
      "outputs": [
        {
          "output_type": "stream",
          "name": "stdout",
          "text": [
            "140\n",
            "[30 14  0  0  0  0  0  0  0  0  0  0  0  0  0]\n",
            "(206, 15)\n",
            "Epoch 1/10\n",
            "3/3 [==============================] - 7s 269ms/step - loss: 0.6937 - accuracy: 0.4756 - val_loss: 0.6899 - val_accuracy: 0.6667\n",
            "Epoch 2/10\n",
            "3/3 [==============================] - 0s 17ms/step - loss: 0.6904 - accuracy: 0.6098 - val_loss: 0.6849 - val_accuracy: 0.6667\n",
            "Epoch 3/10\n",
            "3/3 [==============================] - 0s 17ms/step - loss: 0.6872 - accuracy: 0.6098 - val_loss: 0.6805 - val_accuracy: 0.6667\n",
            "Epoch 4/10\n",
            "3/3 [==============================] - 0s 19ms/step - loss: 0.6845 - accuracy: 0.6098 - val_loss: 0.6758 - val_accuracy: 0.6667\n",
            "Epoch 5/10\n",
            "3/3 [==============================] - 0s 18ms/step - loss: 0.6803 - accuracy: 0.6098 - val_loss: 0.6710 - val_accuracy: 0.6667\n",
            "Epoch 6/10\n",
            "3/3 [==============================] - 0s 17ms/step - loss: 0.6813 - accuracy: 0.6098 - val_loss: 0.6660 - val_accuracy: 0.6667\n",
            "Epoch 7/10\n",
            "3/3 [==============================] - 0s 18ms/step - loss: 0.6748 - accuracy: 0.6098 - val_loss: 0.6607 - val_accuracy: 0.6667\n",
            "Epoch 8/10\n",
            "3/3 [==============================] - 0s 21ms/step - loss: 0.6721 - accuracy: 0.6098 - val_loss: 0.6550 - val_accuracy: 0.6667\n",
            "Epoch 9/10\n",
            "3/3 [==============================] - 0s 18ms/step - loss: 0.6692 - accuracy: 0.6098 - val_loss: 0.6494 - val_accuracy: 0.6667\n",
            "Epoch 10/10\n",
            "3/3 [==============================] - 0s 19ms/step - loss: 0.6634 - accuracy: 0.6098 - val_loss: 0.6434 - val_accuracy: 0.6667\n",
            "trained NN model successfully\n"
          ]
        }
      ]
    },
    {
      "cell_type": "markdown",
      "metadata": {
        "id": "7bxxwyJ7YG8u"
      },
      "source": [
        "## **Ensamble prediction**"
      ]
    },
    {
      "cell_type": "code",
      "metadata": {
        "id": "9RlwHaYTVsOt"
      },
      "source": [
        "pred_NN = model.predict(X_test)\n",
        "pred_NN =[1 if each>0.5 else 0 for each in pred_NN]\n",
        "#3from sklearn.metrics import precision_recall_fscore_support\n",
        "#recision_recall_fscore_support(y_test, pred_NN)"
      ],
      "execution_count": 27,
      "outputs": []
    },
    {
      "cell_type": "code",
      "metadata": {
        "id": "gYjpcpKEVsl4"
      },
      "source": [
        "pred_NN"
      ],
      "execution_count": null,
      "outputs": []
    },
    {
      "cell_type": "code",
      "metadata": {
        "id": "eQ4Xk8e-WoR5"
      },
      "source": [
        "test_data = ['lets begin from jungle and end at home']\n",
        "X=tfidf_v.transform(test_data).toarray()\n",
        "\n",
        "#ensamble predicton\n",
        "\n",
        "\n",
        "pred_modellr = modellr.predict(X)\n",
        "pred_modelrf = modelrf.predict(X)"
      ],
      "execution_count": 30,
      "outputs": []
    },
    {
      "cell_type": "code",
      "metadata": {
        "id": "OXm4zKYQXOnx"
      },
      "source": [
        "test_sequences = tokenizer.texts_to_sequences(test_data)\n",
        "test_padded = pad_sequences(test_sequences, padding = 'post', maxlen=sent_length)\n",
        "\n",
        "\n",
        "X_final=np.array(test_padded)\n",
        "pred_NN = [1 if each>0.5 else 0 for each in model.predict(X_final)]"
      ],
      "execution_count": 36,
      "outputs": []
    },
    {
      "cell_type": "code",
      "metadata": {
        "id": "Y0WORmvrXaRL"
      },
      "source": [
        "pred=[]\n",
        "for index in range(len(pred_NN)):\n",
        "  pred.append(int((pred_NN[index]*0.4) + (pred_modelrf[index]*0.3) + (pred_modellr[index]*0.3)))"
      ],
      "execution_count": 38,
      "outputs": []
    },
    {
      "cell_type": "code",
      "metadata": {
        "colab": {
          "base_uri": "https://localhost:8080/"
        },
        "id": "VCDMiuuHX5r0",
        "outputId": "7af6909f-fbc6-4f5c-f9c9-7943ba6b0cc1"
      },
      "source": [
        "pred"
      ],
      "execution_count": 39,
      "outputs": [
        {
          "output_type": "execute_result",
          "data": {
            "text/plain": [
              "[1]"
            ]
          },
          "metadata": {},
          "execution_count": 39
        }
      ]
    },
    {
      "cell_type": "code",
      "metadata": {
        "id": "Kp0bDSypX_7P"
      },
      "source": [
        ""
      ],
      "execution_count": null,
      "outputs": []
    }
  ]
}